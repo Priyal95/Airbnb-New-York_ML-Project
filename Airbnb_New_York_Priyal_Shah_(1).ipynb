{
  "cells": [
    {
      "cell_type": "markdown",
      "metadata": {
        "id": "view-in-github",
        "colab_type": "text"
      },
      "source": [
        "<a href=\"https://colab.research.google.com/github/Priyal95/Airbnb-New-York_ML-Project/blob/main/Airbnb_New_York_Priyal_Shah_(1).ipynb\" target=\"_parent\"><img src=\"https://colab.research.google.com/assets/colab-badge.svg\" alt=\"Open In Colab\"/></a>"
      ]
    },
    {
      "cell_type": "code",
      "execution_count": null,
      "metadata": {
        "id": "t52o4Z_rsWKb"
      },
      "outputs": [],
      "source": [
        "from sklearn.model_selection import cross_validate\n",
        "from sklearn.model_selection import train_test_split\n",
        "from sklearn.metrics import mean_squared_error\n",
        "from sklearn import datasets\n",
        "from sklearn.metrics import accuracy_score\n",
        "from sklearn.neighbors import KNeighborsClassifier\n",
        "import pandas as pd\n",
        "import numpy as np\n",
        "import matplotlib.pyplot as plt\n",
        "import seaborn as sns\n",
        "from sklearn.metrics import mean_absolute_error"
      ]
    },
    {
      "cell_type": "code",
      "execution_count": null,
      "metadata": {
        "id": "duIHG2TusoQ6"
      },
      "outputs": [],
      "source": [
        "import pandas as pd\n",
        "import numpy as np\n",
        "import matplotlib.pyplot as plt\n",
        "import seaborn as sns\n"
      ]
    },
    {
      "cell_type": "code",
      "execution_count": null,
      "metadata": {
        "id": "fKJ49eIzsw48"
      },
      "outputs": [],
      "source": [
        "from sklearn.model_selection import cross_validate\n",
        "from sklearn.model_selection import train_test_split\n",
        "from sklearn.metrics import mean_squared_error\n",
        "from sklearn import datasets\n",
        "from sklearn.metrics import accuracy_score\n",
        "from sklearn import tree\n",
        "from sklearn.tree import DecisionTreeRegressor\n",
        "from sklearn.tree import DecisionTreeClassifier\n",
        "from sklearn.tree import export_text"
      ]
    },
    {
      "cell_type": "code",
      "execution_count": null,
      "metadata": {
        "colab": {
          "base_uri": "https://localhost:8080/"
        },
        "id": "H2Kx3prxsxgu",
        "outputId": "6308ef1d-dcd6-4760-9a52-a9b8d2f1000e"
      },
      "outputs": [
        {
          "output_type": "stream",
          "name": "stderr",
          "text": [
            "/usr/local/lib/python3.7/dist-packages/statsmodels/tools/_testing.py:19: FutureWarning: pandas.util.testing is deprecated. Use the functions in the public API at pandas.testing instead.\n",
            "  import pandas.util.testing as tm\n"
          ]
        }
      ],
      "source": [
        "from sklearn.model_selection import cross_validate\n",
        "from sklearn.model_selection import train_test_split\n",
        "from sklearn.metrics import mean_squared_error\n",
        "from sklearn import datasets\n",
        "from sklearn.metrics import accuracy_score\n",
        "from sklearn import tree\n",
        "from sklearn.tree import DecisionTreeClassifier\n",
        "from sklearn.tree import DecisionTreeClassifier\n",
        "from sklearn.ensemble import RandomForestClassifier\n",
        "from sklearn.ensemble import GradientBoostingClassifier\n",
        "from sklearn.ensemble import BaggingClassifier\n",
        "from sklearn.linear_model import LogisticRegression\n",
        "from sklearn.linear_model import LinearRegression as ols\n",
        "from statsmodels.stats.outliers_influence import variance_inflation_factor"
      ]
    },
    {
      "cell_type": "code",
      "execution_count": null,
      "metadata": {
        "colab": {
          "base_uri": "https://localhost:8080/"
        },
        "id": "SbmYDSyIs-3D",
        "outputId": "998dd6be-3c1d-4437-dad1-3acd26a45fac"
      },
      "outputs": [
        {
          "output_type": "stream",
          "name": "stdout",
          "text": [
            "Mounted at /content/drive\n"
          ]
        }
      ],
      "source": [
        "from google.colab import drive\n",
        "drive.mount('/content/drive')"
      ]
    },
    {
      "cell_type": "code",
      "execution_count": null,
      "metadata": {
        "colab": {
          "base_uri": "https://localhost:8080/",
          "height": 888
        },
        "id": "40WKkYkAvJcR",
        "outputId": "693b85af-fd4d-489a-ba01-29dd8f858b04"
      },
      "outputs": [
        {
          "output_type": "stream",
          "name": "stderr",
          "text": [
            "/usr/local/lib/python3.7/dist-packages/IPython/core/interactiveshell.py:2882: DtypeWarning: Columns (40) have mixed types.Specify dtype option on import or set low_memory=False.\n",
            "  exec(code_obj, self.user_global_ns, self.user_ns)\n"
          ]
        },
        {
          "output_type": "execute_result",
          "data": {
            "text/plain": [
              "       Property ID     Host ID                        Listing Title  \\\n",
              "0            105.0       500.0             Trendy Times Square Loft   \n",
              "1            795.0      1061.0                    Sky Chelsea 3 bdr   \n",
              "2           2515.0      2758.0     Stay at Chez Chic budget room #1   \n",
              "3           2534.0      2782.0  The Nest: Cozy, Quiet, Clean, Sunny   \n",
              "4           2539.0      2787.0   Clean & quiet apt home by the park   \n",
              "...            ...         ...                                  ...   \n",
              "86004   16905634.0   1009903.0                 Comfort and coziness   \n",
              "86005   16908288.0  24120303.0                   Fresh Shared Space   \n",
              "86006   16909197.0  24120303.0                 Fun Cozy Environment   \n",
              "86007   16909522.0  24120303.0                 Chilled Shared Space   \n",
              "86008          NaN         NaN                                  NaN   \n",
              "\n",
              "      Property Type     Listing Type Created Date Last Scraped Date  \\\n",
              "0         Apartment     Private room   2008-06-28        2016-03-18   \n",
              "1         Apartment  Entire home/apt   2008-07-25        2016-03-02   \n",
              "2         Apartment     Private room   2008-09-05        2017-03-01   \n",
              "3         Apartment  Entire home/apt   2008-09-06        2016-02-19   \n",
              "4         Apartment     Private room   2008-09-07        2016-11-19   \n",
              "...             ...              ...          ...               ...   \n",
              "86004     Apartment  Entire home/apt   2017-01-23        2017-02-05   \n",
              "86005     Apartment      Shared room   2017-01-23        2017-02-03   \n",
              "86006     Apartment      Shared room   2017-01-23        2017-02-03   \n",
              "86007     Apartment      Shared room   2017-01-23        2017-02-02   \n",
              "86008           NaN              NaN          NaN               NaN   \n",
              "\n",
              "             Country     State      City  ...  Count Reservation Days LTM  \\\n",
              "0      United States  New York  New York  ...                         0.0   \n",
              "1      United States  New York  New York  ...                         0.0   \n",
              "2      United States  New York  New York  ...                       239.0   \n",
              "3      United States  New York  New York  ...                       103.0   \n",
              "4      United States  New York  New York  ...                        38.0   \n",
              "...              ...       ...       ...  ...                         ...   \n",
              "86004  United States  New York  New York  ...                         0.0   \n",
              "86005  United States  New York  New York  ...                         0.0   \n",
              "86006  United States  New York  New York  ...                         0.0   \n",
              "86007  United States  New York  New York  ...                         0.0   \n",
              "86008            NaN       NaN       NaN  ...                         NaN   \n",
              "\n",
              "      Count Available Days LTM Count Blocked Days LTM  Number of Photos  \\\n",
              "0                        366.0                    0.0              25.0   \n",
              "1                        366.0                    0.0              22.0   \n",
              "2                        106.0                   21.0              11.0   \n",
              "3                          8.0                  255.0              16.0   \n",
              "4                        328.0                    0.0              12.0   \n",
              "...                        ...                    ...               ...   \n",
              "86004                     31.0                    0.0               7.0   \n",
              "86005                     31.0                    0.0               8.0   \n",
              "86006                     28.0                    3.0               6.0   \n",
              "86007                     31.0                    0.0               9.0   \n",
              "86008                      NaN                    NaN               NaN   \n",
              "\n",
              "       Business Ready  Instantbook Enabled  \\\n",
              "0               False                   No   \n",
              "1               False                   No   \n",
              "2               False                   No   \n",
              "3               False                   No   \n",
              "4               False                   No   \n",
              "...               ...                  ...   \n",
              "86004           False                  Yes   \n",
              "86005           False                   No   \n",
              "86006           False                   No   \n",
              "86007           False                   No   \n",
              "86008             NaN                  NaN   \n",
              "\n",
              "                                 Listing URL  \\\n",
              "0           https://www.airbnb.com/rooms/105   \n",
              "1           https://www.airbnb.com/rooms/795   \n",
              "2          https://www.airbnb.com/rooms/2515   \n",
              "3          https://www.airbnb.com/rooms/2534   \n",
              "4          https://www.airbnb.com/rooms/2539   \n",
              "...                                      ...   \n",
              "86004  https://www.airbnb.com/rooms/16905634   \n",
              "86005  https://www.airbnb.com/rooms/16908288   \n",
              "86006  https://www.airbnb.com/rooms/16909197   \n",
              "86007  https://www.airbnb.com/rooms/16909522   \n",
              "86008                                    NaN   \n",
              "\n",
              "                                  Listing Main Image URL   Latitude  Longitude  \n",
              "0      https://a0.muscache.com/im/pictures/59366/b695...  40.762099 -73.996022  \n",
              "1      https://a2.muscache.com/im/pictures/a849796f-a...  40.746257 -74.007022  \n",
              "2      https://a0.muscache.com/im/pictures/88569/eebe...  40.799205 -73.953676  \n",
              "3      https://a2.muscache.com/im/pictures/7a147a6c-e...  40.762059 -73.961365  \n",
              "4      https://a2.muscache.com/im/pictures/3949d073-a...  40.647486 -73.972370  \n",
              "...                                                  ...        ...        ...  \n",
              "86004  https://a0.muscache.com/im/pictures/23fad023-0...  40.735170 -74.005583  \n",
              "86005  https://a0.muscache.com/im/pictures/e9073702-1...  40.706625 -73.949328  \n",
              "86006  https://a0.muscache.com/im/pictures/5d626c2a-3...  40.707130 -73.949391  \n",
              "86007  https://a0.muscache.com/im/pictures/6db0080f-8...  40.707067 -73.949980  \n",
              "86008                                                NaN        NaN        NaN  \n",
              "\n",
              "[86009 rows x 46 columns]"
            ],
            "text/html": [
              "\n",
              "  <div id=\"df-b7e75810-a4cc-42ad-91c8-926be6168c3a\">\n",
              "    <div class=\"colab-df-container\">\n",
              "      <div>\n",
              "<style scoped>\n",
              "    .dataframe tbody tr th:only-of-type {\n",
              "        vertical-align: middle;\n",
              "    }\n",
              "\n",
              "    .dataframe tbody tr th {\n",
              "        vertical-align: top;\n",
              "    }\n",
              "\n",
              "    .dataframe thead th {\n",
              "        text-align: right;\n",
              "    }\n",
              "</style>\n",
              "<table border=\"1\" class=\"dataframe\">\n",
              "  <thead>\n",
              "    <tr style=\"text-align: right;\">\n",
              "      <th></th>\n",
              "      <th>Property ID</th>\n",
              "      <th>Host ID</th>\n",
              "      <th>Listing Title</th>\n",
              "      <th>Property Type</th>\n",
              "      <th>Listing Type</th>\n",
              "      <th>Created Date</th>\n",
              "      <th>Last Scraped Date</th>\n",
              "      <th>Country</th>\n",
              "      <th>State</th>\n",
              "      <th>City</th>\n",
              "      <th>...</th>\n",
              "      <th>Count Reservation Days LTM</th>\n",
              "      <th>Count Available Days LTM</th>\n",
              "      <th>Count Blocked Days LTM</th>\n",
              "      <th>Number of Photos</th>\n",
              "      <th>Business Ready</th>\n",
              "      <th>Instantbook Enabled</th>\n",
              "      <th>Listing URL</th>\n",
              "      <th>Listing Main Image URL</th>\n",
              "      <th>Latitude</th>\n",
              "      <th>Longitude</th>\n",
              "    </tr>\n",
              "  </thead>\n",
              "  <tbody>\n",
              "    <tr>\n",
              "      <th>0</th>\n",
              "      <td>105.0</td>\n",
              "      <td>500.0</td>\n",
              "      <td>Trendy Times Square Loft</td>\n",
              "      <td>Apartment</td>\n",
              "      <td>Private room</td>\n",
              "      <td>2008-06-28</td>\n",
              "      <td>2016-03-18</td>\n",
              "      <td>United States</td>\n",
              "      <td>New York</td>\n",
              "      <td>New York</td>\n",
              "      <td>...</td>\n",
              "      <td>0.0</td>\n",
              "      <td>366.0</td>\n",
              "      <td>0.0</td>\n",
              "      <td>25.0</td>\n",
              "      <td>False</td>\n",
              "      <td>No</td>\n",
              "      <td>https://www.airbnb.com/rooms/105</td>\n",
              "      <td>https://a0.muscache.com/im/pictures/59366/b695...</td>\n",
              "      <td>40.762099</td>\n",
              "      <td>-73.996022</td>\n",
              "    </tr>\n",
              "    <tr>\n",
              "      <th>1</th>\n",
              "      <td>795.0</td>\n",
              "      <td>1061.0</td>\n",
              "      <td>Sky Chelsea 3 bdr</td>\n",
              "      <td>Apartment</td>\n",
              "      <td>Entire home/apt</td>\n",
              "      <td>2008-07-25</td>\n",
              "      <td>2016-03-02</td>\n",
              "      <td>United States</td>\n",
              "      <td>New York</td>\n",
              "      <td>New York</td>\n",
              "      <td>...</td>\n",
              "      <td>0.0</td>\n",
              "      <td>366.0</td>\n",
              "      <td>0.0</td>\n",
              "      <td>22.0</td>\n",
              "      <td>False</td>\n",
              "      <td>No</td>\n",
              "      <td>https://www.airbnb.com/rooms/795</td>\n",
              "      <td>https://a2.muscache.com/im/pictures/a849796f-a...</td>\n",
              "      <td>40.746257</td>\n",
              "      <td>-74.007022</td>\n",
              "    </tr>\n",
              "    <tr>\n",
              "      <th>2</th>\n",
              "      <td>2515.0</td>\n",
              "      <td>2758.0</td>\n",
              "      <td>Stay at Chez Chic budget room #1</td>\n",
              "      <td>Apartment</td>\n",
              "      <td>Private room</td>\n",
              "      <td>2008-09-05</td>\n",
              "      <td>2017-03-01</td>\n",
              "      <td>United States</td>\n",
              "      <td>New York</td>\n",
              "      <td>New York</td>\n",
              "      <td>...</td>\n",
              "      <td>239.0</td>\n",
              "      <td>106.0</td>\n",
              "      <td>21.0</td>\n",
              "      <td>11.0</td>\n",
              "      <td>False</td>\n",
              "      <td>No</td>\n",
              "      <td>https://www.airbnb.com/rooms/2515</td>\n",
              "      <td>https://a0.muscache.com/im/pictures/88569/eebe...</td>\n",
              "      <td>40.799205</td>\n",
              "      <td>-73.953676</td>\n",
              "    </tr>\n",
              "    <tr>\n",
              "      <th>3</th>\n",
              "      <td>2534.0</td>\n",
              "      <td>2782.0</td>\n",
              "      <td>The Nest: Cozy, Quiet, Clean, Sunny</td>\n",
              "      <td>Apartment</td>\n",
              "      <td>Entire home/apt</td>\n",
              "      <td>2008-09-06</td>\n",
              "      <td>2016-02-19</td>\n",
              "      <td>United States</td>\n",
              "      <td>New York</td>\n",
              "      <td>New York</td>\n",
              "      <td>...</td>\n",
              "      <td>103.0</td>\n",
              "      <td>8.0</td>\n",
              "      <td>255.0</td>\n",
              "      <td>16.0</td>\n",
              "      <td>False</td>\n",
              "      <td>No</td>\n",
              "      <td>https://www.airbnb.com/rooms/2534</td>\n",
              "      <td>https://a2.muscache.com/im/pictures/7a147a6c-e...</td>\n",
              "      <td>40.762059</td>\n",
              "      <td>-73.961365</td>\n",
              "    </tr>\n",
              "    <tr>\n",
              "      <th>4</th>\n",
              "      <td>2539.0</td>\n",
              "      <td>2787.0</td>\n",
              "      <td>Clean &amp; quiet apt home by the park</td>\n",
              "      <td>Apartment</td>\n",
              "      <td>Private room</td>\n",
              "      <td>2008-09-07</td>\n",
              "      <td>2016-11-19</td>\n",
              "      <td>United States</td>\n",
              "      <td>New York</td>\n",
              "      <td>New York</td>\n",
              "      <td>...</td>\n",
              "      <td>38.0</td>\n",
              "      <td>328.0</td>\n",
              "      <td>0.0</td>\n",
              "      <td>12.0</td>\n",
              "      <td>False</td>\n",
              "      <td>No</td>\n",
              "      <td>https://www.airbnb.com/rooms/2539</td>\n",
              "      <td>https://a2.muscache.com/im/pictures/3949d073-a...</td>\n",
              "      <td>40.647486</td>\n",
              "      <td>-73.972370</td>\n",
              "    </tr>\n",
              "    <tr>\n",
              "      <th>...</th>\n",
              "      <td>...</td>\n",
              "      <td>...</td>\n",
              "      <td>...</td>\n",
              "      <td>...</td>\n",
              "      <td>...</td>\n",
              "      <td>...</td>\n",
              "      <td>...</td>\n",
              "      <td>...</td>\n",
              "      <td>...</td>\n",
              "      <td>...</td>\n",
              "      <td>...</td>\n",
              "      <td>...</td>\n",
              "      <td>...</td>\n",
              "      <td>...</td>\n",
              "      <td>...</td>\n",
              "      <td>...</td>\n",
              "      <td>...</td>\n",
              "      <td>...</td>\n",
              "      <td>...</td>\n",
              "      <td>...</td>\n",
              "      <td>...</td>\n",
              "    </tr>\n",
              "    <tr>\n",
              "      <th>86004</th>\n",
              "      <td>16905634.0</td>\n",
              "      <td>1009903.0</td>\n",
              "      <td>Comfort and coziness</td>\n",
              "      <td>Apartment</td>\n",
              "      <td>Entire home/apt</td>\n",
              "      <td>2017-01-23</td>\n",
              "      <td>2017-02-05</td>\n",
              "      <td>United States</td>\n",
              "      <td>New York</td>\n",
              "      <td>New York</td>\n",
              "      <td>...</td>\n",
              "      <td>0.0</td>\n",
              "      <td>31.0</td>\n",
              "      <td>0.0</td>\n",
              "      <td>7.0</td>\n",
              "      <td>False</td>\n",
              "      <td>Yes</td>\n",
              "      <td>https://www.airbnb.com/rooms/16905634</td>\n",
              "      <td>https://a0.muscache.com/im/pictures/23fad023-0...</td>\n",
              "      <td>40.735170</td>\n",
              "      <td>-74.005583</td>\n",
              "    </tr>\n",
              "    <tr>\n",
              "      <th>86005</th>\n",
              "      <td>16908288.0</td>\n",
              "      <td>24120303.0</td>\n",
              "      <td>Fresh Shared Space</td>\n",
              "      <td>Apartment</td>\n",
              "      <td>Shared room</td>\n",
              "      <td>2017-01-23</td>\n",
              "      <td>2017-02-03</td>\n",
              "      <td>United States</td>\n",
              "      <td>New York</td>\n",
              "      <td>New York</td>\n",
              "      <td>...</td>\n",
              "      <td>0.0</td>\n",
              "      <td>31.0</td>\n",
              "      <td>0.0</td>\n",
              "      <td>8.0</td>\n",
              "      <td>False</td>\n",
              "      <td>No</td>\n",
              "      <td>https://www.airbnb.com/rooms/16908288</td>\n",
              "      <td>https://a0.muscache.com/im/pictures/e9073702-1...</td>\n",
              "      <td>40.706625</td>\n",
              "      <td>-73.949328</td>\n",
              "    </tr>\n",
              "    <tr>\n",
              "      <th>86006</th>\n",
              "      <td>16909197.0</td>\n",
              "      <td>24120303.0</td>\n",
              "      <td>Fun Cozy Environment</td>\n",
              "      <td>Apartment</td>\n",
              "      <td>Shared room</td>\n",
              "      <td>2017-01-23</td>\n",
              "      <td>2017-02-03</td>\n",
              "      <td>United States</td>\n",
              "      <td>New York</td>\n",
              "      <td>New York</td>\n",
              "      <td>...</td>\n",
              "      <td>0.0</td>\n",
              "      <td>28.0</td>\n",
              "      <td>3.0</td>\n",
              "      <td>6.0</td>\n",
              "      <td>False</td>\n",
              "      <td>No</td>\n",
              "      <td>https://www.airbnb.com/rooms/16909197</td>\n",
              "      <td>https://a0.muscache.com/im/pictures/5d626c2a-3...</td>\n",
              "      <td>40.707130</td>\n",
              "      <td>-73.949391</td>\n",
              "    </tr>\n",
              "    <tr>\n",
              "      <th>86007</th>\n",
              "      <td>16909522.0</td>\n",
              "      <td>24120303.0</td>\n",
              "      <td>Chilled Shared Space</td>\n",
              "      <td>Apartment</td>\n",
              "      <td>Shared room</td>\n",
              "      <td>2017-01-23</td>\n",
              "      <td>2017-02-02</td>\n",
              "      <td>United States</td>\n",
              "      <td>New York</td>\n",
              "      <td>New York</td>\n",
              "      <td>...</td>\n",
              "      <td>0.0</td>\n",
              "      <td>31.0</td>\n",
              "      <td>0.0</td>\n",
              "      <td>9.0</td>\n",
              "      <td>False</td>\n",
              "      <td>No</td>\n",
              "      <td>https://www.airbnb.com/rooms/16909522</td>\n",
              "      <td>https://a0.muscache.com/im/pictures/6db0080f-8...</td>\n",
              "      <td>40.707067</td>\n",
              "      <td>-73.949980</td>\n",
              "    </tr>\n",
              "    <tr>\n",
              "      <th>86008</th>\n",
              "      <td>NaN</td>\n",
              "      <td>NaN</td>\n",
              "      <td>NaN</td>\n",
              "      <td>NaN</td>\n",
              "      <td>NaN</td>\n",
              "      <td>NaN</td>\n",
              "      <td>NaN</td>\n",
              "      <td>NaN</td>\n",
              "      <td>NaN</td>\n",
              "      <td>NaN</td>\n",
              "      <td>...</td>\n",
              "      <td>NaN</td>\n",
              "      <td>NaN</td>\n",
              "      <td>NaN</td>\n",
              "      <td>NaN</td>\n",
              "      <td>NaN</td>\n",
              "      <td>NaN</td>\n",
              "      <td>NaN</td>\n",
              "      <td>NaN</td>\n",
              "      <td>NaN</td>\n",
              "      <td>NaN</td>\n",
              "    </tr>\n",
              "  </tbody>\n",
              "</table>\n",
              "<p>86009 rows × 46 columns</p>\n",
              "</div>\n",
              "      <button class=\"colab-df-convert\" onclick=\"convertToInteractive('df-b7e75810-a4cc-42ad-91c8-926be6168c3a')\"\n",
              "              title=\"Convert this dataframe to an interactive table.\"\n",
              "              style=\"display:none;\">\n",
              "        \n",
              "  <svg xmlns=\"http://www.w3.org/2000/svg\" height=\"24px\"viewBox=\"0 0 24 24\"\n",
              "       width=\"24px\">\n",
              "    <path d=\"M0 0h24v24H0V0z\" fill=\"none\"/>\n",
              "    <path d=\"M18.56 5.44l.94 2.06.94-2.06 2.06-.94-2.06-.94-.94-2.06-.94 2.06-2.06.94zm-11 1L8.5 8.5l.94-2.06 2.06-.94-2.06-.94L8.5 2.5l-.94 2.06-2.06.94zm10 10l.94 2.06.94-2.06 2.06-.94-2.06-.94-.94-2.06-.94 2.06-2.06.94z\"/><path d=\"M17.41 7.96l-1.37-1.37c-.4-.4-.92-.59-1.43-.59-.52 0-1.04.2-1.43.59L10.3 9.45l-7.72 7.72c-.78.78-.78 2.05 0 2.83L4 21.41c.39.39.9.59 1.41.59.51 0 1.02-.2 1.41-.59l7.78-7.78 2.81-2.81c.8-.78.8-2.07 0-2.86zM5.41 20L4 18.59l7.72-7.72 1.47 1.35L5.41 20z\"/>\n",
              "  </svg>\n",
              "      </button>\n",
              "      \n",
              "  <style>\n",
              "    .colab-df-container {\n",
              "      display:flex;\n",
              "      flex-wrap:wrap;\n",
              "      gap: 12px;\n",
              "    }\n",
              "\n",
              "    .colab-df-convert {\n",
              "      background-color: #E8F0FE;\n",
              "      border: none;\n",
              "      border-radius: 50%;\n",
              "      cursor: pointer;\n",
              "      display: none;\n",
              "      fill: #1967D2;\n",
              "      height: 32px;\n",
              "      padding: 0 0 0 0;\n",
              "      width: 32px;\n",
              "    }\n",
              "\n",
              "    .colab-df-convert:hover {\n",
              "      background-color: #E2EBFA;\n",
              "      box-shadow: 0px 1px 2px rgba(60, 64, 67, 0.3), 0px 1px 3px 1px rgba(60, 64, 67, 0.15);\n",
              "      fill: #174EA6;\n",
              "    }\n",
              "\n",
              "    [theme=dark] .colab-df-convert {\n",
              "      background-color: #3B4455;\n",
              "      fill: #D2E3FC;\n",
              "    }\n",
              "\n",
              "    [theme=dark] .colab-df-convert:hover {\n",
              "      background-color: #434B5C;\n",
              "      box-shadow: 0px 1px 3px 1px rgba(0, 0, 0, 0.15);\n",
              "      filter: drop-shadow(0px 1px 2px rgba(0, 0, 0, 0.3));\n",
              "      fill: #FFFFFF;\n",
              "    }\n",
              "  </style>\n",
              "\n",
              "      <script>\n",
              "        const buttonEl =\n",
              "          document.querySelector('#df-b7e75810-a4cc-42ad-91c8-926be6168c3a button.colab-df-convert');\n",
              "        buttonEl.style.display =\n",
              "          google.colab.kernel.accessAllowed ? 'block' : 'none';\n",
              "\n",
              "        async function convertToInteractive(key) {\n",
              "          const element = document.querySelector('#df-b7e75810-a4cc-42ad-91c8-926be6168c3a');\n",
              "          const dataTable =\n",
              "            await google.colab.kernel.invokeFunction('convertToInteractive',\n",
              "                                                     [key], {});\n",
              "          if (!dataTable) return;\n",
              "\n",
              "          const docLinkHtml = 'Like what you see? Visit the ' +\n",
              "            '<a target=\"_blank\" href=https://colab.research.google.com/notebooks/data_table.ipynb>data table notebook</a>'\n",
              "            + ' to learn more about interactive tables.';\n",
              "          element.innerHTML = '';\n",
              "          dataTable['output_type'] = 'display_data';\n",
              "          await google.colab.output.renderOutput(dataTable, element);\n",
              "          const docLink = document.createElement('div');\n",
              "          docLink.innerHTML = docLinkHtml;\n",
              "          element.appendChild(docLink);\n",
              "        }\n",
              "      </script>\n",
              "    </div>\n",
              "  </div>\n",
              "  "
            ]
          },
          "metadata": {},
          "execution_count": 11
        }
      ],
      "source": [
        "data=pd.read_csv('/content/drive/MyDrive/Colab Notebooks/New York-New York_Property_2017-03-01.csv')\n",
        "data"
      ]
    },
    {
      "cell_type": "markdown",
      "metadata": {
        "id": "-njobIIabnTx"
      },
      "source": [
        "# Data Exploration/Cleaning\n"
      ]
    },
    {
      "cell_type": "markdown",
      "metadata": {
        "id": "LqIISSwab_Mz"
      },
      "source": [
        "# Data Engineering"
      ]
    },
    {
      "cell_type": "code",
      "execution_count": null,
      "metadata": {
        "colab": {
          "base_uri": "https://localhost:8080/"
        },
        "id": "zSxvPttIXTG1",
        "outputId": "df209317-8097-4440-d628-7b85ffccc8e9"
      },
      "outputs": [
        {
          "output_type": "execute_result",
          "data": {
            "text/plain": [
              "Property ID                      float64\n",
              "Host ID                          float64\n",
              "Listing Title                     object\n",
              "Property Type                     object\n",
              "Listing Type                      object\n",
              "Created Date                      object\n",
              "Last Scraped Date                 object\n",
              "Country                           object\n",
              "State                             object\n",
              "City                              object\n",
              "Zipcode                          float64\n",
              "Neighborhood                      object\n",
              "Metropolitan Statistical Area     object\n",
              "Average Daily Rate               float64\n",
              "Annual Revenue LTM               float64\n",
              "Occupancy Rate LTM               float64\n",
              "Number of Bookings LTM           float64\n",
              "Number of Reviews                float64\n",
              "Overall Rating                   float64\n",
              "Bedrooms                         float64\n",
              "Bathrooms                        float64\n",
              "Max Guests                       float64\n",
              "Calendar Last Updated             object\n",
              "Response Rate                    float64\n",
              "Response Time (min)              float64\n",
              "Superhost                         object\n",
              "Cancellation Policy               object\n",
              "Security Deposit                 float64\n",
              "Cleaning Fee                     float64\n",
              "Extra People Fee                 float64\n",
              "Published Nightly Rate           float64\n",
              "Published Monthly Rate           float64\n",
              "Published Weekly Rate            float64\n",
              "Check-in Time                     object\n",
              "Checkout Time                     object\n",
              "Minimum Stay                     float64\n",
              "Count Reservation Days LTM       float64\n",
              "Count Available Days LTM         float64\n",
              "Count Blocked Days LTM           float64\n",
              "Number of Photos                 float64\n",
              "Business Ready                    object\n",
              "Instantbook Enabled               object\n",
              "Listing URL                       object\n",
              "Listing Main Image URL            object\n",
              "Latitude                         float64\n",
              "Longitude                        float64\n",
              "dtype: object"
            ]
          },
          "metadata": {},
          "execution_count": 12
        }
      ],
      "source": [
        "data.dtypes"
      ]
    },
    {
      "cell_type": "code",
      "execution_count": null,
      "metadata": {
        "colab": {
          "base_uri": "https://localhost:8080/"
        },
        "id": "cHA-1ULNDy0s",
        "outputId": "6bc0efb8-46a3-4c30-b9ad-181293fd5470"
      },
      "outputs": [
        {
          "output_type": "execute_result",
          "data": {
            "text/plain": [
              "(86009, 46)"
            ]
          },
          "metadata": {},
          "execution_count": 13
        }
      ],
      "source": [
        "data.shape"
      ]
    },
    {
      "cell_type": "code",
      "execution_count": null,
      "metadata": {
        "colab": {
          "base_uri": "https://localhost:8080/"
        },
        "id": "UzhJsYZrl8dW",
        "outputId": "bae67106-1ddf-4efa-b969-5a07911c5861"
      },
      "outputs": [
        {
          "output_type": "execute_result",
          "data": {
            "text/plain": [
              "Property ID                      0.000012\n",
              "Host ID                          0.000012\n",
              "Listing Title                    0.000023\n",
              "Property Type                    0.000035\n",
              "Listing Type                     0.000012\n",
              "Created Date                     0.000012\n",
              "Last Scraped Date                0.000012\n",
              "Country                          0.000012\n",
              "State                            0.000012\n",
              "City                             0.000012\n",
              "Zipcode                          0.000012\n",
              "Neighborhood                     0.001779\n",
              "Metropolitan Statistical Area    0.000012\n",
              "Average Daily Rate               0.262961\n",
              "Annual Revenue LTM               0.000012\n",
              "Occupancy Rate LTM               0.262961\n",
              "Number of Bookings LTM           0.000012\n",
              "Number of Reviews                0.000012\n",
              "Overall Rating                   0.347487\n",
              "Bedrooms                         0.001384\n",
              "Bathrooms                        0.003709\n",
              "Max Guests                       0.000012\n",
              "Calendar Last Updated            0.021207\n",
              "Response Rate                    0.425421\n",
              "Response Time (min)              0.284191\n",
              "Superhost                        0.111732\n",
              "Cancellation Policy              0.000012\n",
              "Security Deposit                 0.562313\n",
              "Cleaning Fee                     0.334477\n",
              "Extra People Fee                 0.642491\n",
              "Published Nightly Rate           0.000012\n",
              "Published Monthly Rate           0.006418\n",
              "Published Weekly Rate            0.006395\n",
              "Check-in Time                    0.432234\n",
              "Checkout Time                    0.507621\n",
              "Minimum Stay                     0.000012\n",
              "Count Reservation Days LTM       0.000140\n",
              "Count Available Days LTM         0.000140\n",
              "Count Blocked Days LTM           0.000140\n",
              "Number of Photos                 0.000012\n",
              "Business Ready                   0.000012\n",
              "Instantbook Enabled              0.000012\n",
              "Listing URL                      0.000012\n",
              "Listing Main Image URL           0.000012\n",
              "Latitude                         0.000012\n",
              "Longitude                        0.000012\n",
              "dtype: float64"
            ]
          },
          "metadata": {},
          "execution_count": 14
        }
      ],
      "source": [
        "(data.isna().sum())/len(data)"
      ]
    },
    {
      "cell_type": "code",
      "execution_count": null,
      "metadata": {
        "colab": {
          "base_uri": "https://localhost:8080/"
        },
        "id": "Xu-cKor1P_QQ",
        "outputId": "191bf26e-9808-4f74-faf1-b4e7ad97abb4"
      },
      "outputs": [
        {
          "output_type": "execute_result",
          "data": {
            "text/plain": [
              "Property ID                          1\n",
              "Host ID                              1\n",
              "Listing Title                        2\n",
              "Property Type                        3\n",
              "Listing Type                         1\n",
              "Created Date                         1\n",
              "Last Scraped Date                    1\n",
              "Country                              1\n",
              "State                                1\n",
              "City                                 1\n",
              "Zipcode                              1\n",
              "Neighborhood                       153\n",
              "Metropolitan Statistical Area        1\n",
              "Average Daily Rate               22617\n",
              "Annual Revenue LTM                   1\n",
              "Occupancy Rate LTM               22617\n",
              "Number of Bookings LTM               1\n",
              "Number of Reviews                    1\n",
              "Overall Rating                   29887\n",
              "Bedrooms                           119\n",
              "Bathrooms                          319\n",
              "Max Guests                           1\n",
              "Calendar Last Updated             1824\n",
              "Response Rate                    36590\n",
              "Response Time (min)              24443\n",
              "Superhost                         9610\n",
              "Cancellation Policy                  1\n",
              "Security Deposit                 48364\n",
              "Cleaning Fee                     28768\n",
              "Extra People Fee                 55260\n",
              "Published Nightly Rate               1\n",
              "Published Monthly Rate             552\n",
              "Published Weekly Rate              550\n",
              "Check-in Time                    37176\n",
              "Checkout Time                    43660\n",
              "Minimum Stay                         1\n",
              "Count Reservation Days LTM          12\n",
              "Count Available Days LTM            12\n",
              "Count Blocked Days LTM              12\n",
              "Number of Photos                     1\n",
              "Business Ready                       1\n",
              "Instantbook Enabled                  1\n",
              "Listing URL                          1\n",
              "Listing Main Image URL               1\n",
              "Latitude                             1\n",
              "Longitude                            1\n",
              "dtype: int64"
            ]
          },
          "metadata": {},
          "execution_count": 15
        }
      ],
      "source": [
        "data.isna().sum()"
      ]
    },
    {
      "cell_type": "code",
      "execution_count": null,
      "metadata": {
        "colab": {
          "base_uri": "https://localhost:8080/"
        },
        "id": "lFaatMJvQ3BO",
        "outputId": "ca38b08b-ea90-4e81-d2e3-639daf6eae9a"
      },
      "outputs": [
        {
          "output_type": "stream",
          "name": "stdout",
          "text": [
            "City: ['New York' nan]\n",
            "Country: ['United States' nan]\n",
            "Metropolitan Statistical Area: ['New York-Newark-Jersey City, NY-NJ-PA Metro Area' nan]\n",
            "Check-in Time: ['4:00 PM' nan '8AM - 2AM (next day)' 'Flexible']\n"
          ]
        }
      ],
      "source": [
        "#Variables Dropped\n",
        "#One value variables: City, Country \n",
        "#Unneeded variables: Listing URL, Listing Main Image URL, Latitude, Longitude, Metropolitan Statistical Area, state\n",
        "#Checkout/Check-in Time variables had too many NA values, and had too many character variations making it difficult to format .\n",
        "print('City:', data.City.unique())\n",
        "print('Country:',data.Country.unique())\n",
        "print('Metropolitan Statistical Area:', data['Metropolitan Statistical Area'].unique())\n",
        "print('Check-in Time:', data['Check-in Time'].unique()[:4])\n"
      ]
    },
    {
      "cell_type": "code",
      "execution_count": null,
      "metadata": {
        "colab": {
          "base_uri": "https://localhost:8080/"
        },
        "id": "iKkxZf4TwXAJ",
        "outputId": "aeecdd70-a557-465e-9a88-d8da763d3d2e"
      },
      "outputs": [
        {
          "output_type": "execute_result",
          "data": {
            "text/plain": [
              "(86009, 36)"
            ]
          },
          "metadata": {},
          "execution_count": 17
        }
      ],
      "source": [
        "#Dropping variables\n",
        "data2=data.drop(columns=['City', 'State',\"Country\", \"Listing URL\", \"Listing Main Image URL\", \"Latitude\", \"Longitude\", \"Checkout Time\", \"Check-in Time\",\"Metropolitan Statistical Area\"])\n",
        "data2.shape\n"
      ]
    },
    {
      "cell_type": "code",
      "execution_count": null,
      "metadata": {
        "colab": {
          "base_uri": "https://localhost:8080/"
        },
        "id": "I6mpxnzCXKVn",
        "outputId": "2e258823-d7ae-43e7-c3b0-2d77f028aac9"
      },
      "outputs": [
        {
          "output_type": "execute_result",
          "data": {
            "text/plain": [
              "       Property ID     Host ID                        Listing Title  \\\n",
              "0            105.0       500.0             Trendy Times Square Loft   \n",
              "1            795.0      1061.0                    Sky Chelsea 3 bdr   \n",
              "2           2515.0      2758.0     Stay at Chez Chic budget room #1   \n",
              "3           2534.0      2782.0  The Nest: Cozy, Quiet, Clean, Sunny   \n",
              "4           2539.0      2787.0   Clean & quiet apt home by the park   \n",
              "...            ...         ...                                  ...   \n",
              "86004   16905634.0   1009903.0                 Comfort and coziness   \n",
              "86005   16908288.0  24120303.0                   Fresh Shared Space   \n",
              "86006   16909197.0  24120303.0                 Fun Cozy Environment   \n",
              "86007   16909522.0  24120303.0                 Chilled Shared Space   \n",
              "86008          NaN         NaN                                  NaN   \n",
              "\n",
              "      Property Type     Listing Type Created Date Last Scraped Date  Zipcode  \\\n",
              "0         Apartment     Private room   2008-06-28        2016-03-18  10036.0   \n",
              "1         Apartment  Entire home/apt   2008-07-25        2016-03-02  10011.0   \n",
              "2         Apartment     Private room   2008-09-05        2017-03-01  10026.0   \n",
              "3         Apartment  Entire home/apt   2008-09-06        2016-02-19  10065.0   \n",
              "4         Apartment     Private room   2008-09-07        2016-11-19  11218.0   \n",
              "...             ...              ...          ...               ...      ...   \n",
              "86004     Apartment  Entire home/apt   2017-01-23        2017-02-05  10014.0   \n",
              "86005     Apartment      Shared room   2017-01-23        2017-02-03  11206.0   \n",
              "86006     Apartment      Shared room   2017-01-23        2017-02-03  11206.0   \n",
              "86007     Apartment      Shared room   2017-01-23        2017-02-02  11206.0   \n",
              "86008           NaN              NaN          NaN               NaN      NaN   \n",
              "\n",
              "          Neighborhood  Average Daily Rate  ...  Published Nightly Rate  \\\n",
              "0              Midtown                 NaN  ...                   549.0   \n",
              "1              Chelsea                 NaN  ...                   300.0   \n",
              "2               Harlem              104.99  ...                    99.0   \n",
              "3      Upper East Side              151.79  ...                   145.0   \n",
              "4           Kensington               70.18  ...                    64.0   \n",
              "...                ...                 ...  ...                     ...   \n",
              "86004     West Village                 NaN  ...                   134.0   \n",
              "86005     Williamsburg                 NaN  ...                    56.0   \n",
              "86006     Williamsburg                 NaN  ...                    51.0   \n",
              "86007     Williamsburg                 NaN  ...                    55.0   \n",
              "86008              NaN                 NaN  ...                     NaN   \n",
              "\n",
              "       Published Monthly Rate  Published Weekly Rate  Minimum Stay  \\\n",
              "0                     15000.0                 5000.0           1.0   \n",
              "1                      8400.0                 2100.0           1.0   \n",
              "2                      1690.0                  720.0           2.0   \n",
              "3                      4060.0                 1015.0           3.0   \n",
              "4                       999.0                  299.0           1.0   \n",
              "...                       ...                    ...           ...   \n",
              "86004                  3752.0                  938.0           1.0   \n",
              "86005                  1036.0                  259.0           3.0   \n",
              "86006                   952.0                  238.0           2.0   \n",
              "86007                  1008.0                  252.0           1.0   \n",
              "86008                     NaN                    NaN           NaN   \n",
              "\n",
              "       Count Reservation Days LTM  Count Available Days LTM  \\\n",
              "0                             0.0                     366.0   \n",
              "1                             0.0                     366.0   \n",
              "2                           239.0                     106.0   \n",
              "3                           103.0                       8.0   \n",
              "4                            38.0                     328.0   \n",
              "...                           ...                       ...   \n",
              "86004                         0.0                      31.0   \n",
              "86005                         0.0                      31.0   \n",
              "86006                         0.0                      28.0   \n",
              "86007                         0.0                      31.0   \n",
              "86008                         NaN                       NaN   \n",
              "\n",
              "       Count Blocked Days LTM  Number of Photos Business Ready  \\\n",
              "0                         0.0              25.0          False   \n",
              "1                         0.0              22.0          False   \n",
              "2                        21.0              11.0          False   \n",
              "3                       255.0              16.0          False   \n",
              "4                         0.0              12.0          False   \n",
              "...                       ...               ...            ...   \n",
              "86004                     0.0               7.0          False   \n",
              "86005                     0.0               8.0          False   \n",
              "86006                     3.0               6.0          False   \n",
              "86007                     0.0               9.0          False   \n",
              "86008                     NaN               NaN            NaN   \n",
              "\n",
              "       Instantbook Enabled  \n",
              "0                       No  \n",
              "1                       No  \n",
              "2                       No  \n",
              "3                       No  \n",
              "4                       No  \n",
              "...                    ...  \n",
              "86004                  Yes  \n",
              "86005                   No  \n",
              "86006                   No  \n",
              "86007                   No  \n",
              "86008                  NaN  \n",
              "\n",
              "[86009 rows x 36 columns]"
            ],
            "text/html": [
              "\n",
              "  <div id=\"df-92215cda-5cac-4bbd-a527-8c39f24a7f70\">\n",
              "    <div class=\"colab-df-container\">\n",
              "      <div>\n",
              "<style scoped>\n",
              "    .dataframe tbody tr th:only-of-type {\n",
              "        vertical-align: middle;\n",
              "    }\n",
              "\n",
              "    .dataframe tbody tr th {\n",
              "        vertical-align: top;\n",
              "    }\n",
              "\n",
              "    .dataframe thead th {\n",
              "        text-align: right;\n",
              "    }\n",
              "</style>\n",
              "<table border=\"1\" class=\"dataframe\">\n",
              "  <thead>\n",
              "    <tr style=\"text-align: right;\">\n",
              "      <th></th>\n",
              "      <th>Property ID</th>\n",
              "      <th>Host ID</th>\n",
              "      <th>Listing Title</th>\n",
              "      <th>Property Type</th>\n",
              "      <th>Listing Type</th>\n",
              "      <th>Created Date</th>\n",
              "      <th>Last Scraped Date</th>\n",
              "      <th>Zipcode</th>\n",
              "      <th>Neighborhood</th>\n",
              "      <th>Average Daily Rate</th>\n",
              "      <th>...</th>\n",
              "      <th>Published Nightly Rate</th>\n",
              "      <th>Published Monthly Rate</th>\n",
              "      <th>Published Weekly Rate</th>\n",
              "      <th>Minimum Stay</th>\n",
              "      <th>Count Reservation Days LTM</th>\n",
              "      <th>Count Available Days LTM</th>\n",
              "      <th>Count Blocked Days LTM</th>\n",
              "      <th>Number of Photos</th>\n",
              "      <th>Business Ready</th>\n",
              "      <th>Instantbook Enabled</th>\n",
              "    </tr>\n",
              "  </thead>\n",
              "  <tbody>\n",
              "    <tr>\n",
              "      <th>0</th>\n",
              "      <td>105.0</td>\n",
              "      <td>500.0</td>\n",
              "      <td>Trendy Times Square Loft</td>\n",
              "      <td>Apartment</td>\n",
              "      <td>Private room</td>\n",
              "      <td>2008-06-28</td>\n",
              "      <td>2016-03-18</td>\n",
              "      <td>10036.0</td>\n",
              "      <td>Midtown</td>\n",
              "      <td>NaN</td>\n",
              "      <td>...</td>\n",
              "      <td>549.0</td>\n",
              "      <td>15000.0</td>\n",
              "      <td>5000.0</td>\n",
              "      <td>1.0</td>\n",
              "      <td>0.0</td>\n",
              "      <td>366.0</td>\n",
              "      <td>0.0</td>\n",
              "      <td>25.0</td>\n",
              "      <td>False</td>\n",
              "      <td>No</td>\n",
              "    </tr>\n",
              "    <tr>\n",
              "      <th>1</th>\n",
              "      <td>795.0</td>\n",
              "      <td>1061.0</td>\n",
              "      <td>Sky Chelsea 3 bdr</td>\n",
              "      <td>Apartment</td>\n",
              "      <td>Entire home/apt</td>\n",
              "      <td>2008-07-25</td>\n",
              "      <td>2016-03-02</td>\n",
              "      <td>10011.0</td>\n",
              "      <td>Chelsea</td>\n",
              "      <td>NaN</td>\n",
              "      <td>...</td>\n",
              "      <td>300.0</td>\n",
              "      <td>8400.0</td>\n",
              "      <td>2100.0</td>\n",
              "      <td>1.0</td>\n",
              "      <td>0.0</td>\n",
              "      <td>366.0</td>\n",
              "      <td>0.0</td>\n",
              "      <td>22.0</td>\n",
              "      <td>False</td>\n",
              "      <td>No</td>\n",
              "    </tr>\n",
              "    <tr>\n",
              "      <th>2</th>\n",
              "      <td>2515.0</td>\n",
              "      <td>2758.0</td>\n",
              "      <td>Stay at Chez Chic budget room #1</td>\n",
              "      <td>Apartment</td>\n",
              "      <td>Private room</td>\n",
              "      <td>2008-09-05</td>\n",
              "      <td>2017-03-01</td>\n",
              "      <td>10026.0</td>\n",
              "      <td>Harlem</td>\n",
              "      <td>104.99</td>\n",
              "      <td>...</td>\n",
              "      <td>99.0</td>\n",
              "      <td>1690.0</td>\n",
              "      <td>720.0</td>\n",
              "      <td>2.0</td>\n",
              "      <td>239.0</td>\n",
              "      <td>106.0</td>\n",
              "      <td>21.0</td>\n",
              "      <td>11.0</td>\n",
              "      <td>False</td>\n",
              "      <td>No</td>\n",
              "    </tr>\n",
              "    <tr>\n",
              "      <th>3</th>\n",
              "      <td>2534.0</td>\n",
              "      <td>2782.0</td>\n",
              "      <td>The Nest: Cozy, Quiet, Clean, Sunny</td>\n",
              "      <td>Apartment</td>\n",
              "      <td>Entire home/apt</td>\n",
              "      <td>2008-09-06</td>\n",
              "      <td>2016-02-19</td>\n",
              "      <td>10065.0</td>\n",
              "      <td>Upper East Side</td>\n",
              "      <td>151.79</td>\n",
              "      <td>...</td>\n",
              "      <td>145.0</td>\n",
              "      <td>4060.0</td>\n",
              "      <td>1015.0</td>\n",
              "      <td>3.0</td>\n",
              "      <td>103.0</td>\n",
              "      <td>8.0</td>\n",
              "      <td>255.0</td>\n",
              "      <td>16.0</td>\n",
              "      <td>False</td>\n",
              "      <td>No</td>\n",
              "    </tr>\n",
              "    <tr>\n",
              "      <th>4</th>\n",
              "      <td>2539.0</td>\n",
              "      <td>2787.0</td>\n",
              "      <td>Clean &amp; quiet apt home by the park</td>\n",
              "      <td>Apartment</td>\n",
              "      <td>Private room</td>\n",
              "      <td>2008-09-07</td>\n",
              "      <td>2016-11-19</td>\n",
              "      <td>11218.0</td>\n",
              "      <td>Kensington</td>\n",
              "      <td>70.18</td>\n",
              "      <td>...</td>\n",
              "      <td>64.0</td>\n",
              "      <td>999.0</td>\n",
              "      <td>299.0</td>\n",
              "      <td>1.0</td>\n",
              "      <td>38.0</td>\n",
              "      <td>328.0</td>\n",
              "      <td>0.0</td>\n",
              "      <td>12.0</td>\n",
              "      <td>False</td>\n",
              "      <td>No</td>\n",
              "    </tr>\n",
              "    <tr>\n",
              "      <th>...</th>\n",
              "      <td>...</td>\n",
              "      <td>...</td>\n",
              "      <td>...</td>\n",
              "      <td>...</td>\n",
              "      <td>...</td>\n",
              "      <td>...</td>\n",
              "      <td>...</td>\n",
              "      <td>...</td>\n",
              "      <td>...</td>\n",
              "      <td>...</td>\n",
              "      <td>...</td>\n",
              "      <td>...</td>\n",
              "      <td>...</td>\n",
              "      <td>...</td>\n",
              "      <td>...</td>\n",
              "      <td>...</td>\n",
              "      <td>...</td>\n",
              "      <td>...</td>\n",
              "      <td>...</td>\n",
              "      <td>...</td>\n",
              "      <td>...</td>\n",
              "    </tr>\n",
              "    <tr>\n",
              "      <th>86004</th>\n",
              "      <td>16905634.0</td>\n",
              "      <td>1009903.0</td>\n",
              "      <td>Comfort and coziness</td>\n",
              "      <td>Apartment</td>\n",
              "      <td>Entire home/apt</td>\n",
              "      <td>2017-01-23</td>\n",
              "      <td>2017-02-05</td>\n",
              "      <td>10014.0</td>\n",
              "      <td>West Village</td>\n",
              "      <td>NaN</td>\n",
              "      <td>...</td>\n",
              "      <td>134.0</td>\n",
              "      <td>3752.0</td>\n",
              "      <td>938.0</td>\n",
              "      <td>1.0</td>\n",
              "      <td>0.0</td>\n",
              "      <td>31.0</td>\n",
              "      <td>0.0</td>\n",
              "      <td>7.0</td>\n",
              "      <td>False</td>\n",
              "      <td>Yes</td>\n",
              "    </tr>\n",
              "    <tr>\n",
              "      <th>86005</th>\n",
              "      <td>16908288.0</td>\n",
              "      <td>24120303.0</td>\n",
              "      <td>Fresh Shared Space</td>\n",
              "      <td>Apartment</td>\n",
              "      <td>Shared room</td>\n",
              "      <td>2017-01-23</td>\n",
              "      <td>2017-02-03</td>\n",
              "      <td>11206.0</td>\n",
              "      <td>Williamsburg</td>\n",
              "      <td>NaN</td>\n",
              "      <td>...</td>\n",
              "      <td>56.0</td>\n",
              "      <td>1036.0</td>\n",
              "      <td>259.0</td>\n",
              "      <td>3.0</td>\n",
              "      <td>0.0</td>\n",
              "      <td>31.0</td>\n",
              "      <td>0.0</td>\n",
              "      <td>8.0</td>\n",
              "      <td>False</td>\n",
              "      <td>No</td>\n",
              "    </tr>\n",
              "    <tr>\n",
              "      <th>86006</th>\n",
              "      <td>16909197.0</td>\n",
              "      <td>24120303.0</td>\n",
              "      <td>Fun Cozy Environment</td>\n",
              "      <td>Apartment</td>\n",
              "      <td>Shared room</td>\n",
              "      <td>2017-01-23</td>\n",
              "      <td>2017-02-03</td>\n",
              "      <td>11206.0</td>\n",
              "      <td>Williamsburg</td>\n",
              "      <td>NaN</td>\n",
              "      <td>...</td>\n",
              "      <td>51.0</td>\n",
              "      <td>952.0</td>\n",
              "      <td>238.0</td>\n",
              "      <td>2.0</td>\n",
              "      <td>0.0</td>\n",
              "      <td>28.0</td>\n",
              "      <td>3.0</td>\n",
              "      <td>6.0</td>\n",
              "      <td>False</td>\n",
              "      <td>No</td>\n",
              "    </tr>\n",
              "    <tr>\n",
              "      <th>86007</th>\n",
              "      <td>16909522.0</td>\n",
              "      <td>24120303.0</td>\n",
              "      <td>Chilled Shared Space</td>\n",
              "      <td>Apartment</td>\n",
              "      <td>Shared room</td>\n",
              "      <td>2017-01-23</td>\n",
              "      <td>2017-02-02</td>\n",
              "      <td>11206.0</td>\n",
              "      <td>Williamsburg</td>\n",
              "      <td>NaN</td>\n",
              "      <td>...</td>\n",
              "      <td>55.0</td>\n",
              "      <td>1008.0</td>\n",
              "      <td>252.0</td>\n",
              "      <td>1.0</td>\n",
              "      <td>0.0</td>\n",
              "      <td>31.0</td>\n",
              "      <td>0.0</td>\n",
              "      <td>9.0</td>\n",
              "      <td>False</td>\n",
              "      <td>No</td>\n",
              "    </tr>\n",
              "    <tr>\n",
              "      <th>86008</th>\n",
              "      <td>NaN</td>\n",
              "      <td>NaN</td>\n",
              "      <td>NaN</td>\n",
              "      <td>NaN</td>\n",
              "      <td>NaN</td>\n",
              "      <td>NaN</td>\n",
              "      <td>NaN</td>\n",
              "      <td>NaN</td>\n",
              "      <td>NaN</td>\n",
              "      <td>NaN</td>\n",
              "      <td>...</td>\n",
              "      <td>NaN</td>\n",
              "      <td>NaN</td>\n",
              "      <td>NaN</td>\n",
              "      <td>NaN</td>\n",
              "      <td>NaN</td>\n",
              "      <td>NaN</td>\n",
              "      <td>NaN</td>\n",
              "      <td>NaN</td>\n",
              "      <td>NaN</td>\n",
              "      <td>NaN</td>\n",
              "    </tr>\n",
              "  </tbody>\n",
              "</table>\n",
              "<p>86009 rows × 36 columns</p>\n",
              "</div>\n",
              "      <button class=\"colab-df-convert\" onclick=\"convertToInteractive('df-92215cda-5cac-4bbd-a527-8c39f24a7f70')\"\n",
              "              title=\"Convert this dataframe to an interactive table.\"\n",
              "              style=\"display:none;\">\n",
              "        \n",
              "  <svg xmlns=\"http://www.w3.org/2000/svg\" height=\"24px\"viewBox=\"0 0 24 24\"\n",
              "       width=\"24px\">\n",
              "    <path d=\"M0 0h24v24H0V0z\" fill=\"none\"/>\n",
              "    <path d=\"M18.56 5.44l.94 2.06.94-2.06 2.06-.94-2.06-.94-.94-2.06-.94 2.06-2.06.94zm-11 1L8.5 8.5l.94-2.06 2.06-.94-2.06-.94L8.5 2.5l-.94 2.06-2.06.94zm10 10l.94 2.06.94-2.06 2.06-.94-2.06-.94-.94-2.06-.94 2.06-2.06.94z\"/><path d=\"M17.41 7.96l-1.37-1.37c-.4-.4-.92-.59-1.43-.59-.52 0-1.04.2-1.43.59L10.3 9.45l-7.72 7.72c-.78.78-.78 2.05 0 2.83L4 21.41c.39.39.9.59 1.41.59.51 0 1.02-.2 1.41-.59l7.78-7.78 2.81-2.81c.8-.78.8-2.07 0-2.86zM5.41 20L4 18.59l7.72-7.72 1.47 1.35L5.41 20z\"/>\n",
              "  </svg>\n",
              "      </button>\n",
              "      \n",
              "  <style>\n",
              "    .colab-df-container {\n",
              "      display:flex;\n",
              "      flex-wrap:wrap;\n",
              "      gap: 12px;\n",
              "    }\n",
              "\n",
              "    .colab-df-convert {\n",
              "      background-color: #E8F0FE;\n",
              "      border: none;\n",
              "      border-radius: 50%;\n",
              "      cursor: pointer;\n",
              "      display: none;\n",
              "      fill: #1967D2;\n",
              "      height: 32px;\n",
              "      padding: 0 0 0 0;\n",
              "      width: 32px;\n",
              "    }\n",
              "\n",
              "    .colab-df-convert:hover {\n",
              "      background-color: #E2EBFA;\n",
              "      box-shadow: 0px 1px 2px rgba(60, 64, 67, 0.3), 0px 1px 3px 1px rgba(60, 64, 67, 0.15);\n",
              "      fill: #174EA6;\n",
              "    }\n",
              "\n",
              "    [theme=dark] .colab-df-convert {\n",
              "      background-color: #3B4455;\n",
              "      fill: #D2E3FC;\n",
              "    }\n",
              "\n",
              "    [theme=dark] .colab-df-convert:hover {\n",
              "      background-color: #434B5C;\n",
              "      box-shadow: 0px 1px 3px 1px rgba(0, 0, 0, 0.15);\n",
              "      filter: drop-shadow(0px 1px 2px rgba(0, 0, 0, 0.3));\n",
              "      fill: #FFFFFF;\n",
              "    }\n",
              "  </style>\n",
              "\n",
              "      <script>\n",
              "        const buttonEl =\n",
              "          document.querySelector('#df-92215cda-5cac-4bbd-a527-8c39f24a7f70 button.colab-df-convert');\n",
              "        buttonEl.style.display =\n",
              "          google.colab.kernel.accessAllowed ? 'block' : 'none';\n",
              "\n",
              "        async function convertToInteractive(key) {\n",
              "          const element = document.querySelector('#df-92215cda-5cac-4bbd-a527-8c39f24a7f70');\n",
              "          const dataTable =\n",
              "            await google.colab.kernel.invokeFunction('convertToInteractive',\n",
              "                                                     [key], {});\n",
              "          if (!dataTable) return;\n",
              "\n",
              "          const docLinkHtml = 'Like what you see? Visit the ' +\n",
              "            '<a target=\"_blank\" href=https://colab.research.google.com/notebooks/data_table.ipynb>data table notebook</a>'\n",
              "            + ' to learn more about interactive tables.';\n",
              "          element.innerHTML = '';\n",
              "          dataTable['output_type'] = 'display_data';\n",
              "          await google.colab.output.renderOutput(dataTable, element);\n",
              "          const docLink = document.createElement('div');\n",
              "          docLink.innerHTML = docLinkHtml;\n",
              "          element.appendChild(docLink);\n",
              "        }\n",
              "      </script>\n",
              "    </div>\n",
              "  </div>\n",
              "  "
            ]
          },
          "metadata": {},
          "execution_count": 18
        }
      ],
      "source": [
        "data2"
      ]
    },
    {
      "cell_type": "markdown",
      "metadata": {
        "id": "NzJcihEeXnQD"
      },
      "source": [
        "Originally we wanted to use Average Daily Rate as our price predictor as it gives the most accurate representation of a price over time.\n",
        "\n",
        "However it has many NAs (26%), instead of dropping them we decided to engineer an appropriate value to replace the missing values. \n"
      ]
    },
    {
      "cell_type": "code",
      "execution_count": null,
      "metadata": {
        "colab": {
          "base_uri": "https://localhost:8080/"
        },
        "id": "ZSZTCahvaNKQ",
        "outputId": "a1cbb6d5-b981-468f-8527-44af6b8b4ae1"
      },
      "outputs": [
        {
          "output_type": "stream",
          "name": "stdout",
          "text": [
            "22617\n",
            "Average Daily Rate percentage: 0.2629608529339953\n"
          ]
        }
      ],
      "source": [
        "print(data2[\"Average Daily Rate\"].isna().sum())\n",
        "print('Average Daily Rate percentage:',(data2[\"Average Daily Rate\"].isna().sum())/len(data2[\"Average Daily Rate\"]))"
      ]
    },
    {
      "cell_type": "code",
      "execution_count": null,
      "metadata": {
        "colab": {
          "base_uri": "https://localhost:8080/"
        },
        "id": "UBokRGmhyruo",
        "outputId": "f646d688-0e6e-4f9a-e334-211b88d9329c"
      },
      "outputs": [
        {
          "output_type": "stream",
          "name": "stdout",
          "text": [
            "Computed ADR: 87.5\n"
          ]
        },
        {
          "output_type": "execute_result",
          "data": {
            "text/plain": [
              "          Neighborhood  Average Daily Rate\n",
              "0              Astoria                50.0\n",
              "1             Brooklyn                50.0\n",
              "2             Bushwick                50.0\n",
              "3        Crown Heights                50.0\n",
              "4         East Village               100.0\n",
              "5               Harlem               100.0\n",
              "6      Lower East Side               100.0\n",
              "7              Midtown               100.0\n",
              "8      Upper East Side               150.0\n",
              "9      Upper West Side               150.0\n",
              "10  Washington Heights                50.0\n",
              "11        Williamsburg               100.0"
            ],
            "text/html": [
              "\n",
              "  <div id=\"df-8e59b415-56fb-4099-a0d2-845e29399760\">\n",
              "    <div class=\"colab-df-container\">\n",
              "      <div>\n",
              "<style scoped>\n",
              "    .dataframe tbody tr th:only-of-type {\n",
              "        vertical-align: middle;\n",
              "    }\n",
              "\n",
              "    .dataframe tbody tr th {\n",
              "        vertical-align: top;\n",
              "    }\n",
              "\n",
              "    .dataframe thead th {\n",
              "        text-align: right;\n",
              "    }\n",
              "</style>\n",
              "<table border=\"1\" class=\"dataframe\">\n",
              "  <thead>\n",
              "    <tr style=\"text-align: right;\">\n",
              "      <th></th>\n",
              "      <th>Neighborhood</th>\n",
              "      <th>Average Daily Rate</th>\n",
              "    </tr>\n",
              "  </thead>\n",
              "  <tbody>\n",
              "    <tr>\n",
              "      <th>0</th>\n",
              "      <td>Astoria</td>\n",
              "      <td>50.0</td>\n",
              "    </tr>\n",
              "    <tr>\n",
              "      <th>1</th>\n",
              "      <td>Brooklyn</td>\n",
              "      <td>50.0</td>\n",
              "    </tr>\n",
              "    <tr>\n",
              "      <th>2</th>\n",
              "      <td>Bushwick</td>\n",
              "      <td>50.0</td>\n",
              "    </tr>\n",
              "    <tr>\n",
              "      <th>3</th>\n",
              "      <td>Crown Heights</td>\n",
              "      <td>50.0</td>\n",
              "    </tr>\n",
              "    <tr>\n",
              "      <th>4</th>\n",
              "      <td>East Village</td>\n",
              "      <td>100.0</td>\n",
              "    </tr>\n",
              "    <tr>\n",
              "      <th>5</th>\n",
              "      <td>Harlem</td>\n",
              "      <td>100.0</td>\n",
              "    </tr>\n",
              "    <tr>\n",
              "      <th>6</th>\n",
              "      <td>Lower East Side</td>\n",
              "      <td>100.0</td>\n",
              "    </tr>\n",
              "    <tr>\n",
              "      <th>7</th>\n",
              "      <td>Midtown</td>\n",
              "      <td>100.0</td>\n",
              "    </tr>\n",
              "    <tr>\n",
              "      <th>8</th>\n",
              "      <td>Upper East Side</td>\n",
              "      <td>150.0</td>\n",
              "    </tr>\n",
              "    <tr>\n",
              "      <th>9</th>\n",
              "      <td>Upper West Side</td>\n",
              "      <td>150.0</td>\n",
              "    </tr>\n",
              "    <tr>\n",
              "      <th>10</th>\n",
              "      <td>Washington Heights</td>\n",
              "      <td>50.0</td>\n",
              "    </tr>\n",
              "    <tr>\n",
              "      <th>11</th>\n",
              "      <td>Williamsburg</td>\n",
              "      <td>100.0</td>\n",
              "    </tr>\n",
              "  </tbody>\n",
              "</table>\n",
              "</div>\n",
              "      <button class=\"colab-df-convert\" onclick=\"convertToInteractive('df-8e59b415-56fb-4099-a0d2-845e29399760')\"\n",
              "              title=\"Convert this dataframe to an interactive table.\"\n",
              "              style=\"display:none;\">\n",
              "        \n",
              "  <svg xmlns=\"http://www.w3.org/2000/svg\" height=\"24px\"viewBox=\"0 0 24 24\"\n",
              "       width=\"24px\">\n",
              "    <path d=\"M0 0h24v24H0V0z\" fill=\"none\"/>\n",
              "    <path d=\"M18.56 5.44l.94 2.06.94-2.06 2.06-.94-2.06-.94-.94-2.06-.94 2.06-2.06.94zm-11 1L8.5 8.5l.94-2.06 2.06-.94-2.06-.94L8.5 2.5l-.94 2.06-2.06.94zm10 10l.94 2.06.94-2.06 2.06-.94-2.06-.94-.94-2.06-.94 2.06-2.06.94z\"/><path d=\"M17.41 7.96l-1.37-1.37c-.4-.4-.92-.59-1.43-.59-.52 0-1.04.2-1.43.59L10.3 9.45l-7.72 7.72c-.78.78-.78 2.05 0 2.83L4 21.41c.39.39.9.59 1.41.59.51 0 1.02-.2 1.41-.59l7.78-7.78 2.81-2.81c.8-.78.8-2.07 0-2.86zM5.41 20L4 18.59l7.72-7.72 1.47 1.35L5.41 20z\"/>\n",
              "  </svg>\n",
              "      </button>\n",
              "      \n",
              "  <style>\n",
              "    .colab-df-container {\n",
              "      display:flex;\n",
              "      flex-wrap:wrap;\n",
              "      gap: 12px;\n",
              "    }\n",
              "\n",
              "    .colab-df-convert {\n",
              "      background-color: #E8F0FE;\n",
              "      border: none;\n",
              "      border-radius: 50%;\n",
              "      cursor: pointer;\n",
              "      display: none;\n",
              "      fill: #1967D2;\n",
              "      height: 32px;\n",
              "      padding: 0 0 0 0;\n",
              "      width: 32px;\n",
              "    }\n",
              "\n",
              "    .colab-df-convert:hover {\n",
              "      background-color: #E2EBFA;\n",
              "      box-shadow: 0px 1px 2px rgba(60, 64, 67, 0.3), 0px 1px 3px 1px rgba(60, 64, 67, 0.15);\n",
              "      fill: #174EA6;\n",
              "    }\n",
              "\n",
              "    [theme=dark] .colab-df-convert {\n",
              "      background-color: #3B4455;\n",
              "      fill: #D2E3FC;\n",
              "    }\n",
              "\n",
              "    [theme=dark] .colab-df-convert:hover {\n",
              "      background-color: #434B5C;\n",
              "      box-shadow: 0px 1px 3px 1px rgba(0, 0, 0, 0.15);\n",
              "      filter: drop-shadow(0px 1px 2px rgba(0, 0, 0, 0.3));\n",
              "      fill: #FFFFFF;\n",
              "    }\n",
              "  </style>\n",
              "\n",
              "      <script>\n",
              "        const buttonEl =\n",
              "          document.querySelector('#df-8e59b415-56fb-4099-a0d2-845e29399760 button.colab-df-convert');\n",
              "        buttonEl.style.display =\n",
              "          google.colab.kernel.accessAllowed ? 'block' : 'none';\n",
              "\n",
              "        async function convertToInteractive(key) {\n",
              "          const element = document.querySelector('#df-8e59b415-56fb-4099-a0d2-845e29399760');\n",
              "          const dataTable =\n",
              "            await google.colab.kernel.invokeFunction('convertToInteractive',\n",
              "                                                     [key], {});\n",
              "          if (!dataTable) return;\n",
              "\n",
              "          const docLinkHtml = 'Like what you see? Visit the ' +\n",
              "            '<a target=\"_blank\" href=https://colab.research.google.com/notebooks/data_table.ipynb>data table notebook</a>'\n",
              "            + ' to learn more about interactive tables.';\n",
              "          element.innerHTML = '';\n",
              "          dataTable['output_type'] = 'display_data';\n",
              "          await google.colab.output.renderOutput(dataTable, element);\n",
              "          const docLink = document.createElement('div');\n",
              "          docLink.innerHTML = docLinkHtml;\n",
              "          element.appendChild(docLink);\n",
              "        }\n",
              "      </script>\n",
              "    </div>\n",
              "  </div>\n",
              "  "
            ]
          },
          "metadata": {},
          "execution_count": 20
        }
      ],
      "source": [
        "#Finding only the NA Average Daily Rate (ADR)\n",
        "adr_null=data2[data2['Average Daily Rate'].isnull()]\n",
        "\n",
        "#Grouping by neighborhoods\n",
        "len(adr_null['Neighborhood']) *0.6\n",
        "sum(adr_null['Neighborhood'].value_counts().head(12))\n",
        "adr_null['Neighborhood'].value_counts().head(12)\n",
        "\n",
        "#top 12 neighborhoods\n",
        "top_12 =['Williamsburg', 'Harlem', 'Brooklyn', 'Midtown', 'Bushwick', 'East Village', 'Upper West Side', 'Upper East Side', 'Crown Heights', 'Lower East Side', 'Astoria', 'Washington Heights']\n",
        "data3=data2[data2['Neighborhood'].isin(['Williamsburg', 'Harlem', 'Brooklyn', 'Midtown', 'Bushwick', 'East Village', 'Upper West Side', 'Upper East Side', 'Crown Heights', 'Lower East Side', 'Astoria', 'Washington Heights'])]\n",
        "\n",
        "#finding the mean of the mode \n",
        "data4 =data3.groupby(by=['Neighborhood'], as_index=False)['Average Daily Rate'].agg(pd.Series.mode)\n",
        "print('Computed ADR:', data4[\"Average Daily Rate\"].mean())\n",
        "data4\n"
      ]
    },
    {
      "cell_type": "markdown",
      "metadata": {
        "id": "n2PJcFA6dFM7"
      },
      "source": [
        "Replacing the null values in ADR\n",
        "\n",
        "- ADR has 22617 null values\n",
        "- The top 12 reccuring neighborhoods made up 60% of the null values\n",
        "- We took the mode of these 12 neighborhoods from the original dataset and the mean of their mode.\n",
        "- replaced all null values with this result 87.5\n"
      ]
    },
    {
      "cell_type": "markdown",
      "metadata": {
        "id": "gbbYg5FvoqDw"
      },
      "source": [
        "##Cleaning\n"
      ]
    },
    {
      "cell_type": "markdown",
      "metadata": {
        "id": "rUPO3yuGnlG1"
      },
      "source": [
        "Engineering categories and dummies\n"
      ]
    },
    {
      "cell_type": "code",
      "execution_count": null,
      "metadata": {
        "colab": {
          "base_uri": "https://localhost:8080/"
        },
        "id": "stppz-koKcfS",
        "outputId": "3aaeeeab-a7c7-4271-b9ed-a9e6867f0f37"
      },
      "outputs": [
        {
          "output_type": "stream",
          "name": "stdout",
          "text": [
            "Business Ready: [False True nan]\n",
            "Instantbook Enabled: ['No' 'Yes' nan]\n",
            "Superhost: [False nan True]\n"
          ]
        }
      ],
      "source": [
        "#Replacing dummy variables\n",
        "print('Business Ready:', data2['Business Ready'].unique())\n",
        "print('Instantbook Enabled:', data2['Instantbook Enabled'].unique())\n",
        "print('Superhost:', data2['Superhost'].unique())\n",
        "\n",
        "data5=pd.get_dummies(data2, columns=['Business Ready', 'Instantbook Enabled', 'Superhost' ], drop_first=True)\n",
        "data5=data5.rename(columns={'Business Ready_True':'Business Ready','Superhost_True':'Superhost', 'Instantbook Enabled_Yes':'Instantbook Enabled'})"
      ]
    },
    {
      "cell_type": "code",
      "execution_count": null,
      "metadata": {
        "colab": {
          "base_uri": "https://localhost:8080/"
        },
        "id": "iKGKXz8ZsAk0",
        "outputId": "3fc59876-75ba-4abd-f9dd-f59721927dc9"
      },
      "outputs": [
        {
          "output_type": "execute_result",
          "data": {
            "text/plain": [
              "       Property ID     Host ID                        Listing Title  \\\n",
              "0            105.0       500.0             Trendy Times Square Loft   \n",
              "1            795.0      1061.0                    Sky Chelsea 3 bdr   \n",
              "2           2515.0      2758.0     Stay at Chez Chic budget room #1   \n",
              "3           2534.0      2782.0  The Nest: Cozy, Quiet, Clean, Sunny   \n",
              "4           2539.0      2787.0   Clean & quiet apt home by the park   \n",
              "...            ...         ...                                  ...   \n",
              "86004   16905634.0   1009903.0                 Comfort and coziness   \n",
              "86005   16908288.0  24120303.0                   Fresh Shared Space   \n",
              "86006   16909197.0  24120303.0                 Fun Cozy Environment   \n",
              "86007   16909522.0  24120303.0                 Chilled Shared Space   \n",
              "86008          NaN         NaN                                  NaN   \n",
              "\n",
              "      Property Type     Listing Type Created Date Last Scraped Date  Zipcode  \\\n",
              "0         Apartment     Private room   2008-06-28        2016-03-18  10036.0   \n",
              "1         Apartment  Entire home/apt   2008-07-25        2016-03-02  10011.0   \n",
              "2         Apartment     Private room   2008-09-05        2017-03-01  10026.0   \n",
              "3         Apartment  Entire home/apt   2008-09-06        2016-02-19  10065.0   \n",
              "4         Apartment     Private room   2008-09-07        2016-11-19  11218.0   \n",
              "...             ...              ...          ...               ...      ...   \n",
              "86004     Apartment  Entire home/apt   2017-01-23        2017-02-05  10014.0   \n",
              "86005     Apartment      Shared room   2017-01-23        2017-02-03  11206.0   \n",
              "86006     Apartment      Shared room   2017-01-23        2017-02-03  11206.0   \n",
              "86007     Apartment      Shared room   2017-01-23        2017-02-02  11206.0   \n",
              "86008           NaN              NaN          NaN               NaN      NaN   \n",
              "\n",
              "          Neighborhood  Average Daily Rate  ...  Published Monthly Rate  \\\n",
              "0              Midtown                 NaN  ...                 15000.0   \n",
              "1              Chelsea                 NaN  ...                  8400.0   \n",
              "2               Harlem              104.99  ...                  1690.0   \n",
              "3      Upper East Side              151.79  ...                  4060.0   \n",
              "4           Kensington               70.18  ...                   999.0   \n",
              "...                ...                 ...  ...                     ...   \n",
              "86004     West Village                 NaN  ...                  3752.0   \n",
              "86005     Williamsburg                 NaN  ...                  1036.0   \n",
              "86006     Williamsburg                 NaN  ...                   952.0   \n",
              "86007     Williamsburg                 NaN  ...                  1008.0   \n",
              "86008              NaN                 NaN  ...                     NaN   \n",
              "\n",
              "       Published Weekly Rate  Minimum Stay  Count Reservation Days LTM  \\\n",
              "0                     5000.0           1.0                         0.0   \n",
              "1                     2100.0           1.0                         0.0   \n",
              "2                      720.0           2.0                       239.0   \n",
              "3                     1015.0           3.0                       103.0   \n",
              "4                      299.0           1.0                        38.0   \n",
              "...                      ...           ...                         ...   \n",
              "86004                  938.0           1.0                         0.0   \n",
              "86005                  259.0           3.0                         0.0   \n",
              "86006                  238.0           2.0                         0.0   \n",
              "86007                  252.0           1.0                         0.0   \n",
              "86008                    NaN           NaN                         NaN   \n",
              "\n",
              "       Count Available Days LTM  Count Blocked Days LTM  Number of Photos  \\\n",
              "0                         366.0                     0.0              25.0   \n",
              "1                         366.0                     0.0              22.0   \n",
              "2                         106.0                    21.0              11.0   \n",
              "3                           8.0                   255.0              16.0   \n",
              "4                         328.0                     0.0              12.0   \n",
              "...                         ...                     ...               ...   \n",
              "86004                      31.0                     0.0               7.0   \n",
              "86005                      31.0                     0.0               8.0   \n",
              "86006                      28.0                     3.0               6.0   \n",
              "86007                      31.0                     0.0               9.0   \n",
              "86008                       NaN                     NaN               NaN   \n",
              "\n",
              "       Business Ready Instantbook Enabled  Superhost  \n",
              "0                   0                   0          0  \n",
              "1                   0                   0          0  \n",
              "2                   0                   0          0  \n",
              "3                   0                   0          0  \n",
              "4                   0                   0          1  \n",
              "...               ...                 ...        ...  \n",
              "86004               0                   1          0  \n",
              "86005               0                   0          0  \n",
              "86006               0                   0          0  \n",
              "86007               0                   0          0  \n",
              "86008               0                   0          0  \n",
              "\n",
              "[86009 rows x 36 columns]"
            ],
            "text/html": [
              "\n",
              "  <div id=\"df-6d3df28c-ad63-4de6-bdde-c8f5a9405192\">\n",
              "    <div class=\"colab-df-container\">\n",
              "      <div>\n",
              "<style scoped>\n",
              "    .dataframe tbody tr th:only-of-type {\n",
              "        vertical-align: middle;\n",
              "    }\n",
              "\n",
              "    .dataframe tbody tr th {\n",
              "        vertical-align: top;\n",
              "    }\n",
              "\n",
              "    .dataframe thead th {\n",
              "        text-align: right;\n",
              "    }\n",
              "</style>\n",
              "<table border=\"1\" class=\"dataframe\">\n",
              "  <thead>\n",
              "    <tr style=\"text-align: right;\">\n",
              "      <th></th>\n",
              "      <th>Property ID</th>\n",
              "      <th>Host ID</th>\n",
              "      <th>Listing Title</th>\n",
              "      <th>Property Type</th>\n",
              "      <th>Listing Type</th>\n",
              "      <th>Created Date</th>\n",
              "      <th>Last Scraped Date</th>\n",
              "      <th>Zipcode</th>\n",
              "      <th>Neighborhood</th>\n",
              "      <th>Average Daily Rate</th>\n",
              "      <th>...</th>\n",
              "      <th>Published Monthly Rate</th>\n",
              "      <th>Published Weekly Rate</th>\n",
              "      <th>Minimum Stay</th>\n",
              "      <th>Count Reservation Days LTM</th>\n",
              "      <th>Count Available Days LTM</th>\n",
              "      <th>Count Blocked Days LTM</th>\n",
              "      <th>Number of Photos</th>\n",
              "      <th>Business Ready</th>\n",
              "      <th>Instantbook Enabled</th>\n",
              "      <th>Superhost</th>\n",
              "    </tr>\n",
              "  </thead>\n",
              "  <tbody>\n",
              "    <tr>\n",
              "      <th>0</th>\n",
              "      <td>105.0</td>\n",
              "      <td>500.0</td>\n",
              "      <td>Trendy Times Square Loft</td>\n",
              "      <td>Apartment</td>\n",
              "      <td>Private room</td>\n",
              "      <td>2008-06-28</td>\n",
              "      <td>2016-03-18</td>\n",
              "      <td>10036.0</td>\n",
              "      <td>Midtown</td>\n",
              "      <td>NaN</td>\n",
              "      <td>...</td>\n",
              "      <td>15000.0</td>\n",
              "      <td>5000.0</td>\n",
              "      <td>1.0</td>\n",
              "      <td>0.0</td>\n",
              "      <td>366.0</td>\n",
              "      <td>0.0</td>\n",
              "      <td>25.0</td>\n",
              "      <td>0</td>\n",
              "      <td>0</td>\n",
              "      <td>0</td>\n",
              "    </tr>\n",
              "    <tr>\n",
              "      <th>1</th>\n",
              "      <td>795.0</td>\n",
              "      <td>1061.0</td>\n",
              "      <td>Sky Chelsea 3 bdr</td>\n",
              "      <td>Apartment</td>\n",
              "      <td>Entire home/apt</td>\n",
              "      <td>2008-07-25</td>\n",
              "      <td>2016-03-02</td>\n",
              "      <td>10011.0</td>\n",
              "      <td>Chelsea</td>\n",
              "      <td>NaN</td>\n",
              "      <td>...</td>\n",
              "      <td>8400.0</td>\n",
              "      <td>2100.0</td>\n",
              "      <td>1.0</td>\n",
              "      <td>0.0</td>\n",
              "      <td>366.0</td>\n",
              "      <td>0.0</td>\n",
              "      <td>22.0</td>\n",
              "      <td>0</td>\n",
              "      <td>0</td>\n",
              "      <td>0</td>\n",
              "    </tr>\n",
              "    <tr>\n",
              "      <th>2</th>\n",
              "      <td>2515.0</td>\n",
              "      <td>2758.0</td>\n",
              "      <td>Stay at Chez Chic budget room #1</td>\n",
              "      <td>Apartment</td>\n",
              "      <td>Private room</td>\n",
              "      <td>2008-09-05</td>\n",
              "      <td>2017-03-01</td>\n",
              "      <td>10026.0</td>\n",
              "      <td>Harlem</td>\n",
              "      <td>104.99</td>\n",
              "      <td>...</td>\n",
              "      <td>1690.0</td>\n",
              "      <td>720.0</td>\n",
              "      <td>2.0</td>\n",
              "      <td>239.0</td>\n",
              "      <td>106.0</td>\n",
              "      <td>21.0</td>\n",
              "      <td>11.0</td>\n",
              "      <td>0</td>\n",
              "      <td>0</td>\n",
              "      <td>0</td>\n",
              "    </tr>\n",
              "    <tr>\n",
              "      <th>3</th>\n",
              "      <td>2534.0</td>\n",
              "      <td>2782.0</td>\n",
              "      <td>The Nest: Cozy, Quiet, Clean, Sunny</td>\n",
              "      <td>Apartment</td>\n",
              "      <td>Entire home/apt</td>\n",
              "      <td>2008-09-06</td>\n",
              "      <td>2016-02-19</td>\n",
              "      <td>10065.0</td>\n",
              "      <td>Upper East Side</td>\n",
              "      <td>151.79</td>\n",
              "      <td>...</td>\n",
              "      <td>4060.0</td>\n",
              "      <td>1015.0</td>\n",
              "      <td>3.0</td>\n",
              "      <td>103.0</td>\n",
              "      <td>8.0</td>\n",
              "      <td>255.0</td>\n",
              "      <td>16.0</td>\n",
              "      <td>0</td>\n",
              "      <td>0</td>\n",
              "      <td>0</td>\n",
              "    </tr>\n",
              "    <tr>\n",
              "      <th>4</th>\n",
              "      <td>2539.0</td>\n",
              "      <td>2787.0</td>\n",
              "      <td>Clean &amp; quiet apt home by the park</td>\n",
              "      <td>Apartment</td>\n",
              "      <td>Private room</td>\n",
              "      <td>2008-09-07</td>\n",
              "      <td>2016-11-19</td>\n",
              "      <td>11218.0</td>\n",
              "      <td>Kensington</td>\n",
              "      <td>70.18</td>\n",
              "      <td>...</td>\n",
              "      <td>999.0</td>\n",
              "      <td>299.0</td>\n",
              "      <td>1.0</td>\n",
              "      <td>38.0</td>\n",
              "      <td>328.0</td>\n",
              "      <td>0.0</td>\n",
              "      <td>12.0</td>\n",
              "      <td>0</td>\n",
              "      <td>0</td>\n",
              "      <td>1</td>\n",
              "    </tr>\n",
              "    <tr>\n",
              "      <th>...</th>\n",
              "      <td>...</td>\n",
              "      <td>...</td>\n",
              "      <td>...</td>\n",
              "      <td>...</td>\n",
              "      <td>...</td>\n",
              "      <td>...</td>\n",
              "      <td>...</td>\n",
              "      <td>...</td>\n",
              "      <td>...</td>\n",
              "      <td>...</td>\n",
              "      <td>...</td>\n",
              "      <td>...</td>\n",
              "      <td>...</td>\n",
              "      <td>...</td>\n",
              "      <td>...</td>\n",
              "      <td>...</td>\n",
              "      <td>...</td>\n",
              "      <td>...</td>\n",
              "      <td>...</td>\n",
              "      <td>...</td>\n",
              "      <td>...</td>\n",
              "    </tr>\n",
              "    <tr>\n",
              "      <th>86004</th>\n",
              "      <td>16905634.0</td>\n",
              "      <td>1009903.0</td>\n",
              "      <td>Comfort and coziness</td>\n",
              "      <td>Apartment</td>\n",
              "      <td>Entire home/apt</td>\n",
              "      <td>2017-01-23</td>\n",
              "      <td>2017-02-05</td>\n",
              "      <td>10014.0</td>\n",
              "      <td>West Village</td>\n",
              "      <td>NaN</td>\n",
              "      <td>...</td>\n",
              "      <td>3752.0</td>\n",
              "      <td>938.0</td>\n",
              "      <td>1.0</td>\n",
              "      <td>0.0</td>\n",
              "      <td>31.0</td>\n",
              "      <td>0.0</td>\n",
              "      <td>7.0</td>\n",
              "      <td>0</td>\n",
              "      <td>1</td>\n",
              "      <td>0</td>\n",
              "    </tr>\n",
              "    <tr>\n",
              "      <th>86005</th>\n",
              "      <td>16908288.0</td>\n",
              "      <td>24120303.0</td>\n",
              "      <td>Fresh Shared Space</td>\n",
              "      <td>Apartment</td>\n",
              "      <td>Shared room</td>\n",
              "      <td>2017-01-23</td>\n",
              "      <td>2017-02-03</td>\n",
              "      <td>11206.0</td>\n",
              "      <td>Williamsburg</td>\n",
              "      <td>NaN</td>\n",
              "      <td>...</td>\n",
              "      <td>1036.0</td>\n",
              "      <td>259.0</td>\n",
              "      <td>3.0</td>\n",
              "      <td>0.0</td>\n",
              "      <td>31.0</td>\n",
              "      <td>0.0</td>\n",
              "      <td>8.0</td>\n",
              "      <td>0</td>\n",
              "      <td>0</td>\n",
              "      <td>0</td>\n",
              "    </tr>\n",
              "    <tr>\n",
              "      <th>86006</th>\n",
              "      <td>16909197.0</td>\n",
              "      <td>24120303.0</td>\n",
              "      <td>Fun Cozy Environment</td>\n",
              "      <td>Apartment</td>\n",
              "      <td>Shared room</td>\n",
              "      <td>2017-01-23</td>\n",
              "      <td>2017-02-03</td>\n",
              "      <td>11206.0</td>\n",
              "      <td>Williamsburg</td>\n",
              "      <td>NaN</td>\n",
              "      <td>...</td>\n",
              "      <td>952.0</td>\n",
              "      <td>238.0</td>\n",
              "      <td>2.0</td>\n",
              "      <td>0.0</td>\n",
              "      <td>28.0</td>\n",
              "      <td>3.0</td>\n",
              "      <td>6.0</td>\n",
              "      <td>0</td>\n",
              "      <td>0</td>\n",
              "      <td>0</td>\n",
              "    </tr>\n",
              "    <tr>\n",
              "      <th>86007</th>\n",
              "      <td>16909522.0</td>\n",
              "      <td>24120303.0</td>\n",
              "      <td>Chilled Shared Space</td>\n",
              "      <td>Apartment</td>\n",
              "      <td>Shared room</td>\n",
              "      <td>2017-01-23</td>\n",
              "      <td>2017-02-02</td>\n",
              "      <td>11206.0</td>\n",
              "      <td>Williamsburg</td>\n",
              "      <td>NaN</td>\n",
              "      <td>...</td>\n",
              "      <td>1008.0</td>\n",
              "      <td>252.0</td>\n",
              "      <td>1.0</td>\n",
              "      <td>0.0</td>\n",
              "      <td>31.0</td>\n",
              "      <td>0.0</td>\n",
              "      <td>9.0</td>\n",
              "      <td>0</td>\n",
              "      <td>0</td>\n",
              "      <td>0</td>\n",
              "    </tr>\n",
              "    <tr>\n",
              "      <th>86008</th>\n",
              "      <td>NaN</td>\n",
              "      <td>NaN</td>\n",
              "      <td>NaN</td>\n",
              "      <td>NaN</td>\n",
              "      <td>NaN</td>\n",
              "      <td>NaN</td>\n",
              "      <td>NaN</td>\n",
              "      <td>NaN</td>\n",
              "      <td>NaN</td>\n",
              "      <td>NaN</td>\n",
              "      <td>...</td>\n",
              "      <td>NaN</td>\n",
              "      <td>NaN</td>\n",
              "      <td>NaN</td>\n",
              "      <td>NaN</td>\n",
              "      <td>NaN</td>\n",
              "      <td>NaN</td>\n",
              "      <td>NaN</td>\n",
              "      <td>0</td>\n",
              "      <td>0</td>\n",
              "      <td>0</td>\n",
              "    </tr>\n",
              "  </tbody>\n",
              "</table>\n",
              "<p>86009 rows × 36 columns</p>\n",
              "</div>\n",
              "      <button class=\"colab-df-convert\" onclick=\"convertToInteractive('df-6d3df28c-ad63-4de6-bdde-c8f5a9405192')\"\n",
              "              title=\"Convert this dataframe to an interactive table.\"\n",
              "              style=\"display:none;\">\n",
              "        \n",
              "  <svg xmlns=\"http://www.w3.org/2000/svg\" height=\"24px\"viewBox=\"0 0 24 24\"\n",
              "       width=\"24px\">\n",
              "    <path d=\"M0 0h24v24H0V0z\" fill=\"none\"/>\n",
              "    <path d=\"M18.56 5.44l.94 2.06.94-2.06 2.06-.94-2.06-.94-.94-2.06-.94 2.06-2.06.94zm-11 1L8.5 8.5l.94-2.06 2.06-.94-2.06-.94L8.5 2.5l-.94 2.06-2.06.94zm10 10l.94 2.06.94-2.06 2.06-.94-2.06-.94-.94-2.06-.94 2.06-2.06.94z\"/><path d=\"M17.41 7.96l-1.37-1.37c-.4-.4-.92-.59-1.43-.59-.52 0-1.04.2-1.43.59L10.3 9.45l-7.72 7.72c-.78.78-.78 2.05 0 2.83L4 21.41c.39.39.9.59 1.41.59.51 0 1.02-.2 1.41-.59l7.78-7.78 2.81-2.81c.8-.78.8-2.07 0-2.86zM5.41 20L4 18.59l7.72-7.72 1.47 1.35L5.41 20z\"/>\n",
              "  </svg>\n",
              "      </button>\n",
              "      \n",
              "  <style>\n",
              "    .colab-df-container {\n",
              "      display:flex;\n",
              "      flex-wrap:wrap;\n",
              "      gap: 12px;\n",
              "    }\n",
              "\n",
              "    .colab-df-convert {\n",
              "      background-color: #E8F0FE;\n",
              "      border: none;\n",
              "      border-radius: 50%;\n",
              "      cursor: pointer;\n",
              "      display: none;\n",
              "      fill: #1967D2;\n",
              "      height: 32px;\n",
              "      padding: 0 0 0 0;\n",
              "      width: 32px;\n",
              "    }\n",
              "\n",
              "    .colab-df-convert:hover {\n",
              "      background-color: #E2EBFA;\n",
              "      box-shadow: 0px 1px 2px rgba(60, 64, 67, 0.3), 0px 1px 3px 1px rgba(60, 64, 67, 0.15);\n",
              "      fill: #174EA6;\n",
              "    }\n",
              "\n",
              "    [theme=dark] .colab-df-convert {\n",
              "      background-color: #3B4455;\n",
              "      fill: #D2E3FC;\n",
              "    }\n",
              "\n",
              "    [theme=dark] .colab-df-convert:hover {\n",
              "      background-color: #434B5C;\n",
              "      box-shadow: 0px 1px 3px 1px rgba(0, 0, 0, 0.15);\n",
              "      filter: drop-shadow(0px 1px 2px rgba(0, 0, 0, 0.3));\n",
              "      fill: #FFFFFF;\n",
              "    }\n",
              "  </style>\n",
              "\n",
              "      <script>\n",
              "        const buttonEl =\n",
              "          document.querySelector('#df-6d3df28c-ad63-4de6-bdde-c8f5a9405192 button.colab-df-convert');\n",
              "        buttonEl.style.display =\n",
              "          google.colab.kernel.accessAllowed ? 'block' : 'none';\n",
              "\n",
              "        async function convertToInteractive(key) {\n",
              "          const element = document.querySelector('#df-6d3df28c-ad63-4de6-bdde-c8f5a9405192');\n",
              "          const dataTable =\n",
              "            await google.colab.kernel.invokeFunction('convertToInteractive',\n",
              "                                                     [key], {});\n",
              "          if (!dataTable) return;\n",
              "\n",
              "          const docLinkHtml = 'Like what you see? Visit the ' +\n",
              "            '<a target=\"_blank\" href=https://colab.research.google.com/notebooks/data_table.ipynb>data table notebook</a>'\n",
              "            + ' to learn more about interactive tables.';\n",
              "          element.innerHTML = '';\n",
              "          dataTable['output_type'] = 'display_data';\n",
              "          await google.colab.output.renderOutput(dataTable, element);\n",
              "          const docLink = document.createElement('div');\n",
              "          docLink.innerHTML = docLinkHtml;\n",
              "          element.appendChild(docLink);\n",
              "        }\n",
              "      </script>\n",
              "    </div>\n",
              "  </div>\n",
              "  "
            ]
          },
          "metadata": {},
          "execution_count": 22
        }
      ],
      "source": [
        "data5"
      ]
    },
    {
      "cell_type": "markdown",
      "metadata": {
        "id": "v2LTfwAyu2yt"
      },
      "source": [
        "Replacing null ADR with 87.5"
      ]
    },
    {
      "cell_type": "code",
      "execution_count": null,
      "metadata": {
        "colab": {
          "base_uri": "https://localhost:8080/"
        },
        "id": "IZqvKwr7YTfy",
        "outputId": "8bad82d3-55ca-4d57-bcf3-1ffae7c3c272"
      },
      "outputs": [
        {
          "output_type": "execute_result",
          "data": {
            "text/plain": [
              "Property ID                       1\n",
              "Host ID                           1\n",
              "Listing Title                     2\n",
              "Property Type                     3\n",
              "Listing Type                      1\n",
              "Created Date                      1\n",
              "Last Scraped Date                 1\n",
              "Zipcode                           1\n",
              "Neighborhood                    153\n",
              "Average Daily Rate                0\n",
              "Annual Revenue LTM                1\n",
              "Occupancy Rate LTM            22617\n",
              "Number of Bookings LTM            1\n",
              "Number of Reviews                 1\n",
              "Overall Rating                29887\n",
              "Bedrooms                        119\n",
              "Bathrooms                       319\n",
              "Max Guests                        1\n",
              "Calendar Last Updated          1824\n",
              "Response Rate                 36590\n",
              "Response Time (min)           24443\n",
              "Cancellation Policy               1\n",
              "Security Deposit              48364\n",
              "Cleaning Fee                  28768\n",
              "Extra People Fee              55260\n",
              "Published Nightly Rate            1\n",
              "Published Monthly Rate          552\n",
              "Published Weekly Rate           550\n",
              "Minimum Stay                      1\n",
              "Count Reservation Days LTM       12\n",
              "Count Available Days LTM         12\n",
              "Count Blocked Days LTM           12\n",
              "Number of Photos                  1\n",
              "Business Ready                    0\n",
              "Instantbook Enabled               0\n",
              "Superhost                         0\n",
              "check_adr                         0\n",
              "dtype: int64"
            ]
          },
          "metadata": {},
          "execution_count": 23
        }
      ],
      "source": [
        "#Replacing NAs with mode of the mean of top 12 neighborhood Average Daily Rate\n",
        "data5['Average Daily Rate']=np.where(data2['Average Daily Rate'].isnull(), 87.5, data2['Average Daily Rate'])\n",
        "\n",
        "#Creating variable to keep track of engineered results\n",
        "data5['check_adr']=np.where(data5[\"Average Daily Rate\"]==87.5, 1, 0)\n",
        "data5.columns\n",
        "data5.isna().sum()"
      ]
    },
    {
      "cell_type": "code",
      "execution_count": null,
      "metadata": {
        "colab": {
          "base_uri": "https://localhost:8080/"
        },
        "id": "D_MV-SYj1c35",
        "outputId": "d53bae70-86b3-430a-df7c-f9e1c538c2ad"
      },
      "outputs": [
        {
          "output_type": "stream",
          "name": "stdout",
          "text": [
            "7567\n",
            "10038\n",
            "2471\n"
          ]
        }
      ],
      "source": [
        "#We can see that by making adjustments to the ADR we're able to save  2471 data points\n",
        "print(len(data.dropna()))\n",
        "print(len(data5.dropna()))\n",
        "print(len(data5.dropna())-len(data.dropna()))"
      ]
    },
    {
      "cell_type": "code",
      "execution_count": null,
      "metadata": {
        "id": "Y9kZ8M6U34nD"
      },
      "outputs": [],
      "source": [
        "data6=data5.dropna()"
      ]
    },
    {
      "cell_type": "code",
      "execution_count": null,
      "metadata": {
        "colab": {
          "base_uri": "https://localhost:8080/"
        },
        "id": "EILe6xg7n0LG",
        "outputId": "81dd9fb1-2f1a-4f2b-e6b9-ff0eb8554521"
      },
      "outputs": [
        {
          "output_type": "stream",
          "name": "stdout",
          "text": [
            "Listing Type: ['Private room' 'Entire home/apt' 'Shared room' nan]\n",
            "Property Type: ['Apartment' 'Other' 'Bed & Breakfast' 'House' 'Condominium' 'Loft'\n",
            " 'Townhouse' nan 'Bed &amp; Breakfast' 'Boutique hotel' 'Villa' 'Cabin'\n",
            " 'Dorm' 'Timeshare' 'Boat' 'Hut' 'Guesthouse' 'Chalet' 'Bungalow' 'Island'\n",
            " 'Hostel' 'Tent' 'Entire Floor' 'Camper/RV' 'Castle' 'Treehouse' 'Cave'\n",
            " 'Lighthouse' 'Earth House' 'Train' 'Plane' 'Serviced apartment']\n",
            "Cancellation Policy: ['Flexible' 'Strict' 'Moderate' 'Super Strict 30 Days'\n",
            " 'Super Strict 60 Days' 'No Refunds' 'Long Term' nan]\n"
          ]
        },
        {
          "output_type": "stream",
          "name": "stderr",
          "text": [
            "/usr/local/lib/python3.7/dist-packages/ipykernel_launcher.py:6: SettingWithCopyWarning: \n",
            "A value is trying to be set on a copy of a slice from a DataFrame.\n",
            "Try using .loc[row_indexer,col_indexer] = value instead\n",
            "\n",
            "See the caveats in the documentation: https://pandas.pydata.org/pandas-docs/stable/user_guide/indexing.html#returning-a-view-versus-a-copy\n",
            "  \n",
            "/usr/local/lib/python3.7/dist-packages/ipykernel_launcher.py:7: SettingWithCopyWarning: \n",
            "A value is trying to be set on a copy of a slice from a DataFrame.\n",
            "Try using .loc[row_indexer,col_indexer] = value instead\n",
            "\n",
            "See the caveats in the documentation: https://pandas.pydata.org/pandas-docs/stable/user_guide/indexing.html#returning-a-view-versus-a-copy\n",
            "  import sys\n",
            "/usr/local/lib/python3.7/dist-packages/ipykernel_launcher.py:8: SettingWithCopyWarning: \n",
            "A value is trying to be set on a copy of a slice from a DataFrame.\n",
            "Try using .loc[row_indexer,col_indexer] = value instead\n",
            "\n",
            "See the caveats in the documentation: https://pandas.pydata.org/pandas-docs/stable/user_guide/indexing.html#returning-a-view-versus-a-copy\n",
            "  \n"
          ]
        }
      ],
      "source": [
        "# Creating categories\n",
        "print('Listing Type:', data5['Listing Type'].unique())\n",
        "print('Property Type:', data5['Property Type'].unique())\n",
        "print('Cancellation Policy:', data5['Cancellation Policy'].unique())\n",
        "\n",
        "data6['Listing Type'] = pd.factorize(data6['Listing Type'])[0] + 1\n",
        "data6['Property Type'] = pd.factorize(data6['Property Type'])[0] + 1\n",
        "data6['Cancellation Policy']=pd.factorize(data6['Property Type'])[0] + 1"
      ]
    },
    {
      "cell_type": "markdown",
      "metadata": {
        "id": "KPW-d9NEs9w6"
      },
      "source": [
        "Two different datasets each with a different dependent price variable:\n",
        "\n",
        "- ADR_data: views the data with average daily rate as the dependent variable\n",
        "\n",
        "- Night_data views the data with Published Nightly rate as the dependent variable"
      ]
    },
    {
      "cell_type": "code",
      "execution_count": null,
      "metadata": {
        "colab": {
          "base_uri": "https://localhost:8080/"
        },
        "id": "0QeEZUm-0x58",
        "outputId": "e2e89f20-e0bd-4f96-f4fa-4bb1e4ba3390"
      },
      "outputs": [
        {
          "output_type": "execute_result",
          "data": {
            "text/plain": [
              "22.348492081019685"
            ]
          },
          "metadata": {},
          "execution_count": 27
        }
      ],
      "source": [
        "#Category:\"Listing Title\" , \"Property Type\", \"Listing Type\"\n",
        "#dummies: 'Superhost', 'Business Ready', \"Instant book Enabled\"\n",
        "#Price variables: \"Average Daily Rate\", \"Annual Revenue LTM\", \"Number of Bookings LTM\", \"Published Nightly Rate\", \"Published Monthly Rate\", \"Published Weekly Rate\"\n",
        "\n",
        "#Looking at the difference between nightly rate and average daily rate\n",
        "a=data2[[\"Published Nightly Rate\", 'Average Daily Rate']].dropna()\n",
        "ab= a['Published Nightly Rate'] - a['Average Daily Rate']\n",
        "ab. mean()\n",
        "\n"
      ]
    },
    {
      "cell_type": "code",
      "execution_count": null,
      "metadata": {
        "colab": {
          "base_uri": "https://localhost:8080/"
        },
        "id": "c2_COyViLnyE",
        "outputId": "6f9976ae-6f53-4000-fc16-52ee3e350873"
      },
      "outputs": [
        {
          "output_type": "execute_result",
          "data": {
            "text/plain": [
              "       Property Type  Listing Type  Occupancy Rate LTM  \\\n",
              "4                  1             1               0.104   \n",
              "6                  1             1               0.617   \n",
              "13                 1             2               0.341   \n",
              "14                 1             2               0.762   \n",
              "42                 2             1               0.408   \n",
              "...              ...           ...                 ...   \n",
              "85268              1             2               0.143   \n",
              "85289              4             2               0.100   \n",
              "85391              1             2               0.067   \n",
              "85435              1             1               0.208   \n",
              "85503              4             1               0.065   \n",
              "\n",
              "       Number of Bookings LTM  Number of Reviews  Overall Rating  Bedrooms  \\\n",
              "4                         4.0                3.0             5.0       1.0   \n",
              "6                         6.0               21.0             4.8       1.0   \n",
              "13                       23.0               60.0             4.3       1.0   \n",
              "14                       35.0               60.0             4.8       2.0   \n",
              "42                        3.0                4.0             5.0       1.0   \n",
              "...                       ...                ...             ...       ...   \n",
              "85268                     1.0                4.0             5.0       1.0   \n",
              "85289                     1.0                4.0             5.0       1.0   \n",
              "85391                     1.0                1.0             5.0       0.0   \n",
              "85435                     2.0                1.0             5.0       1.0   \n",
              "85503                     1.0                4.0             5.0       1.0   \n",
              "\n",
              "       Bathrooms  Max Guests  Response Rate  ...  Published Nightly Rate  \\\n",
              "4            1.0         5.0          100.0  ...                    64.0   \n",
              "6            1.0         2.0           95.0  ...                   175.0   \n",
              "13           1.0         4.0           92.0  ...                   255.0   \n",
              "14           1.0         6.0          100.0  ...                   350.0   \n",
              "42           1.0         2.0           60.0  ...                    74.0   \n",
              "...          ...         ...            ...  ...                     ...   \n",
              "85268        1.5         3.0           85.0  ...                   340.0   \n",
              "85289        1.0         4.0          100.0  ...                   230.0   \n",
              "85391        1.0         4.0          100.0  ...                   275.0   \n",
              "85435        1.0         2.0          100.0  ...                    50.0   \n",
              "85503        1.0         2.0          100.0  ...                    70.0   \n",
              "\n",
              "       Minimum Stay  Count Reservation Days LTM  Count Available Days LTM  \\\n",
              "4               1.0                        38.0                     328.0   \n",
              "6               3.0                       201.0                     125.0   \n",
              "13              3.0                       114.0                     220.0   \n",
              "14              3.0                       138.0                      43.0   \n",
              "42              3.0                        29.0                      42.0   \n",
              "...             ...                         ...                       ...   \n",
              "85268           3.0                         2.0                      12.0   \n",
              "85289           2.0                         2.0                      18.0   \n",
              "85391           2.0                         2.0                      28.0   \n",
              "85435           2.0                         5.0                      19.0   \n",
              "85503           1.0                         2.0                      29.0   \n",
              "\n",
              "       Count Blocked Days LTM  Number of Photos  Business Ready  \\\n",
              "4                         0.0              12.0               0   \n",
              "6                        40.0              32.0               0   \n",
              "13                       32.0              14.0               0   \n",
              "14                      185.0              15.0               0   \n",
              "42                      295.0              21.0               0   \n",
              "...                       ...               ...             ...   \n",
              "85268                    17.0              15.0               1   \n",
              "85289                    11.0               6.0               1   \n",
              "85391                     1.0              11.0               0   \n",
              "85435                     7.0               9.0               0   \n",
              "85503                     0.0              28.0               0   \n",
              "\n",
              "       Instantbook Enabled  Superhost  check_adr  \n",
              "4                        0          1          0  \n",
              "6                        0          0          0  \n",
              "13                       0          0          0  \n",
              "14                       0          1          0  \n",
              "42                       0          0          0  \n",
              "...                    ...        ...        ...  \n",
              "85268                    0          0          0  \n",
              "85289                    0          0          0  \n",
              "85391                    0          0          0  \n",
              "85435                    1          0          0  \n",
              "85503                    0          0          0  \n",
              "\n",
              "[10038 rows x 24 columns]"
            ],
            "text/html": [
              "\n",
              "  <div id=\"df-6f3c977f-25b9-4192-82f0-ff5fbfa887f0\">\n",
              "    <div class=\"colab-df-container\">\n",
              "      <div>\n",
              "<style scoped>\n",
              "    .dataframe tbody tr th:only-of-type {\n",
              "        vertical-align: middle;\n",
              "    }\n",
              "\n",
              "    .dataframe tbody tr th {\n",
              "        vertical-align: top;\n",
              "    }\n",
              "\n",
              "    .dataframe thead th {\n",
              "        text-align: right;\n",
              "    }\n",
              "</style>\n",
              "<table border=\"1\" class=\"dataframe\">\n",
              "  <thead>\n",
              "    <tr style=\"text-align: right;\">\n",
              "      <th></th>\n",
              "      <th>Property Type</th>\n",
              "      <th>Listing Type</th>\n",
              "      <th>Occupancy Rate LTM</th>\n",
              "      <th>Number of Bookings LTM</th>\n",
              "      <th>Number of Reviews</th>\n",
              "      <th>Overall Rating</th>\n",
              "      <th>Bedrooms</th>\n",
              "      <th>Bathrooms</th>\n",
              "      <th>Max Guests</th>\n",
              "      <th>Response Rate</th>\n",
              "      <th>...</th>\n",
              "      <th>Published Nightly Rate</th>\n",
              "      <th>Minimum Stay</th>\n",
              "      <th>Count Reservation Days LTM</th>\n",
              "      <th>Count Available Days LTM</th>\n",
              "      <th>Count Blocked Days LTM</th>\n",
              "      <th>Number of Photos</th>\n",
              "      <th>Business Ready</th>\n",
              "      <th>Instantbook Enabled</th>\n",
              "      <th>Superhost</th>\n",
              "      <th>check_adr</th>\n",
              "    </tr>\n",
              "  </thead>\n",
              "  <tbody>\n",
              "    <tr>\n",
              "      <th>4</th>\n",
              "      <td>1</td>\n",
              "      <td>1</td>\n",
              "      <td>0.104</td>\n",
              "      <td>4.0</td>\n",
              "      <td>3.0</td>\n",
              "      <td>5.0</td>\n",
              "      <td>1.0</td>\n",
              "      <td>1.0</td>\n",
              "      <td>5.0</td>\n",
              "      <td>100.0</td>\n",
              "      <td>...</td>\n",
              "      <td>64.0</td>\n",
              "      <td>1.0</td>\n",
              "      <td>38.0</td>\n",
              "      <td>328.0</td>\n",
              "      <td>0.0</td>\n",
              "      <td>12.0</td>\n",
              "      <td>0</td>\n",
              "      <td>0</td>\n",
              "      <td>1</td>\n",
              "      <td>0</td>\n",
              "    </tr>\n",
              "    <tr>\n",
              "      <th>6</th>\n",
              "      <td>1</td>\n",
              "      <td>1</td>\n",
              "      <td>0.617</td>\n",
              "      <td>6.0</td>\n",
              "      <td>21.0</td>\n",
              "      <td>4.8</td>\n",
              "      <td>1.0</td>\n",
              "      <td>1.0</td>\n",
              "      <td>2.0</td>\n",
              "      <td>95.0</td>\n",
              "      <td>...</td>\n",
              "      <td>175.0</td>\n",
              "      <td>3.0</td>\n",
              "      <td>201.0</td>\n",
              "      <td>125.0</td>\n",
              "      <td>40.0</td>\n",
              "      <td>32.0</td>\n",
              "      <td>0</td>\n",
              "      <td>0</td>\n",
              "      <td>0</td>\n",
              "      <td>0</td>\n",
              "    </tr>\n",
              "    <tr>\n",
              "      <th>13</th>\n",
              "      <td>1</td>\n",
              "      <td>2</td>\n",
              "      <td>0.341</td>\n",
              "      <td>23.0</td>\n",
              "      <td>60.0</td>\n",
              "      <td>4.3</td>\n",
              "      <td>1.0</td>\n",
              "      <td>1.0</td>\n",
              "      <td>4.0</td>\n",
              "      <td>92.0</td>\n",
              "      <td>...</td>\n",
              "      <td>255.0</td>\n",
              "      <td>3.0</td>\n",
              "      <td>114.0</td>\n",
              "      <td>220.0</td>\n",
              "      <td>32.0</td>\n",
              "      <td>14.0</td>\n",
              "      <td>0</td>\n",
              "      <td>0</td>\n",
              "      <td>0</td>\n",
              "      <td>0</td>\n",
              "    </tr>\n",
              "    <tr>\n",
              "      <th>14</th>\n",
              "      <td>1</td>\n",
              "      <td>2</td>\n",
              "      <td>0.762</td>\n",
              "      <td>35.0</td>\n",
              "      <td>60.0</td>\n",
              "      <td>4.8</td>\n",
              "      <td>2.0</td>\n",
              "      <td>1.0</td>\n",
              "      <td>6.0</td>\n",
              "      <td>100.0</td>\n",
              "      <td>...</td>\n",
              "      <td>350.0</td>\n",
              "      <td>3.0</td>\n",
              "      <td>138.0</td>\n",
              "      <td>43.0</td>\n",
              "      <td>185.0</td>\n",
              "      <td>15.0</td>\n",
              "      <td>0</td>\n",
              "      <td>0</td>\n",
              "      <td>1</td>\n",
              "      <td>0</td>\n",
              "    </tr>\n",
              "    <tr>\n",
              "      <th>42</th>\n",
              "      <td>2</td>\n",
              "      <td>1</td>\n",
              "      <td>0.408</td>\n",
              "      <td>3.0</td>\n",
              "      <td>4.0</td>\n",
              "      <td>5.0</td>\n",
              "      <td>1.0</td>\n",
              "      <td>1.0</td>\n",
              "      <td>2.0</td>\n",
              "      <td>60.0</td>\n",
              "      <td>...</td>\n",
              "      <td>74.0</td>\n",
              "      <td>3.0</td>\n",
              "      <td>29.0</td>\n",
              "      <td>42.0</td>\n",
              "      <td>295.0</td>\n",
              "      <td>21.0</td>\n",
              "      <td>0</td>\n",
              "      <td>0</td>\n",
              "      <td>0</td>\n",
              "      <td>0</td>\n",
              "    </tr>\n",
              "    <tr>\n",
              "      <th>...</th>\n",
              "      <td>...</td>\n",
              "      <td>...</td>\n",
              "      <td>...</td>\n",
              "      <td>...</td>\n",
              "      <td>...</td>\n",
              "      <td>...</td>\n",
              "      <td>...</td>\n",
              "      <td>...</td>\n",
              "      <td>...</td>\n",
              "      <td>...</td>\n",
              "      <td>...</td>\n",
              "      <td>...</td>\n",
              "      <td>...</td>\n",
              "      <td>...</td>\n",
              "      <td>...</td>\n",
              "      <td>...</td>\n",
              "      <td>...</td>\n",
              "      <td>...</td>\n",
              "      <td>...</td>\n",
              "      <td>...</td>\n",
              "      <td>...</td>\n",
              "    </tr>\n",
              "    <tr>\n",
              "      <th>85268</th>\n",
              "      <td>1</td>\n",
              "      <td>2</td>\n",
              "      <td>0.143</td>\n",
              "      <td>1.0</td>\n",
              "      <td>4.0</td>\n",
              "      <td>5.0</td>\n",
              "      <td>1.0</td>\n",
              "      <td>1.5</td>\n",
              "      <td>3.0</td>\n",
              "      <td>85.0</td>\n",
              "      <td>...</td>\n",
              "      <td>340.0</td>\n",
              "      <td>3.0</td>\n",
              "      <td>2.0</td>\n",
              "      <td>12.0</td>\n",
              "      <td>17.0</td>\n",
              "      <td>15.0</td>\n",
              "      <td>1</td>\n",
              "      <td>0</td>\n",
              "      <td>0</td>\n",
              "      <td>0</td>\n",
              "    </tr>\n",
              "    <tr>\n",
              "      <th>85289</th>\n",
              "      <td>4</td>\n",
              "      <td>2</td>\n",
              "      <td>0.100</td>\n",
              "      <td>1.0</td>\n",
              "      <td>4.0</td>\n",
              "      <td>5.0</td>\n",
              "      <td>1.0</td>\n",
              "      <td>1.0</td>\n",
              "      <td>4.0</td>\n",
              "      <td>100.0</td>\n",
              "      <td>...</td>\n",
              "      <td>230.0</td>\n",
              "      <td>2.0</td>\n",
              "      <td>2.0</td>\n",
              "      <td>18.0</td>\n",
              "      <td>11.0</td>\n",
              "      <td>6.0</td>\n",
              "      <td>1</td>\n",
              "      <td>0</td>\n",
              "      <td>0</td>\n",
              "      <td>0</td>\n",
              "    </tr>\n",
              "    <tr>\n",
              "      <th>85391</th>\n",
              "      <td>1</td>\n",
              "      <td>2</td>\n",
              "      <td>0.067</td>\n",
              "      <td>1.0</td>\n",
              "      <td>1.0</td>\n",
              "      <td>5.0</td>\n",
              "      <td>0.0</td>\n",
              "      <td>1.0</td>\n",
              "      <td>4.0</td>\n",
              "      <td>100.0</td>\n",
              "      <td>...</td>\n",
              "      <td>275.0</td>\n",
              "      <td>2.0</td>\n",
              "      <td>2.0</td>\n",
              "      <td>28.0</td>\n",
              "      <td>1.0</td>\n",
              "      <td>11.0</td>\n",
              "      <td>0</td>\n",
              "      <td>0</td>\n",
              "      <td>0</td>\n",
              "      <td>0</td>\n",
              "    </tr>\n",
              "    <tr>\n",
              "      <th>85435</th>\n",
              "      <td>1</td>\n",
              "      <td>1</td>\n",
              "      <td>0.208</td>\n",
              "      <td>2.0</td>\n",
              "      <td>1.0</td>\n",
              "      <td>5.0</td>\n",
              "      <td>1.0</td>\n",
              "      <td>1.0</td>\n",
              "      <td>2.0</td>\n",
              "      <td>100.0</td>\n",
              "      <td>...</td>\n",
              "      <td>50.0</td>\n",
              "      <td>2.0</td>\n",
              "      <td>5.0</td>\n",
              "      <td>19.0</td>\n",
              "      <td>7.0</td>\n",
              "      <td>9.0</td>\n",
              "      <td>0</td>\n",
              "      <td>1</td>\n",
              "      <td>0</td>\n",
              "      <td>0</td>\n",
              "    </tr>\n",
              "    <tr>\n",
              "      <th>85503</th>\n",
              "      <td>4</td>\n",
              "      <td>1</td>\n",
              "      <td>0.065</td>\n",
              "      <td>1.0</td>\n",
              "      <td>4.0</td>\n",
              "      <td>5.0</td>\n",
              "      <td>1.0</td>\n",
              "      <td>1.0</td>\n",
              "      <td>2.0</td>\n",
              "      <td>100.0</td>\n",
              "      <td>...</td>\n",
              "      <td>70.0</td>\n",
              "      <td>1.0</td>\n",
              "      <td>2.0</td>\n",
              "      <td>29.0</td>\n",
              "      <td>0.0</td>\n",
              "      <td>28.0</td>\n",
              "      <td>0</td>\n",
              "      <td>0</td>\n",
              "      <td>0</td>\n",
              "      <td>0</td>\n",
              "    </tr>\n",
              "  </tbody>\n",
              "</table>\n",
              "<p>10038 rows × 24 columns</p>\n",
              "</div>\n",
              "      <button class=\"colab-df-convert\" onclick=\"convertToInteractive('df-6f3c977f-25b9-4192-82f0-ff5fbfa887f0')\"\n",
              "              title=\"Convert this dataframe to an interactive table.\"\n",
              "              style=\"display:none;\">\n",
              "        \n",
              "  <svg xmlns=\"http://www.w3.org/2000/svg\" height=\"24px\"viewBox=\"0 0 24 24\"\n",
              "       width=\"24px\">\n",
              "    <path d=\"M0 0h24v24H0V0z\" fill=\"none\"/>\n",
              "    <path d=\"M18.56 5.44l.94 2.06.94-2.06 2.06-.94-2.06-.94-.94-2.06-.94 2.06-2.06.94zm-11 1L8.5 8.5l.94-2.06 2.06-.94-2.06-.94L8.5 2.5l-.94 2.06-2.06.94zm10 10l.94 2.06.94-2.06 2.06-.94-2.06-.94-.94-2.06-.94 2.06-2.06.94z\"/><path d=\"M17.41 7.96l-1.37-1.37c-.4-.4-.92-.59-1.43-.59-.52 0-1.04.2-1.43.59L10.3 9.45l-7.72 7.72c-.78.78-.78 2.05 0 2.83L4 21.41c.39.39.9.59 1.41.59.51 0 1.02-.2 1.41-.59l7.78-7.78 2.81-2.81c.8-.78.8-2.07 0-2.86zM5.41 20L4 18.59l7.72-7.72 1.47 1.35L5.41 20z\"/>\n",
              "  </svg>\n",
              "      </button>\n",
              "      \n",
              "  <style>\n",
              "    .colab-df-container {\n",
              "      display:flex;\n",
              "      flex-wrap:wrap;\n",
              "      gap: 12px;\n",
              "    }\n",
              "\n",
              "    .colab-df-convert {\n",
              "      background-color: #E8F0FE;\n",
              "      border: none;\n",
              "      border-radius: 50%;\n",
              "      cursor: pointer;\n",
              "      display: none;\n",
              "      fill: #1967D2;\n",
              "      height: 32px;\n",
              "      padding: 0 0 0 0;\n",
              "      width: 32px;\n",
              "    }\n",
              "\n",
              "    .colab-df-convert:hover {\n",
              "      background-color: #E2EBFA;\n",
              "      box-shadow: 0px 1px 2px rgba(60, 64, 67, 0.3), 0px 1px 3px 1px rgba(60, 64, 67, 0.15);\n",
              "      fill: #174EA6;\n",
              "    }\n",
              "\n",
              "    [theme=dark] .colab-df-convert {\n",
              "      background-color: #3B4455;\n",
              "      fill: #D2E3FC;\n",
              "    }\n",
              "\n",
              "    [theme=dark] .colab-df-convert:hover {\n",
              "      background-color: #434B5C;\n",
              "      box-shadow: 0px 1px 3px 1px rgba(0, 0, 0, 0.15);\n",
              "      filter: drop-shadow(0px 1px 2px rgba(0, 0, 0, 0.3));\n",
              "      fill: #FFFFFF;\n",
              "    }\n",
              "  </style>\n",
              "\n",
              "      <script>\n",
              "        const buttonEl =\n",
              "          document.querySelector('#df-6f3c977f-25b9-4192-82f0-ff5fbfa887f0 button.colab-df-convert');\n",
              "        buttonEl.style.display =\n",
              "          google.colab.kernel.accessAllowed ? 'block' : 'none';\n",
              "\n",
              "        async function convertToInteractive(key) {\n",
              "          const element = document.querySelector('#df-6f3c977f-25b9-4192-82f0-ff5fbfa887f0');\n",
              "          const dataTable =\n",
              "            await google.colab.kernel.invokeFunction('convertToInteractive',\n",
              "                                                     [key], {});\n",
              "          if (!dataTable) return;\n",
              "\n",
              "          const docLinkHtml = 'Like what you see? Visit the ' +\n",
              "            '<a target=\"_blank\" href=https://colab.research.google.com/notebooks/data_table.ipynb>data table notebook</a>'\n",
              "            + ' to learn more about interactive tables.';\n",
              "          element.innerHTML = '';\n",
              "          dataTable['output_type'] = 'display_data';\n",
              "          await google.colab.output.renderOutput(dataTable, element);\n",
              "          const docLink = document.createElement('div');\n",
              "          docLink.innerHTML = docLinkHtml;\n",
              "          element.appendChild(docLink);\n",
              "        }\n",
              "      </script>\n",
              "    </div>\n",
              "  </div>\n",
              "  "
            ]
          },
          "metadata": {},
          "execution_count": 28
        }
      ],
      "source": [
        "#Data with Published nightly rate as dependent variable\n",
        "#Removing other price variables\n",
        "Night_data=data6.drop(columns=['Property ID','Neighborhood','Host ID', 'Listing Title', 'Created Date', 'Last Scraped Date', 'Zipcode', 'Annual Revenue LTM', 'Calendar Last Updated', 'Response Time (min)', 'Average Daily Rate', 'Published Monthly Rate','Published Weekly Rate'])\n",
        "Night_data\n"
      ]
    },
    {
      "cell_type": "code",
      "execution_count": null,
      "metadata": {
        "colab": {
          "base_uri": "https://localhost:8080/"
        },
        "id": "hBaV5xtnCSEu",
        "outputId": "390033f1-4f8f-42ab-a6df-0264f518227b"
      },
      "outputs": [
        {
          "output_type": "execute_result",
          "data": {
            "text/plain": [
              "       Property Type  Listing Type  Average Daily Rate  Occupancy Rate LTM  \\\n",
              "4                  1             1               70.18               0.104   \n",
              "6                  1             1               94.04               0.617   \n",
              "13                 1             2              210.59               0.341   \n",
              "14                 1             2              281.38               0.762   \n",
              "42                 2             1               57.48               0.408   \n",
              "...              ...           ...                 ...                 ...   \n",
              "85268              1             2              327.00               0.143   \n",
              "85289              4             2               85.00               0.100   \n",
              "85391              1             2              145.00               0.067   \n",
              "85435              1             1               39.40               0.208   \n",
              "85503              4             1               48.12               0.065   \n",
              "\n",
              "       Number of Bookings LTM  Number of Reviews  Overall Rating  Bedrooms  \\\n",
              "4                         4.0                3.0             5.0       1.0   \n",
              "6                         6.0               21.0             4.8       1.0   \n",
              "13                       23.0               60.0             4.3       1.0   \n",
              "14                       35.0               60.0             4.8       2.0   \n",
              "42                        3.0                4.0             5.0       1.0   \n",
              "...                       ...                ...             ...       ...   \n",
              "85268                     1.0                4.0             5.0       1.0   \n",
              "85289                     1.0                4.0             5.0       1.0   \n",
              "85391                     1.0                1.0             5.0       0.0   \n",
              "85435                     2.0                1.0             5.0       1.0   \n",
              "85503                     1.0                4.0             5.0       1.0   \n",
              "\n",
              "       Bathrooms  Max Guests  ...  Extra People Fee  Minimum Stay  \\\n",
              "4            1.0         5.0  ...              25.0           1.0   \n",
              "6            1.0         2.0  ...              50.0           3.0   \n",
              "13           1.0         4.0  ...              75.0           3.0   \n",
              "14           1.0         6.0  ...              25.0           3.0   \n",
              "42           1.0         2.0  ...              10.0           3.0   \n",
              "...          ...         ...  ...               ...           ...   \n",
              "85268        1.5         3.0  ...              50.0           3.0   \n",
              "85289        1.0         4.0  ...              30.0           2.0   \n",
              "85391        1.0         4.0  ...              15.0           2.0   \n",
              "85435        1.0         2.0  ...               5.0           2.0   \n",
              "85503        1.0         2.0  ...              25.0           1.0   \n",
              "\n",
              "       Count Reservation Days LTM  Count Available Days LTM  \\\n",
              "4                            38.0                     328.0   \n",
              "6                           201.0                     125.0   \n",
              "13                          114.0                     220.0   \n",
              "14                          138.0                      43.0   \n",
              "42                           29.0                      42.0   \n",
              "...                           ...                       ...   \n",
              "85268                         2.0                      12.0   \n",
              "85289                         2.0                      18.0   \n",
              "85391                         2.0                      28.0   \n",
              "85435                         5.0                      19.0   \n",
              "85503                         2.0                      29.0   \n",
              "\n",
              "       Count Blocked Days LTM  Number of Photos  Business Ready  \\\n",
              "4                         0.0              12.0               0   \n",
              "6                        40.0              32.0               0   \n",
              "13                       32.0              14.0               0   \n",
              "14                      185.0              15.0               0   \n",
              "42                      295.0              21.0               0   \n",
              "...                       ...               ...             ...   \n",
              "85268                    17.0              15.0               1   \n",
              "85289                    11.0               6.0               1   \n",
              "85391                     1.0              11.0               0   \n",
              "85435                     7.0               9.0               0   \n",
              "85503                     0.0              28.0               0   \n",
              "\n",
              "       Instantbook Enabled  Superhost  check_adr  \n",
              "4                        0          1          0  \n",
              "6                        0          0          0  \n",
              "13                       0          0          0  \n",
              "14                       0          1          0  \n",
              "42                       0          0          0  \n",
              "...                    ...        ...        ...  \n",
              "85268                    0          0          0  \n",
              "85289                    0          0          0  \n",
              "85391                    0          0          0  \n",
              "85435                    1          0          0  \n",
              "85503                    0          0          0  \n",
              "\n",
              "[10038 rows x 24 columns]"
            ],
            "text/html": [
              "\n",
              "  <div id=\"df-85d7295c-7a4e-44d3-a0ac-9b0c63741348\">\n",
              "    <div class=\"colab-df-container\">\n",
              "      <div>\n",
              "<style scoped>\n",
              "    .dataframe tbody tr th:only-of-type {\n",
              "        vertical-align: middle;\n",
              "    }\n",
              "\n",
              "    .dataframe tbody tr th {\n",
              "        vertical-align: top;\n",
              "    }\n",
              "\n",
              "    .dataframe thead th {\n",
              "        text-align: right;\n",
              "    }\n",
              "</style>\n",
              "<table border=\"1\" class=\"dataframe\">\n",
              "  <thead>\n",
              "    <tr style=\"text-align: right;\">\n",
              "      <th></th>\n",
              "      <th>Property Type</th>\n",
              "      <th>Listing Type</th>\n",
              "      <th>Average Daily Rate</th>\n",
              "      <th>Occupancy Rate LTM</th>\n",
              "      <th>Number of Bookings LTM</th>\n",
              "      <th>Number of Reviews</th>\n",
              "      <th>Overall Rating</th>\n",
              "      <th>Bedrooms</th>\n",
              "      <th>Bathrooms</th>\n",
              "      <th>Max Guests</th>\n",
              "      <th>...</th>\n",
              "      <th>Extra People Fee</th>\n",
              "      <th>Minimum Stay</th>\n",
              "      <th>Count Reservation Days LTM</th>\n",
              "      <th>Count Available Days LTM</th>\n",
              "      <th>Count Blocked Days LTM</th>\n",
              "      <th>Number of Photos</th>\n",
              "      <th>Business Ready</th>\n",
              "      <th>Instantbook Enabled</th>\n",
              "      <th>Superhost</th>\n",
              "      <th>check_adr</th>\n",
              "    </tr>\n",
              "  </thead>\n",
              "  <tbody>\n",
              "    <tr>\n",
              "      <th>4</th>\n",
              "      <td>1</td>\n",
              "      <td>1</td>\n",
              "      <td>70.18</td>\n",
              "      <td>0.104</td>\n",
              "      <td>4.0</td>\n",
              "      <td>3.0</td>\n",
              "      <td>5.0</td>\n",
              "      <td>1.0</td>\n",
              "      <td>1.0</td>\n",
              "      <td>5.0</td>\n",
              "      <td>...</td>\n",
              "      <td>25.0</td>\n",
              "      <td>1.0</td>\n",
              "      <td>38.0</td>\n",
              "      <td>328.0</td>\n",
              "      <td>0.0</td>\n",
              "      <td>12.0</td>\n",
              "      <td>0</td>\n",
              "      <td>0</td>\n",
              "      <td>1</td>\n",
              "      <td>0</td>\n",
              "    </tr>\n",
              "    <tr>\n",
              "      <th>6</th>\n",
              "      <td>1</td>\n",
              "      <td>1</td>\n",
              "      <td>94.04</td>\n",
              "      <td>0.617</td>\n",
              "      <td>6.0</td>\n",
              "      <td>21.0</td>\n",
              "      <td>4.8</td>\n",
              "      <td>1.0</td>\n",
              "      <td>1.0</td>\n",
              "      <td>2.0</td>\n",
              "      <td>...</td>\n",
              "      <td>50.0</td>\n",
              "      <td>3.0</td>\n",
              "      <td>201.0</td>\n",
              "      <td>125.0</td>\n",
              "      <td>40.0</td>\n",
              "      <td>32.0</td>\n",
              "      <td>0</td>\n",
              "      <td>0</td>\n",
              "      <td>0</td>\n",
              "      <td>0</td>\n",
              "    </tr>\n",
              "    <tr>\n",
              "      <th>13</th>\n",
              "      <td>1</td>\n",
              "      <td>2</td>\n",
              "      <td>210.59</td>\n",
              "      <td>0.341</td>\n",
              "      <td>23.0</td>\n",
              "      <td>60.0</td>\n",
              "      <td>4.3</td>\n",
              "      <td>1.0</td>\n",
              "      <td>1.0</td>\n",
              "      <td>4.0</td>\n",
              "      <td>...</td>\n",
              "      <td>75.0</td>\n",
              "      <td>3.0</td>\n",
              "      <td>114.0</td>\n",
              "      <td>220.0</td>\n",
              "      <td>32.0</td>\n",
              "      <td>14.0</td>\n",
              "      <td>0</td>\n",
              "      <td>0</td>\n",
              "      <td>0</td>\n",
              "      <td>0</td>\n",
              "    </tr>\n",
              "    <tr>\n",
              "      <th>14</th>\n",
              "      <td>1</td>\n",
              "      <td>2</td>\n",
              "      <td>281.38</td>\n",
              "      <td>0.762</td>\n",
              "      <td>35.0</td>\n",
              "      <td>60.0</td>\n",
              "      <td>4.8</td>\n",
              "      <td>2.0</td>\n",
              "      <td>1.0</td>\n",
              "      <td>6.0</td>\n",
              "      <td>...</td>\n",
              "      <td>25.0</td>\n",
              "      <td>3.0</td>\n",
              "      <td>138.0</td>\n",
              "      <td>43.0</td>\n",
              "      <td>185.0</td>\n",
              "      <td>15.0</td>\n",
              "      <td>0</td>\n",
              "      <td>0</td>\n",
              "      <td>1</td>\n",
              "      <td>0</td>\n",
              "    </tr>\n",
              "    <tr>\n",
              "      <th>42</th>\n",
              "      <td>2</td>\n",
              "      <td>1</td>\n",
              "      <td>57.48</td>\n",
              "      <td>0.408</td>\n",
              "      <td>3.0</td>\n",
              "      <td>4.0</td>\n",
              "      <td>5.0</td>\n",
              "      <td>1.0</td>\n",
              "      <td>1.0</td>\n",
              "      <td>2.0</td>\n",
              "      <td>...</td>\n",
              "      <td>10.0</td>\n",
              "      <td>3.0</td>\n",
              "      <td>29.0</td>\n",
              "      <td>42.0</td>\n",
              "      <td>295.0</td>\n",
              "      <td>21.0</td>\n",
              "      <td>0</td>\n",
              "      <td>0</td>\n",
              "      <td>0</td>\n",
              "      <td>0</td>\n",
              "    </tr>\n",
              "    <tr>\n",
              "      <th>...</th>\n",
              "      <td>...</td>\n",
              "      <td>...</td>\n",
              "      <td>...</td>\n",
              "      <td>...</td>\n",
              "      <td>...</td>\n",
              "      <td>...</td>\n",
              "      <td>...</td>\n",
              "      <td>...</td>\n",
              "      <td>...</td>\n",
              "      <td>...</td>\n",
              "      <td>...</td>\n",
              "      <td>...</td>\n",
              "      <td>...</td>\n",
              "      <td>...</td>\n",
              "      <td>...</td>\n",
              "      <td>...</td>\n",
              "      <td>...</td>\n",
              "      <td>...</td>\n",
              "      <td>...</td>\n",
              "      <td>...</td>\n",
              "      <td>...</td>\n",
              "    </tr>\n",
              "    <tr>\n",
              "      <th>85268</th>\n",
              "      <td>1</td>\n",
              "      <td>2</td>\n",
              "      <td>327.00</td>\n",
              "      <td>0.143</td>\n",
              "      <td>1.0</td>\n",
              "      <td>4.0</td>\n",
              "      <td>5.0</td>\n",
              "      <td>1.0</td>\n",
              "      <td>1.5</td>\n",
              "      <td>3.0</td>\n",
              "      <td>...</td>\n",
              "      <td>50.0</td>\n",
              "      <td>3.0</td>\n",
              "      <td>2.0</td>\n",
              "      <td>12.0</td>\n",
              "      <td>17.0</td>\n",
              "      <td>15.0</td>\n",
              "      <td>1</td>\n",
              "      <td>0</td>\n",
              "      <td>0</td>\n",
              "      <td>0</td>\n",
              "    </tr>\n",
              "    <tr>\n",
              "      <th>85289</th>\n",
              "      <td>4</td>\n",
              "      <td>2</td>\n",
              "      <td>85.00</td>\n",
              "      <td>0.100</td>\n",
              "      <td>1.0</td>\n",
              "      <td>4.0</td>\n",
              "      <td>5.0</td>\n",
              "      <td>1.0</td>\n",
              "      <td>1.0</td>\n",
              "      <td>4.0</td>\n",
              "      <td>...</td>\n",
              "      <td>30.0</td>\n",
              "      <td>2.0</td>\n",
              "      <td>2.0</td>\n",
              "      <td>18.0</td>\n",
              "      <td>11.0</td>\n",
              "      <td>6.0</td>\n",
              "      <td>1</td>\n",
              "      <td>0</td>\n",
              "      <td>0</td>\n",
              "      <td>0</td>\n",
              "    </tr>\n",
              "    <tr>\n",
              "      <th>85391</th>\n",
              "      <td>1</td>\n",
              "      <td>2</td>\n",
              "      <td>145.00</td>\n",
              "      <td>0.067</td>\n",
              "      <td>1.0</td>\n",
              "      <td>1.0</td>\n",
              "      <td>5.0</td>\n",
              "      <td>0.0</td>\n",
              "      <td>1.0</td>\n",
              "      <td>4.0</td>\n",
              "      <td>...</td>\n",
              "      <td>15.0</td>\n",
              "      <td>2.0</td>\n",
              "      <td>2.0</td>\n",
              "      <td>28.0</td>\n",
              "      <td>1.0</td>\n",
              "      <td>11.0</td>\n",
              "      <td>0</td>\n",
              "      <td>0</td>\n",
              "      <td>0</td>\n",
              "      <td>0</td>\n",
              "    </tr>\n",
              "    <tr>\n",
              "      <th>85435</th>\n",
              "      <td>1</td>\n",
              "      <td>1</td>\n",
              "      <td>39.40</td>\n",
              "      <td>0.208</td>\n",
              "      <td>2.0</td>\n",
              "      <td>1.0</td>\n",
              "      <td>5.0</td>\n",
              "      <td>1.0</td>\n",
              "      <td>1.0</td>\n",
              "      <td>2.0</td>\n",
              "      <td>...</td>\n",
              "      <td>5.0</td>\n",
              "      <td>2.0</td>\n",
              "      <td>5.0</td>\n",
              "      <td>19.0</td>\n",
              "      <td>7.0</td>\n",
              "      <td>9.0</td>\n",
              "      <td>0</td>\n",
              "      <td>1</td>\n",
              "      <td>0</td>\n",
              "      <td>0</td>\n",
              "    </tr>\n",
              "    <tr>\n",
              "      <th>85503</th>\n",
              "      <td>4</td>\n",
              "      <td>1</td>\n",
              "      <td>48.12</td>\n",
              "      <td>0.065</td>\n",
              "      <td>1.0</td>\n",
              "      <td>4.0</td>\n",
              "      <td>5.0</td>\n",
              "      <td>1.0</td>\n",
              "      <td>1.0</td>\n",
              "      <td>2.0</td>\n",
              "      <td>...</td>\n",
              "      <td>25.0</td>\n",
              "      <td>1.0</td>\n",
              "      <td>2.0</td>\n",
              "      <td>29.0</td>\n",
              "      <td>0.0</td>\n",
              "      <td>28.0</td>\n",
              "      <td>0</td>\n",
              "      <td>0</td>\n",
              "      <td>0</td>\n",
              "      <td>0</td>\n",
              "    </tr>\n",
              "  </tbody>\n",
              "</table>\n",
              "<p>10038 rows × 24 columns</p>\n",
              "</div>\n",
              "      <button class=\"colab-df-convert\" onclick=\"convertToInteractive('df-85d7295c-7a4e-44d3-a0ac-9b0c63741348')\"\n",
              "              title=\"Convert this dataframe to an interactive table.\"\n",
              "              style=\"display:none;\">\n",
              "        \n",
              "  <svg xmlns=\"http://www.w3.org/2000/svg\" height=\"24px\"viewBox=\"0 0 24 24\"\n",
              "       width=\"24px\">\n",
              "    <path d=\"M0 0h24v24H0V0z\" fill=\"none\"/>\n",
              "    <path d=\"M18.56 5.44l.94 2.06.94-2.06 2.06-.94-2.06-.94-.94-2.06-.94 2.06-2.06.94zm-11 1L8.5 8.5l.94-2.06 2.06-.94-2.06-.94L8.5 2.5l-.94 2.06-2.06.94zm10 10l.94 2.06.94-2.06 2.06-.94-2.06-.94-.94-2.06-.94 2.06-2.06.94z\"/><path d=\"M17.41 7.96l-1.37-1.37c-.4-.4-.92-.59-1.43-.59-.52 0-1.04.2-1.43.59L10.3 9.45l-7.72 7.72c-.78.78-.78 2.05 0 2.83L4 21.41c.39.39.9.59 1.41.59.51 0 1.02-.2 1.41-.59l7.78-7.78 2.81-2.81c.8-.78.8-2.07 0-2.86zM5.41 20L4 18.59l7.72-7.72 1.47 1.35L5.41 20z\"/>\n",
              "  </svg>\n",
              "      </button>\n",
              "      \n",
              "  <style>\n",
              "    .colab-df-container {\n",
              "      display:flex;\n",
              "      flex-wrap:wrap;\n",
              "      gap: 12px;\n",
              "    }\n",
              "\n",
              "    .colab-df-convert {\n",
              "      background-color: #E8F0FE;\n",
              "      border: none;\n",
              "      border-radius: 50%;\n",
              "      cursor: pointer;\n",
              "      display: none;\n",
              "      fill: #1967D2;\n",
              "      height: 32px;\n",
              "      padding: 0 0 0 0;\n",
              "      width: 32px;\n",
              "    }\n",
              "\n",
              "    .colab-df-convert:hover {\n",
              "      background-color: #E2EBFA;\n",
              "      box-shadow: 0px 1px 2px rgba(60, 64, 67, 0.3), 0px 1px 3px 1px rgba(60, 64, 67, 0.15);\n",
              "      fill: #174EA6;\n",
              "    }\n",
              "\n",
              "    [theme=dark] .colab-df-convert {\n",
              "      background-color: #3B4455;\n",
              "      fill: #D2E3FC;\n",
              "    }\n",
              "\n",
              "    [theme=dark] .colab-df-convert:hover {\n",
              "      background-color: #434B5C;\n",
              "      box-shadow: 0px 1px 3px 1px rgba(0, 0, 0, 0.15);\n",
              "      filter: drop-shadow(0px 1px 2px rgba(0, 0, 0, 0.3));\n",
              "      fill: #FFFFFF;\n",
              "    }\n",
              "  </style>\n",
              "\n",
              "      <script>\n",
              "        const buttonEl =\n",
              "          document.querySelector('#df-85d7295c-7a4e-44d3-a0ac-9b0c63741348 button.colab-df-convert');\n",
              "        buttonEl.style.display =\n",
              "          google.colab.kernel.accessAllowed ? 'block' : 'none';\n",
              "\n",
              "        async function convertToInteractive(key) {\n",
              "          const element = document.querySelector('#df-85d7295c-7a4e-44d3-a0ac-9b0c63741348');\n",
              "          const dataTable =\n",
              "            await google.colab.kernel.invokeFunction('convertToInteractive',\n",
              "                                                     [key], {});\n",
              "          if (!dataTable) return;\n",
              "\n",
              "          const docLinkHtml = 'Like what you see? Visit the ' +\n",
              "            '<a target=\"_blank\" href=https://colab.research.google.com/notebooks/data_table.ipynb>data table notebook</a>'\n",
              "            + ' to learn more about interactive tables.';\n",
              "          element.innerHTML = '';\n",
              "          dataTable['output_type'] = 'display_data';\n",
              "          await google.colab.output.renderOutput(dataTable, element);\n",
              "          const docLink = document.createElement('div');\n",
              "          docLink.innerHTML = docLinkHtml;\n",
              "          element.appendChild(docLink);\n",
              "        }\n",
              "      </script>\n",
              "    </div>\n",
              "  </div>\n",
              "  "
            ]
          },
          "metadata": {},
          "execution_count": 29
        }
      ],
      "source": [
        "#Data with Average daily Rate\n",
        "#Removing other price variables\n",
        "ADR_data=data6.drop(columns=['Property ID','Neighborhood','Host ID', 'Listing Title', 'Created Date', 'Last Scraped Date', 'Zipcode', 'Annual Revenue LTM', 'Calendar Last Updated', 'Response Time (min)', 'Published Nightly Rate', 'Published Monthly Rate','Published Weekly Rate'])\n",
        "ADR_data"
      ]
    },
    {
      "cell_type": "markdown",
      "metadata": {
        "id": "uTs7-dEYcreS"
      },
      "source": [
        "# Regressions"
      ]
    },
    {
      "cell_type": "markdown",
      "metadata": {
        "id": "mL_1oa1fvqNh"
      },
      "source": [
        "Average Daily Rate (ADR)"
      ]
    },
    {
      "cell_type": "code",
      "execution_count": null,
      "metadata": {
        "id": "4vkTk-8gT97g"
      },
      "outputs": [],
      "source": [
        "#Setting up X and Y datasets\n",
        "X=ADR_data.drop(['Average Daily Rate'],axis=1)\n",
        "y=ADR_data['Average Daily Rate']"
      ]
    },
    {
      "cell_type": "code",
      "execution_count": null,
      "metadata": {
        "id": "o4Dw_pWfN9Ci"
      },
      "outputs": [],
      "source": [
        "#Splitting the data into train and test\n",
        "X_train, X_test, y_train, y_test = train_test_split(X,y,test_size=0.3, random_state=5)"
      ]
    },
    {
      "cell_type": "code",
      "execution_count": null,
      "metadata": {
        "id": "Cb7XTvUBlkDc"
      },
      "outputs": [],
      "source": [
        "#Scaling the data\n",
        "from sklearn.preprocessing import StandardScaler\n",
        "X_train_scaled = StandardScaler().fit_transform(X_train)\n",
        "X_test_scaled = StandardScaler().fit_transform(X_test)"
      ]
    },
    {
      "cell_type": "markdown",
      "metadata": {
        "id": "doaBnXM3vrzx"
      },
      "source": [
        "Published Nightly Rate (PNR)"
      ]
    },
    {
      "cell_type": "code",
      "execution_count": null,
      "metadata": {
        "id": "mn3d1SYv7GTB"
      },
      "outputs": [],
      "source": [
        "#Splitting the data into train and test\n",
        "X1= Night_data.drop(columns=['Published Nightly Rate'])\n",
        "y1= Night_data['Published Nightly Rate']"
      ]
    },
    {
      "cell_type": "code",
      "execution_count": null,
      "metadata": {
        "id": "_NPgTsHgDGqx"
      },
      "outputs": [],
      "source": [
        "X1_train, X1_test, y1_train, y1_test = train_test_split(X1,y1,test_size=0.3, random_state=5)\n",
        "X1_train_scaled = StandardScaler().fit_transform(X1_train)\n",
        "X1_test_scaled = StandardScaler().fit_transform(X1_test)"
      ]
    },
    {
      "cell_type": "code",
      "execution_count": null,
      "metadata": {
        "colab": {
          "base_uri": "https://localhost:8080/"
        },
        "id": "StBFwyM4Bj33",
        "outputId": "028bf560-12fe-4634-98d8-fee25f5d91cd"
      },
      "outputs": [
        {
          "output_type": "display_data",
          "data": {
            "text/plain": [
              "<Figure size 504x504 with 1 Axes>"
            ],
            "image/png": "[encoded data removed]"
          },
          "metadata": {
            "needs_background": "light"
          }
        }
      ],
      "source": [
        "#Feature importance \n",
        "from sklearn import preprocessing\n",
        "from sklearn.ensemble import ExtraTreesRegressor\n",
        "lab_enc = preprocessing.LabelEncoder()\n",
        "\n",
        "feature_model = ExtraTreesRegressor(n_estimators=50)\n",
        "feature_model.fit(X1_train,lab_enc.fit_transform(y1_train))\n",
        "\n",
        "plt.figure(figsize=(7,7))\n",
        "feat_importances = pd.Series(feature_model.feature_importances_, index=Night_data.iloc[:,:-1].columns)\n",
        "feat_importances.nlargest(10).plot(kind='barh')\n",
        "plt.show()"
      ]
    },
    {
      "cell_type": "markdown",
      "metadata": {
        "id": "_JVeeUdJdXAu"
      },
      "source": [
        "## PCA"
      ]
    },
    {
      "cell_type": "markdown",
      "metadata": {
        "id": "Mr9tFhZhwQRw"
      },
      "source": [
        "###PCA Average Daily Rate"
      ]
    },
    {
      "cell_type": "code",
      "execution_count": null,
      "metadata": {
        "colab": {
          "base_uri": "https://localhost:8080/"
        },
        "id": "iMb0N03gmWcB",
        "outputId": "cf876bff-7e53-4e78-f506-083ed0cad69e"
      },
      "outputs": [
        {
          "output_type": "execute_result",
          "data": {
            "text/plain": [
              "       Property Type  Listing Type  Average Daily Rate  Occupancy Rate LTM  \\\n",
              "4                  1             1               70.18               0.104   \n",
              "6                  1             1               94.04               0.617   \n",
              "13                 1             2              210.59               0.341   \n",
              "14                 1             2              281.38               0.762   \n",
              "42                 2             1               57.48               0.408   \n",
              "...              ...           ...                 ...                 ...   \n",
              "85268              1             2              327.00               0.143   \n",
              "85289              4             2               85.00               0.100   \n",
              "85391              1             2              145.00               0.067   \n",
              "85435              1             1               39.40               0.208   \n",
              "85503              4             1               48.12               0.065   \n",
              "\n",
              "       Number of Bookings LTM  Number of Reviews  Overall Rating  Bedrooms  \\\n",
              "4                         4.0                3.0             5.0       1.0   \n",
              "6                         6.0               21.0             4.8       1.0   \n",
              "13                       23.0               60.0             4.3       1.0   \n",
              "14                       35.0               60.0             4.8       2.0   \n",
              "42                        3.0                4.0             5.0       1.0   \n",
              "...                       ...                ...             ...       ...   \n",
              "85268                     1.0                4.0             5.0       1.0   \n",
              "85289                     1.0                4.0             5.0       1.0   \n",
              "85391                     1.0                1.0             5.0       0.0   \n",
              "85435                     2.0                1.0             5.0       1.0   \n",
              "85503                     1.0                4.0             5.0       1.0   \n",
              "\n",
              "       Bathrooms  Max Guests  ...  Extra People Fee  Minimum Stay  \\\n",
              "4            1.0         5.0  ...              25.0           1.0   \n",
              "6            1.0         2.0  ...              50.0           3.0   \n",
              "13           1.0         4.0  ...              75.0           3.0   \n",
              "14           1.0         6.0  ...              25.0           3.0   \n",
              "42           1.0         2.0  ...              10.0           3.0   \n",
              "...          ...         ...  ...               ...           ...   \n",
              "85268        1.5         3.0  ...              50.0           3.0   \n",
              "85289        1.0         4.0  ...              30.0           2.0   \n",
              "85391        1.0         4.0  ...              15.0           2.0   \n",
              "85435        1.0         2.0  ...               5.0           2.0   \n",
              "85503        1.0         2.0  ...              25.0           1.0   \n",
              "\n",
              "       Count Reservation Days LTM  Count Available Days LTM  \\\n",
              "4                            38.0                     328.0   \n",
              "6                           201.0                     125.0   \n",
              "13                          114.0                     220.0   \n",
              "14                          138.0                      43.0   \n",
              "42                           29.0                      42.0   \n",
              "...                           ...                       ...   \n",
              "85268                         2.0                      12.0   \n",
              "85289                         2.0                      18.0   \n",
              "85391                         2.0                      28.0   \n",
              "85435                         5.0                      19.0   \n",
              "85503                         2.0                      29.0   \n",
              "\n",
              "       Count Blocked Days LTM  Number of Photos  Business Ready  \\\n",
              "4                         0.0              12.0               0   \n",
              "6                        40.0              32.0               0   \n",
              "13                       32.0              14.0               0   \n",
              "14                      185.0              15.0               0   \n",
              "42                      295.0              21.0               0   \n",
              "...                       ...               ...             ...   \n",
              "85268                    17.0              15.0               1   \n",
              "85289                    11.0               6.0               1   \n",
              "85391                     1.0              11.0               0   \n",
              "85435                     7.0               9.0               0   \n",
              "85503                     0.0              28.0               0   \n",
              "\n",
              "       Instantbook Enabled  Superhost  check_adr  \n",
              "4                        0          1          0  \n",
              "6                        0          0          0  \n",
              "13                       0          0          0  \n",
              "14                       0          1          0  \n",
              "42                       0          0          0  \n",
              "...                    ...        ...        ...  \n",
              "85268                    0          0          0  \n",
              "85289                    0          0          0  \n",
              "85391                    0          0          0  \n",
              "85435                    1          0          0  \n",
              "85503                    0          0          0  \n",
              "\n",
              "[10038 rows x 24 columns]"
            ],
            "text/html": [
              "\n",
              "  <div id=\"df-1f1ab79e-2ecc-463d-bf86-1476bb73c08d\">\n",
              "    <div class=\"colab-df-container\">\n",
              "      <div>\n",
              "<style scoped>\n",
              "    .dataframe tbody tr th:only-of-type {\n",
              "        vertical-align: middle;\n",
              "    }\n",
              "\n",
              "    .dataframe tbody tr th {\n",
              "        vertical-align: top;\n",
              "    }\n",
              "\n",
              "    .dataframe thead th {\n",
              "        text-align: right;\n",
              "    }\n",
              "</style>\n",
              "<table border=\"1\" class=\"dataframe\">\n",
              "  <thead>\n",
              "    <tr style=\"text-align: right;\">\n",
              "      <th></th>\n",
              "      <th>Property Type</th>\n",
              "      <th>Listing Type</th>\n",
              "      <th>Average Daily Rate</th>\n",
              "      <th>Occupancy Rate LTM</th>\n",
              "      <th>Number of Bookings LTM</th>\n",
              "      <th>Number of Reviews</th>\n",
              "      <th>Overall Rating</th>\n",
              "      <th>Bedrooms</th>\n",
              "      <th>Bathrooms</th>\n",
              "      <th>Max Guests</th>\n",
              "      <th>...</th>\n",
              "      <th>Extra People Fee</th>\n",
              "      <th>Minimum Stay</th>\n",
              "      <th>Count Reservation Days LTM</th>\n",
              "      <th>Count Available Days LTM</th>\n",
              "      <th>Count Blocked Days LTM</th>\n",
              "      <th>Number of Photos</th>\n",
              "      <th>Business Ready</th>\n",
              "      <th>Instantbook Enabled</th>\n",
              "      <th>Superhost</th>\n",
              "      <th>check_adr</th>\n",
              "    </tr>\n",
              "  </thead>\n",
              "  <tbody>\n",
              "    <tr>\n",
              "      <th>4</th>\n",
              "      <td>1</td>\n",
              "      <td>1</td>\n",
              "      <td>70.18</td>\n",
              "      <td>0.104</td>\n",
              "      <td>4.0</td>\n",
              "      <td>3.0</td>\n",
              "      <td>5.0</td>\n",
              "      <td>1.0</td>\n",
              "      <td>1.0</td>\n",
              "      <td>5.0</td>\n",
              "      <td>...</td>\n",
              "      <td>25.0</td>\n",
              "      <td>1.0</td>\n",
              "      <td>38.0</td>\n",
              "      <td>328.0</td>\n",
              "      <td>0.0</td>\n",
              "      <td>12.0</td>\n",
              "      <td>0</td>\n",
              "      <td>0</td>\n",
              "      <td>1</td>\n",
              "      <td>0</td>\n",
              "    </tr>\n",
              "    <tr>\n",
              "      <th>6</th>\n",
              "      <td>1</td>\n",
              "      <td>1</td>\n",
              "      <td>94.04</td>\n",
              "      <td>0.617</td>\n",
              "      <td>6.0</td>\n",
              "      <td>21.0</td>\n",
              "      <td>4.8</td>\n",
              "      <td>1.0</td>\n",
              "      <td>1.0</td>\n",
              "      <td>2.0</td>\n",
              "      <td>...</td>\n",
              "      <td>50.0</td>\n",
              "      <td>3.0</td>\n",
              "      <td>201.0</td>\n",
              "      <td>125.0</td>\n",
              "      <td>40.0</td>\n",
              "      <td>32.0</td>\n",
              "      <td>0</td>\n",
              "      <td>0</td>\n",
              "      <td>0</td>\n",
              "      <td>0</td>\n",
              "    </tr>\n",
              "    <tr>\n",
              "      <th>13</th>\n",
              "      <td>1</td>\n",
              "      <td>2</td>\n",
              "      <td>210.59</td>\n",
              "      <td>0.341</td>\n",
              "      <td>23.0</td>\n",
              "      <td>60.0</td>\n",
              "      <td>4.3</td>\n",
              "      <td>1.0</td>\n",
              "      <td>1.0</td>\n",
              "      <td>4.0</td>\n",
              "      <td>...</td>\n",
              "      <td>75.0</td>\n",
              "      <td>3.0</td>\n",
              "      <td>114.0</td>\n",
              "      <td>220.0</td>\n",
              "      <td>32.0</td>\n",
              "      <td>14.0</td>\n",
              "      <td>0</td>\n",
              "      <td>0</td>\n",
              "      <td>0</td>\n",
              "      <td>0</td>\n",
              "    </tr>\n",
              "    <tr>\n",
              "      <th>14</th>\n",
              "      <td>1</td>\n",
              "      <td>2</td>\n",
              "      <td>281.38</td>\n",
              "      <td>0.762</td>\n",
              "      <td>35.0</td>\n",
              "      <td>60.0</td>\n",
              "      <td>4.8</td>\n",
              "      <td>2.0</td>\n",
              "      <td>1.0</td>\n",
              "      <td>6.0</td>\n",
              "      <td>...</td>\n",
              "      <td>25.0</td>\n",
              "      <td>3.0</td>\n",
              "      <td>138.0</td>\n",
              "      <td>43.0</td>\n",
              "      <td>185.0</td>\n",
              "      <td>15.0</td>\n",
              "      <td>0</td>\n",
              "      <td>0</td>\n",
              "      <td>1</td>\n",
              "      <td>0</td>\n",
              "    </tr>\n",
              "    <tr>\n",
              "      <th>42</th>\n",
              "      <td>2</td>\n",
              "      <td>1</td>\n",
              "      <td>57.48</td>\n",
              "      <td>0.408</td>\n",
              "      <td>3.0</td>\n",
              "      <td>4.0</td>\n",
              "      <td>5.0</td>\n",
              "      <td>1.0</td>\n",
              "      <td>1.0</td>\n",
              "      <td>2.0</td>\n",
              "      <td>...</td>\n",
              "      <td>10.0</td>\n",
              "      <td>3.0</td>\n",
              "      <td>29.0</td>\n",
              "      <td>42.0</td>\n",
              "      <td>295.0</td>\n",
              "      <td>21.0</td>\n",
              "      <td>0</td>\n",
              "      <td>0</td>\n",
              "      <td>0</td>\n",
              "      <td>0</td>\n",
              "    </tr>\n",
              "    <tr>\n",
              "      <th>...</th>\n",
              "      <td>...</td>\n",
              "      <td>...</td>\n",
              "      <td>...</td>\n",
              "      <td>...</td>\n",
              "      <td>...</td>\n",
              "      <td>...</td>\n",
              "      <td>...</td>\n",
              "      <td>...</td>\n",
              "      <td>...</td>\n",
              "      <td>...</td>\n",
              "      <td>...</td>\n",
              "      <td>...</td>\n",
              "      <td>...</td>\n",
              "      <td>...</td>\n",
              "      <td>...</td>\n",
              "      <td>...</td>\n",
              "      <td>...</td>\n",
              "      <td>...</td>\n",
              "      <td>...</td>\n",
              "      <td>...</td>\n",
              "      <td>...</td>\n",
              "    </tr>\n",
              "    <tr>\n",
              "      <th>85268</th>\n",
              "      <td>1</td>\n",
              "      <td>2</td>\n",
              "      <td>327.00</td>\n",
              "      <td>0.143</td>\n",
              "      <td>1.0</td>\n",
              "      <td>4.0</td>\n",
              "      <td>5.0</td>\n",
              "      <td>1.0</td>\n",
              "      <td>1.5</td>\n",
              "      <td>3.0</td>\n",
              "      <td>...</td>\n",
              "      <td>50.0</td>\n",
              "      <td>3.0</td>\n",
              "      <td>2.0</td>\n",
              "      <td>12.0</td>\n",
              "      <td>17.0</td>\n",
              "      <td>15.0</td>\n",
              "      <td>1</td>\n",
              "      <td>0</td>\n",
              "      <td>0</td>\n",
              "      <td>0</td>\n",
              "    </tr>\n",
              "    <tr>\n",
              "      <th>85289</th>\n",
              "      <td>4</td>\n",
              "      <td>2</td>\n",
              "      <td>85.00</td>\n",
              "      <td>0.100</td>\n",
              "      <td>1.0</td>\n",
              "      <td>4.0</td>\n",
              "      <td>5.0</td>\n",
              "      <td>1.0</td>\n",
              "      <td>1.0</td>\n",
              "      <td>4.0</td>\n",
              "      <td>...</td>\n",
              "      <td>30.0</td>\n",
              "      <td>2.0</td>\n",
              "      <td>2.0</td>\n",
              "      <td>18.0</td>\n",
              "      <td>11.0</td>\n",
              "      <td>6.0</td>\n",
              "      <td>1</td>\n",
              "      <td>0</td>\n",
              "      <td>0</td>\n",
              "      <td>0</td>\n",
              "    </tr>\n",
              "    <tr>\n",
              "      <th>85391</th>\n",
              "      <td>1</td>\n",
              "      <td>2</td>\n",
              "      <td>145.00</td>\n",
              "      <td>0.067</td>\n",
              "      <td>1.0</td>\n",
              "      <td>1.0</td>\n",
              "      <td>5.0</td>\n",
              "      <td>0.0</td>\n",
              "      <td>1.0</td>\n",
              "      <td>4.0</td>\n",
              "      <td>...</td>\n",
              "      <td>15.0</td>\n",
              "      <td>2.0</td>\n",
              "      <td>2.0</td>\n",
              "      <td>28.0</td>\n",
              "      <td>1.0</td>\n",
              "      <td>11.0</td>\n",
              "      <td>0</td>\n",
              "      <td>0</td>\n",
              "      <td>0</td>\n",
              "      <td>0</td>\n",
              "    </tr>\n",
              "    <tr>\n",
              "      <th>85435</th>\n",
              "      <td>1</td>\n",
              "      <td>1</td>\n",
              "      <td>39.40</td>\n",
              "      <td>0.208</td>\n",
              "      <td>2.0</td>\n",
              "      <td>1.0</td>\n",
              "      <td>5.0</td>\n",
              "      <td>1.0</td>\n",
              "      <td>1.0</td>\n",
              "      <td>2.0</td>\n",
              "      <td>...</td>\n",
              "      <td>5.0</td>\n",
              "      <td>2.0</td>\n",
              "      <td>5.0</td>\n",
              "      <td>19.0</td>\n",
              "      <td>7.0</td>\n",
              "      <td>9.0</td>\n",
              "      <td>0</td>\n",
              "      <td>1</td>\n",
              "      <td>0</td>\n",
              "      <td>0</td>\n",
              "    </tr>\n",
              "    <tr>\n",
              "      <th>85503</th>\n",
              "      <td>4</td>\n",
              "      <td>1</td>\n",
              "      <td>48.12</td>\n",
              "      <td>0.065</td>\n",
              "      <td>1.0</td>\n",
              "      <td>4.0</td>\n",
              "      <td>5.0</td>\n",
              "      <td>1.0</td>\n",
              "      <td>1.0</td>\n",
              "      <td>2.0</td>\n",
              "      <td>...</td>\n",
              "      <td>25.0</td>\n",
              "      <td>1.0</td>\n",
              "      <td>2.0</td>\n",
              "      <td>29.0</td>\n",
              "      <td>0.0</td>\n",
              "      <td>28.0</td>\n",
              "      <td>0</td>\n",
              "      <td>0</td>\n",
              "      <td>0</td>\n",
              "      <td>0</td>\n",
              "    </tr>\n",
              "  </tbody>\n",
              "</table>\n",
              "<p>10038 rows × 24 columns</p>\n",
              "</div>\n",
              "      <button class=\"colab-df-convert\" onclick=\"convertToInteractive('df-1f1ab79e-2ecc-463d-bf86-1476bb73c08d')\"\n",
              "              title=\"Convert this dataframe to an interactive table.\"\n",
              "              style=\"display:none;\">\n",
              "        \n",
              "  <svg xmlns=\"http://www.w3.org/2000/svg\" height=\"24px\"viewBox=\"0 0 24 24\"\n",
              "       width=\"24px\">\n",
              "    <path d=\"M0 0h24v24H0V0z\" fill=\"none\"/>\n",
              "    <path d=\"M18.56 5.44l.94 2.06.94-2.06 2.06-.94-2.06-.94-.94-2.06-.94 2.06-2.06.94zm-11 1L8.5 8.5l.94-2.06 2.06-.94-2.06-.94L8.5 2.5l-.94 2.06-2.06.94zm10 10l.94 2.06.94-2.06 2.06-.94-2.06-.94-.94-2.06-.94 2.06-2.06.94z\"/><path d=\"M17.41 7.96l-1.37-1.37c-.4-.4-.92-.59-1.43-.59-.52 0-1.04.2-1.43.59L10.3 9.45l-7.72 7.72c-.78.78-.78 2.05 0 2.83L4 21.41c.39.39.9.59 1.41.59.51 0 1.02-.2 1.41-.59l7.78-7.78 2.81-2.81c.8-.78.8-2.07 0-2.86zM5.41 20L4 18.59l7.72-7.72 1.47 1.35L5.41 20z\"/>\n",
              "  </svg>\n",
              "      </button>\n",
              "      \n",
              "  <style>\n",
              "    .colab-df-container {\n",
              "      display:flex;\n",
              "      flex-wrap:wrap;\n",
              "      gap: 12px;\n",
              "    }\n",
              "\n",
              "    .colab-df-convert {\n",
              "      background-color: #E8F0FE;\n",
              "      border: none;\n",
              "      border-radius: 50%;\n",
              "      cursor: pointer;\n",
              "      display: none;\n",
              "      fill: #1967D2;\n",
              "      height: 32px;\n",
              "      padding: 0 0 0 0;\n",
              "      width: 32px;\n",
              "    }\n",
              "\n",
              "    .colab-df-convert:hover {\n",
              "      background-color: #E2EBFA;\n",
              "      box-shadow: 0px 1px 2px rgba(60, 64, 67, 0.3), 0px 1px 3px 1px rgba(60, 64, 67, 0.15);\n",
              "      fill: #174EA6;\n",
              "    }\n",
              "\n",
              "    [theme=dark] .colab-df-convert {\n",
              "      background-color: #3B4455;\n",
              "      fill: #D2E3FC;\n",
              "    }\n",
              "\n",
              "    [theme=dark] .colab-df-convert:hover {\n",
              "      background-color: #434B5C;\n",
              "      box-shadow: 0px 1px 3px 1px rgba(0, 0, 0, 0.15);\n",
              "      filter: drop-shadow(0px 1px 2px rgba(0, 0, 0, 0.3));\n",
              "      fill: #FFFFFF;\n",
              "    }\n",
              "  </style>\n",
              "\n",
              "      <script>\n",
              "        const buttonEl =\n",
              "          document.querySelector('#df-1f1ab79e-2ecc-463d-bf86-1476bb73c08d button.colab-df-convert');\n",
              "        buttonEl.style.display =\n",
              "          google.colab.kernel.accessAllowed ? 'block' : 'none';\n",
              "\n",
              "        async function convertToInteractive(key) {\n",
              "          const element = document.querySelector('#df-1f1ab79e-2ecc-463d-bf86-1476bb73c08d');\n",
              "          const dataTable =\n",
              "            await google.colab.kernel.invokeFunction('convertToInteractive',\n",
              "                                                     [key], {});\n",
              "          if (!dataTable) return;\n",
              "\n",
              "          const docLinkHtml = 'Like what you see? Visit the ' +\n",
              "            '<a target=\"_blank\" href=https://colab.research.google.com/notebooks/data_table.ipynb>data table notebook</a>'\n",
              "            + ' to learn more about interactive tables.';\n",
              "          element.innerHTML = '';\n",
              "          dataTable['output_type'] = 'display_data';\n",
              "          await google.colab.output.renderOutput(dataTable, element);\n",
              "          const docLink = document.createElement('div');\n",
              "          docLink.innerHTML = docLinkHtml;\n",
              "          element.appendChild(docLink);\n",
              "        }\n",
              "      </script>\n",
              "    </div>\n",
              "  </div>\n",
              "  "
            ]
          },
          "metadata": {},
          "execution_count": 36
        }
      ],
      "source": [
        "ADR_data"
      ]
    },
    {
      "cell_type": "code",
      "execution_count": null,
      "metadata": {
        "id": "yBGA7wx0meJ0"
      },
      "outputs": [],
      "source": [
        "from sklearn.decomposition import PCA"
      ]
    },
    {
      "cell_type": "code",
      "execution_count": null,
      "metadata": {
        "colab": {
          "base_uri": "https://localhost:8080/"
        },
        "id": "tocsRAK5qEN7",
        "outputId": "ae29cf8b-0d42-4f91-9d8b-91e08d70e95a"
      },
      "outputs": [
        {
          "output_type": "execute_result",
          "data": {
            "text/plain": [
              "(7026, 23)"
            ]
          },
          "metadata": {},
          "execution_count": 38
        }
      ],
      "source": [
        "X_train_scaled.shape"
      ]
    },
    {
      "cell_type": "code",
      "execution_count": null,
      "metadata": {
        "id": "j7lPT60OqSJM"
      },
      "outputs": [],
      "source": [
        "pca = PCA(23).fit(X_train_scaled)"
      ]
    },
    {
      "cell_type": "code",
      "execution_count": null,
      "metadata": {
        "id": "fATCxsR2u47Q"
      },
      "outputs": [],
      "source": [
        "pca_tr = pca.transform(X_train_scaled)"
      ]
    },
    {
      "cell_type": "code",
      "execution_count": null,
      "metadata": {
        "colab": {
          "base_uri": "https://localhost:8080/"
        },
        "id": "2XSWEoA1vDu7",
        "outputId": "4f8de43e-ccc8-4d4b-d85a-d60ce60b29e0"
      },
      "outputs": [
        {
          "output_type": "execute_result",
          "data": {
            "text/plain": [
              "array([1.56403107e-01, 1.36253665e-01, 8.85082259e-02, 7.65220189e-02,\n",
              "       6.06893864e-02, 4.87607263e-02, 4.50879138e-02, 4.34240731e-02,\n",
              "       4.32345963e-02, 4.20024029e-02, 3.71988001e-02, 3.50334653e-02,\n",
              "       3.30634912e-02, 3.09337578e-02, 3.07161225e-02, 2.25072185e-02,\n",
              "       2.18349186e-02, 1.83960648e-02, 1.05345584e-02, 9.42253196e-03,\n",
              "       6.37082140e-03, 3.10213386e-03, 3.47998006e-31])"
            ]
          },
          "metadata": {},
          "execution_count": 41
        }
      ],
      "source": [
        "pca.explained_variance_ratio_"
      ]
    },
    {
      "cell_type": "code",
      "execution_count": null,
      "metadata": {
        "id": "hTFNFDHlvPT1"
      },
      "outputs": [],
      "source": [
        "from sklearn.model_selection import cross_validate\n",
        "from sklearn.linear_model import LinearRegression"
      ]
    },
    {
      "cell_type": "code",
      "execution_count": null,
      "metadata": {
        "id": "yLqmHUwAxDHS"
      },
      "outputs": [],
      "source": [
        "crvalres=[]\n",
        "num_pcs=[1,2,3,4,5,6,7,8,9,10]\n",
        "for a in num_pcs:\n",
        "    reg = LinearRegression()\n",
        "    crvalreg = cross_validate(reg, pca_tr[:,0:a], y_train, cv=5, scoring='r2')\n",
        "    crvalres.append(crvalreg['test_score'].mean())"
      ]
    },
    {
      "cell_type": "code",
      "execution_count": null,
      "metadata": {
        "colab": {
          "base_uri": "https://localhost:8080/"
        },
        "id": "Jp_WdHTW0Odz",
        "outputId": "0ae9632b-9cbb-4bd5-9fe1-2d0b5e4dc4c9"
      },
      "outputs": [
        {
          "output_type": "execute_result",
          "data": {
            "text/plain": [
              "[0.04540220113557194,\n",
              " 0.44002848849190884,\n",
              " 0.4760495274290696,\n",
              " 0.47787345562816663,\n",
              " 0.47792410363081855,\n",
              " 0.4823891151422625,\n",
              " 0.4839196113056435,\n",
              " 0.4888814614350151,\n",
              " 0.48974269183764163,\n",
              " 0.48891636519964843]"
            ]
          },
          "metadata": {},
          "execution_count": 44
        }
      ],
      "source": [
        "crvalres"
      ]
    },
    {
      "cell_type": "code",
      "execution_count": null,
      "metadata": {
        "colab": {
          "base_uri": "https://localhost:8080/"
        },
        "id": "wUcjOHro0P-A",
        "outputId": "ee6b2b60-dc1a-4e41-ac40-ff5bd117e503"
      },
      "outputs": [
        {
          "output_type": "execute_result",
          "data": {
            "text/plain": [
              "8"
            ]
          },
          "metadata": {},
          "execution_count": 45
        }
      ],
      "source": [
        "np.argmax(crvalres)"
      ]
    },
    {
      "cell_type": "code",
      "execution_count": null,
      "metadata": {
        "colab": {
          "base_uri": "https://localhost:8080/"
        },
        "id": "0trnBevc0bS9",
        "outputId": "26c96164-a4bf-4b69-b904-39e95e889b99"
      },
      "outputs": [
        {
          "output_type": "execute_result",
          "data": {
            "text/plain": [
              "[<matplotlib.lines.Line2D at 0x7f1547d93a90>]"
            ]
          },
          "metadata": {},
          "execution_count": 46
        },
        {
          "output_type": "display_data",
          "data": {
            "text/plain": [
              "<Figure size 432x288 with 1 Axes>"
            ],
            "image/png": "[encoded data removed]"
          },
          "metadata": {
            "needs_background": "light"
          }
        }
      ],
      "source": [
        "plt.plot(range(1,11),crvalres)"
      ]
    },
    {
      "cell_type": "code",
      "execution_count": null,
      "metadata": {
        "colab": {
          "base_uri": "https://localhost:8080/"
        },
        "id": "NVTL7A2X6PwI",
        "outputId": "71eb7f26-2c49-49b0-97e2-b983d61f098c"
      },
      "outputs": [
        {
          "output_type": "stream",
          "name": "stdout",
          "text": [
            "Property Type : 0.06715939217467495\n",
            "Listing Type : 0.11328431761941712\n",
            "Occupancy Rate LTM : 0.3772489483008062\n",
            "Number of Bookings LTM : 0.4599289988477669\n",
            "Number of Reviews : 0.37380129937075746\n",
            "Overall Rating : 0.020992485929613523\n",
            "Bedrooms : 0.16321544922179737\n",
            "Bathrooms : 0.09096867157527609\n",
            "Max Guests : 0.21154771382741083\n",
            "Response Rate : 0.13080561987215547\n",
            "Cancellation Policy : 0.06715939217467513\n",
            "Security Deposit : 0.0030719574135689397\n",
            "Cleaning Fee : 0.11816191151574926\n",
            "Extra People Fee : -0.00686328583190985\n",
            "Minimum Stay : -0.03710665330775353\n",
            "Count Reservation Days LTM : 0.4626426215748859\n",
            "Count Available Days LTM : -0.1913364745718806\n",
            "Count Blocked Days LTM : -0.199935104743589\n",
            "Number of Photos : 0.17181695818228648\n",
            "Business Ready : 0.13974784724654235\n",
            "Instantbook Enabled : 0.12532018643921317\n",
            "Superhost : 0.12731076930752716\n",
            "check_adr : -0.01918174942249425\n"
          ]
        }
      ],
      "source": [
        "for col,val in zip(X.columns,pca.components_[0]):\n",
        "    print(col,\":\",val)"
      ]
    },
    {
      "cell_type": "code",
      "execution_count": null,
      "metadata": {
        "colab": {
          "base_uri": "https://localhost:8080/"
        },
        "id": "3xq0Mizb60wg",
        "outputId": "2f117c98-6ab7-4cc7-9a77-3d9cb32600b7"
      },
      "outputs": [
        {
          "output_type": "stream",
          "name": "stdout",
          "text": [
            "Property Type : 0.18542907001100012\n",
            "Listing Type : 0.2207015711987013\n",
            "Occupancy Rate LTM : -0.20877310595293436\n",
            "Number of Bookings LTM : -0.1517381703260099\n",
            "Number of Reviews : -0.13676844892237758\n",
            "Overall Rating : -0.007723113520833635\n",
            "Bedrooms : 0.40641469618010473\n",
            "Bathrooms : 0.32393779277465834\n",
            "Max Guests : 0.3973704771194757\n",
            "Response Rate : -0.009448308113526368\n",
            "Cancellation Policy : 0.18542907001100067\n",
            "Security Deposit : 0.2550885381206492\n",
            "Cleaning Fee : 0.40503509701304596\n",
            "Extra People Fee : 0.16836003384100998\n",
            "Minimum Stay : 0.03795568492248231\n",
            "Count Reservation Days LTM : -0.17377316418493832\n",
            "Count Available Days LTM : 0.16881830545965756\n",
            "Count Blocked Days LTM : 0.012124189542024967\n",
            "Number of Photos : 0.1890521698332329\n",
            "Business Ready : 0.11149224911918429\n",
            "Instantbook Enabled : -0.05543917535396222\n",
            "Superhost : -0.00647683621674308\n",
            "check_adr : -0.002466120863999122\n"
          ]
        }
      ],
      "source": [
        "for col,val in zip(X.columns,pca.components_[1]):\n",
        "    print(col,\":\",val)"
      ]
    },
    {
      "cell_type": "markdown",
      "metadata": {
        "id": "bZeeCSkWwbcT"
      },
      "source": [
        "### PCA Published Nightly Rate"
      ]
    },
    {
      "cell_type": "code",
      "execution_count": null,
      "metadata": {
        "colab": {
          "base_uri": "https://localhost:8080/"
        },
        "id": "HIR4mrsoLP4w",
        "outputId": "3aed28b7-7f7f-4b33-aae9-8367295dd34e"
      },
      "outputs": [
        {
          "output_type": "execute_result",
          "data": {
            "text/plain": [
              "       Property Type  Listing Type  Occupancy Rate LTM  \\\n",
              "4                  1             1               0.104   \n",
              "6                  1             1               0.617   \n",
              "13                 1             2               0.341   \n",
              "14                 1             2               0.762   \n",
              "42                 2             1               0.408   \n",
              "...              ...           ...                 ...   \n",
              "85268              1             2               0.143   \n",
              "85289              4             2               0.100   \n",
              "85391              1             2               0.067   \n",
              "85435              1             1               0.208   \n",
              "85503              4             1               0.065   \n",
              "\n",
              "       Number of Bookings LTM  Number of Reviews  Overall Rating  Bedrooms  \\\n",
              "4                         4.0                3.0             5.0       1.0   \n",
              "6                         6.0               21.0             4.8       1.0   \n",
              "13                       23.0               60.0             4.3       1.0   \n",
              "14                       35.0               60.0             4.8       2.0   \n",
              "42                        3.0                4.0             5.0       1.0   \n",
              "...                       ...                ...             ...       ...   \n",
              "85268                     1.0                4.0             5.0       1.0   \n",
              "85289                     1.0                4.0             5.0       1.0   \n",
              "85391                     1.0                1.0             5.0       0.0   \n",
              "85435                     2.0                1.0             5.0       1.0   \n",
              "85503                     1.0                4.0             5.0       1.0   \n",
              "\n",
              "       Bathrooms  Max Guests  Response Rate  ...  Published Nightly Rate  \\\n",
              "4            1.0         5.0          100.0  ...                    64.0   \n",
              "6            1.0         2.0           95.0  ...                   175.0   \n",
              "13           1.0         4.0           92.0  ...                   255.0   \n",
              "14           1.0         6.0          100.0  ...                   350.0   \n",
              "42           1.0         2.0           60.0  ...                    74.0   \n",
              "...          ...         ...            ...  ...                     ...   \n",
              "85268        1.5         3.0           85.0  ...                   340.0   \n",
              "85289        1.0         4.0          100.0  ...                   230.0   \n",
              "85391        1.0         4.0          100.0  ...                   275.0   \n",
              "85435        1.0         2.0          100.0  ...                    50.0   \n",
              "85503        1.0         2.0          100.0  ...                    70.0   \n",
              "\n",
              "       Minimum Stay  Count Reservation Days LTM  Count Available Days LTM  \\\n",
              "4               1.0                        38.0                     328.0   \n",
              "6               3.0                       201.0                     125.0   \n",
              "13              3.0                       114.0                     220.0   \n",
              "14              3.0                       138.0                      43.0   \n",
              "42              3.0                        29.0                      42.0   \n",
              "...             ...                         ...                       ...   \n",
              "85268           3.0                         2.0                      12.0   \n",
              "85289           2.0                         2.0                      18.0   \n",
              "85391           2.0                         2.0                      28.0   \n",
              "85435           2.0                         5.0                      19.0   \n",
              "85503           1.0                         2.0                      29.0   \n",
              "\n",
              "       Count Blocked Days LTM  Number of Photos  Business Ready  \\\n",
              "4                         0.0              12.0               0   \n",
              "6                        40.0              32.0               0   \n",
              "13                       32.0              14.0               0   \n",
              "14                      185.0              15.0               0   \n",
              "42                      295.0              21.0               0   \n",
              "...                       ...               ...             ...   \n",
              "85268                    17.0              15.0               1   \n",
              "85289                    11.0               6.0               1   \n",
              "85391                     1.0              11.0               0   \n",
              "85435                     7.0               9.0               0   \n",
              "85503                     0.0              28.0               0   \n",
              "\n",
              "       Instantbook Enabled  Superhost  check_adr  \n",
              "4                        0          1          0  \n",
              "6                        0          0          0  \n",
              "13                       0          0          0  \n",
              "14                       0          1          0  \n",
              "42                       0          0          0  \n",
              "...                    ...        ...        ...  \n",
              "85268                    0          0          0  \n",
              "85289                    0          0          0  \n",
              "85391                    0          0          0  \n",
              "85435                    1          0          0  \n",
              "85503                    0          0          0  \n",
              "\n",
              "[10038 rows x 24 columns]"
            ],
            "text/html": [
              "\n",
              "  <div id=\"df-6fcb302e-b434-4071-9594-6ff545fd2be2\">\n",
              "    <div class=\"colab-df-container\">\n",
              "      <div>\n",
              "<style scoped>\n",
              "    .dataframe tbody tr th:only-of-type {\n",
              "        vertical-align: middle;\n",
              "    }\n",
              "\n",
              "    .dataframe tbody tr th {\n",
              "        vertical-align: top;\n",
              "    }\n",
              "\n",
              "    .dataframe thead th {\n",
              "        text-align: right;\n",
              "    }\n",
              "</style>\n",
              "<table border=\"1\" class=\"dataframe\">\n",
              "  <thead>\n",
              "    <tr style=\"text-align: right;\">\n",
              "      <th></th>\n",
              "      <th>Property Type</th>\n",
              "      <th>Listing Type</th>\n",
              "      <th>Occupancy Rate LTM</th>\n",
              "      <th>Number of Bookings LTM</th>\n",
              "      <th>Number of Reviews</th>\n",
              "      <th>Overall Rating</th>\n",
              "      <th>Bedrooms</th>\n",
              "      <th>Bathrooms</th>\n",
              "      <th>Max Guests</th>\n",
              "      <th>Response Rate</th>\n",
              "      <th>...</th>\n",
              "      <th>Published Nightly Rate</th>\n",
              "      <th>Minimum Stay</th>\n",
              "      <th>Count Reservation Days LTM</th>\n",
              "      <th>Count Available Days LTM</th>\n",
              "      <th>Count Blocked Days LTM</th>\n",
              "      <th>Number of Photos</th>\n",
              "      <th>Business Ready</th>\n",
              "      <th>Instantbook Enabled</th>\n",
              "      <th>Superhost</th>\n",
              "      <th>check_adr</th>\n",
              "    </tr>\n",
              "  </thead>\n",
              "  <tbody>\n",
              "    <tr>\n",
              "      <th>4</th>\n",
              "      <td>1</td>\n",
              "      <td>1</td>\n",
              "      <td>0.104</td>\n",
              "      <td>4.0</td>\n",
              "      <td>3.0</td>\n",
              "      <td>5.0</td>\n",
              "      <td>1.0</td>\n",
              "      <td>1.0</td>\n",
              "      <td>5.0</td>\n",
              "      <td>100.0</td>\n",
              "      <td>...</td>\n",
              "      <td>64.0</td>\n",
              "      <td>1.0</td>\n",
              "      <td>38.0</td>\n",
              "      <td>328.0</td>\n",
              "      <td>0.0</td>\n",
              "      <td>12.0</td>\n",
              "      <td>0</td>\n",
              "      <td>0</td>\n",
              "      <td>1</td>\n",
              "      <td>0</td>\n",
              "    </tr>\n",
              "    <tr>\n",
              "      <th>6</th>\n",
              "      <td>1</td>\n",
              "      <td>1</td>\n",
              "      <td>0.617</td>\n",
              "      <td>6.0</td>\n",
              "      <td>21.0</td>\n",
              "      <td>4.8</td>\n",
              "      <td>1.0</td>\n",
              "      <td>1.0</td>\n",
              "      <td>2.0</td>\n",
              "      <td>95.0</td>\n",
              "      <td>...</td>\n",
              "      <td>175.0</td>\n",
              "      <td>3.0</td>\n",
              "      <td>201.0</td>\n",
              "      <td>125.0</td>\n",
              "      <td>40.0</td>\n",
              "      <td>32.0</td>\n",
              "      <td>0</td>\n",
              "      <td>0</td>\n",
              "      <td>0</td>\n",
              "      <td>0</td>\n",
              "    </tr>\n",
              "    <tr>\n",
              "      <th>13</th>\n",
              "      <td>1</td>\n",
              "      <td>2</td>\n",
              "      <td>0.341</td>\n",
              "      <td>23.0</td>\n",
              "      <td>60.0</td>\n",
              "      <td>4.3</td>\n",
              "      <td>1.0</td>\n",
              "      <td>1.0</td>\n",
              "      <td>4.0</td>\n",
              "      <td>92.0</td>\n",
              "      <td>...</td>\n",
              "      <td>255.0</td>\n",
              "      <td>3.0</td>\n",
              "      <td>114.0</td>\n",
              "      <td>220.0</td>\n",
              "      <td>32.0</td>\n",
              "      <td>14.0</td>\n",
              "      <td>0</td>\n",
              "      <td>0</td>\n",
              "      <td>0</td>\n",
              "      <td>0</td>\n",
              "    </tr>\n",
              "    <tr>\n",
              "      <th>14</th>\n",
              "      <td>1</td>\n",
              "      <td>2</td>\n",
              "      <td>0.762</td>\n",
              "      <td>35.0</td>\n",
              "      <td>60.0</td>\n",
              "      <td>4.8</td>\n",
              "      <td>2.0</td>\n",
              "      <td>1.0</td>\n",
              "      <td>6.0</td>\n",
              "      <td>100.0</td>\n",
              "      <td>...</td>\n",
              "      <td>350.0</td>\n",
              "      <td>3.0</td>\n",
              "      <td>138.0</td>\n",
              "      <td>43.0</td>\n",
              "      <td>185.0</td>\n",
              "      <td>15.0</td>\n",
              "      <td>0</td>\n",
              "      <td>0</td>\n",
              "      <td>1</td>\n",
              "      <td>0</td>\n",
              "    </tr>\n",
              "    <tr>\n",
              "      <th>42</th>\n",
              "      <td>2</td>\n",
              "      <td>1</td>\n",
              "      <td>0.408</td>\n",
              "      <td>3.0</td>\n",
              "      <td>4.0</td>\n",
              "      <td>5.0</td>\n",
              "      <td>1.0</td>\n",
              "      <td>1.0</td>\n",
              "      <td>2.0</td>\n",
              "      <td>60.0</td>\n",
              "      <td>...</td>\n",
              "      <td>74.0</td>\n",
              "      <td>3.0</td>\n",
              "      <td>29.0</td>\n",
              "      <td>42.0</td>\n",
              "      <td>295.0</td>\n",
              "      <td>21.0</td>\n",
              "      <td>0</td>\n",
              "      <td>0</td>\n",
              "      <td>0</td>\n",
              "      <td>0</td>\n",
              "    </tr>\n",
              "    <tr>\n",
              "      <th>...</th>\n",
              "      <td>...</td>\n",
              "      <td>...</td>\n",
              "      <td>...</td>\n",
              "      <td>...</td>\n",
              "      <td>...</td>\n",
              "      <td>...</td>\n",
              "      <td>...</td>\n",
              "      <td>...</td>\n",
              "      <td>...</td>\n",
              "      <td>...</td>\n",
              "      <td>...</td>\n",
              "      <td>...</td>\n",
              "      <td>...</td>\n",
              "      <td>...</td>\n",
              "      <td>...</td>\n",
              "      <td>...</td>\n",
              "      <td>...</td>\n",
              "      <td>...</td>\n",
              "      <td>...</td>\n",
              "      <td>...</td>\n",
              "      <td>...</td>\n",
              "    </tr>\n",
              "    <tr>\n",
              "      <th>85268</th>\n",
              "      <td>1</td>\n",
              "      <td>2</td>\n",
              "      <td>0.143</td>\n",
              "      <td>1.0</td>\n",
              "      <td>4.0</td>\n",
              "      <td>5.0</td>\n",
              "      <td>1.0</td>\n",
              "      <td>1.5</td>\n",
              "      <td>3.0</td>\n",
              "      <td>85.0</td>\n",
              "      <td>...</td>\n",
              "      <td>340.0</td>\n",
              "      <td>3.0</td>\n",
              "      <td>2.0</td>\n",
              "      <td>12.0</td>\n",
              "      <td>17.0</td>\n",
              "      <td>15.0</td>\n",
              "      <td>1</td>\n",
              "      <td>0</td>\n",
              "      <td>0</td>\n",
              "      <td>0</td>\n",
              "    </tr>\n",
              "    <tr>\n",
              "      <th>85289</th>\n",
              "      <td>4</td>\n",
              "      <td>2</td>\n",
              "      <td>0.100</td>\n",
              "      <td>1.0</td>\n",
              "      <td>4.0</td>\n",
              "      <td>5.0</td>\n",
              "      <td>1.0</td>\n",
              "      <td>1.0</td>\n",
              "      <td>4.0</td>\n",
              "      <td>100.0</td>\n",
              "      <td>...</td>\n",
              "      <td>230.0</td>\n",
              "      <td>2.0</td>\n",
              "      <td>2.0</td>\n",
              "      <td>18.0</td>\n",
              "      <td>11.0</td>\n",
              "      <td>6.0</td>\n",
              "      <td>1</td>\n",
              "      <td>0</td>\n",
              "      <td>0</td>\n",
              "      <td>0</td>\n",
              "    </tr>\n",
              "    <tr>\n",
              "      <th>85391</th>\n",
              "      <td>1</td>\n",
              "      <td>2</td>\n",
              "      <td>0.067</td>\n",
              "      <td>1.0</td>\n",
              "      <td>1.0</td>\n",
              "      <td>5.0</td>\n",
              "      <td>0.0</td>\n",
              "      <td>1.0</td>\n",
              "      <td>4.0</td>\n",
              "      <td>100.0</td>\n",
              "      <td>...</td>\n",
              "      <td>275.0</td>\n",
              "      <td>2.0</td>\n",
              "      <td>2.0</td>\n",
              "      <td>28.0</td>\n",
              "      <td>1.0</td>\n",
              "      <td>11.0</td>\n",
              "      <td>0</td>\n",
              "      <td>0</td>\n",
              "      <td>0</td>\n",
              "      <td>0</td>\n",
              "    </tr>\n",
              "    <tr>\n",
              "      <th>85435</th>\n",
              "      <td>1</td>\n",
              "      <td>1</td>\n",
              "      <td>0.208</td>\n",
              "      <td>2.0</td>\n",
              "      <td>1.0</td>\n",
              "      <td>5.0</td>\n",
              "      <td>1.0</td>\n",
              "      <td>1.0</td>\n",
              "      <td>2.0</td>\n",
              "      <td>100.0</td>\n",
              "      <td>...</td>\n",
              "      <td>50.0</td>\n",
              "      <td>2.0</td>\n",
              "      <td>5.0</td>\n",
              "      <td>19.0</td>\n",
              "      <td>7.0</td>\n",
              "      <td>9.0</td>\n",
              "      <td>0</td>\n",
              "      <td>1</td>\n",
              "      <td>0</td>\n",
              "      <td>0</td>\n",
              "    </tr>\n",
              "    <tr>\n",
              "      <th>85503</th>\n",
              "      <td>4</td>\n",
              "      <td>1</td>\n",
              "      <td>0.065</td>\n",
              "      <td>1.0</td>\n",
              "      <td>4.0</td>\n",
              "      <td>5.0</td>\n",
              "      <td>1.0</td>\n",
              "      <td>1.0</td>\n",
              "      <td>2.0</td>\n",
              "      <td>100.0</td>\n",
              "      <td>...</td>\n",
              "      <td>70.0</td>\n",
              "      <td>1.0</td>\n",
              "      <td>2.0</td>\n",
              "      <td>29.0</td>\n",
              "      <td>0.0</td>\n",
              "      <td>28.0</td>\n",
              "      <td>0</td>\n",
              "      <td>0</td>\n",
              "      <td>0</td>\n",
              "      <td>0</td>\n",
              "    </tr>\n",
              "  </tbody>\n",
              "</table>\n",
              "<p>10038 rows × 24 columns</p>\n",
              "</div>\n",
              "      <button class=\"colab-df-convert\" onclick=\"convertToInteractive('df-6fcb302e-b434-4071-9594-6ff545fd2be2')\"\n",
              "              title=\"Convert this dataframe to an interactive table.\"\n",
              "              style=\"display:none;\">\n",
              "        \n",
              "  <svg xmlns=\"http://www.w3.org/2000/svg\" height=\"24px\"viewBox=\"0 0 24 24\"\n",
              "       width=\"24px\">\n",
              "    <path d=\"M0 0h24v24H0V0z\" fill=\"none\"/>\n",
              "    <path d=\"M18.56 5.44l.94 2.06.94-2.06 2.06-.94-2.06-.94-.94-2.06-.94 2.06-2.06.94zm-11 1L8.5 8.5l.94-2.06 2.06-.94-2.06-.94L8.5 2.5l-.94 2.06-2.06.94zm10 10l.94 2.06.94-2.06 2.06-.94-2.06-.94-.94-2.06-.94 2.06-2.06.94z\"/><path d=\"M17.41 7.96l-1.37-1.37c-.4-.4-.92-.59-1.43-.59-.52 0-1.04.2-1.43.59L10.3 9.45l-7.72 7.72c-.78.78-.78 2.05 0 2.83L4 21.41c.39.39.9.59 1.41.59.51 0 1.02-.2 1.41-.59l7.78-7.78 2.81-2.81c.8-.78.8-2.07 0-2.86zM5.41 20L4 18.59l7.72-7.72 1.47 1.35L5.41 20z\"/>\n",
              "  </svg>\n",
              "      </button>\n",
              "      \n",
              "  <style>\n",
              "    .colab-df-container {\n",
              "      display:flex;\n",
              "      flex-wrap:wrap;\n",
              "      gap: 12px;\n",
              "    }\n",
              "\n",
              "    .colab-df-convert {\n",
              "      background-color: #E8F0FE;\n",
              "      border: none;\n",
              "      border-radius: 50%;\n",
              "      cursor: pointer;\n",
              "      display: none;\n",
              "      fill: #1967D2;\n",
              "      height: 32px;\n",
              "      padding: 0 0 0 0;\n",
              "      width: 32px;\n",
              "    }\n",
              "\n",
              "    .colab-df-convert:hover {\n",
              "      background-color: #E2EBFA;\n",
              "      box-shadow: 0px 1px 2px rgba(60, 64, 67, 0.3), 0px 1px 3px 1px rgba(60, 64, 67, 0.15);\n",
              "      fill: #174EA6;\n",
              "    }\n",
              "\n",
              "    [theme=dark] .colab-df-convert {\n",
              "      background-color: #3B4455;\n",
              "      fill: #D2E3FC;\n",
              "    }\n",
              "\n",
              "    [theme=dark] .colab-df-convert:hover {\n",
              "      background-color: #434B5C;\n",
              "      box-shadow: 0px 1px 3px 1px rgba(0, 0, 0, 0.15);\n",
              "      filter: drop-shadow(0px 1px 2px rgba(0, 0, 0, 0.3));\n",
              "      fill: #FFFFFF;\n",
              "    }\n",
              "  </style>\n",
              "\n",
              "      <script>\n",
              "        const buttonEl =\n",
              "          document.querySelector('#df-6fcb302e-b434-4071-9594-6ff545fd2be2 button.colab-df-convert');\n",
              "        buttonEl.style.display =\n",
              "          google.colab.kernel.accessAllowed ? 'block' : 'none';\n",
              "\n",
              "        async function convertToInteractive(key) {\n",
              "          const element = document.querySelector('#df-6fcb302e-b434-4071-9594-6ff545fd2be2');\n",
              "          const dataTable =\n",
              "            await google.colab.kernel.invokeFunction('convertToInteractive',\n",
              "                                                     [key], {});\n",
              "          if (!dataTable) return;\n",
              "\n",
              "          const docLinkHtml = 'Like what you see? Visit the ' +\n",
              "            '<a target=\"_blank\" href=https://colab.research.google.com/notebooks/data_table.ipynb>data table notebook</a>'\n",
              "            + ' to learn more about interactive tables.';\n",
              "          element.innerHTML = '';\n",
              "          dataTable['output_type'] = 'display_data';\n",
              "          await google.colab.output.renderOutput(dataTable, element);\n",
              "          const docLink = document.createElement('div');\n",
              "          docLink.innerHTML = docLinkHtml;\n",
              "          element.appendChild(docLink);\n",
              "        }\n",
              "      </script>\n",
              "    </div>\n",
              "  </div>\n",
              "  "
            ]
          },
          "metadata": {},
          "execution_count": 49
        }
      ],
      "source": [
        "Night_data"
      ]
    },
    {
      "cell_type": "code",
      "execution_count": null,
      "metadata": {
        "colab": {
          "base_uri": "https://localhost:8080/"
        },
        "id": "PuIQs09zpXn_",
        "outputId": "90a96292-37f1-43e9-8805-8e511e8804b5"
      },
      "outputs": [
        {
          "output_type": "execute_result",
          "data": {
            "text/plain": [
              "(7026, 23)"
            ]
          },
          "metadata": {},
          "execution_count": 50
        }
      ],
      "source": [
        "X1_train_scaled.shape"
      ]
    },
    {
      "cell_type": "code",
      "execution_count": null,
      "metadata": {
        "id": "bxjEMlW8rNgv"
      },
      "outputs": [],
      "source": [
        "pca = PCA(23).fit(X1_train_scaled)"
      ]
    },
    {
      "cell_type": "code",
      "execution_count": null,
      "metadata": {
        "id": "Ek3_quOCsYxE"
      },
      "outputs": [],
      "source": [
        "pca_tr = pca.transform(X1_train_scaled)"
      ]
    },
    {
      "cell_type": "code",
      "execution_count": null,
      "metadata": {
        "colab": {
          "base_uri": "https://localhost:8080/"
        },
        "id": "VP4Za7U6sfe6",
        "outputId": "7e12a5a5-8606-4eb1-e6c4-2765fcc3631c"
      },
      "outputs": [
        {
          "output_type": "execute_result",
          "data": {
            "text/plain": [
              "array([1.56403107e-01, 1.36253665e-01, 8.85082259e-02, 7.65220189e-02,\n",
              "       6.06893864e-02, 4.87607263e-02, 4.50879138e-02, 4.34240731e-02,\n",
              "       4.32345963e-02, 4.20024029e-02, 3.71988001e-02, 3.50334653e-02,\n",
              "       3.30634912e-02, 3.09337578e-02, 3.07161225e-02, 2.25072185e-02,\n",
              "       2.18349186e-02, 1.83960648e-02, 1.05345584e-02, 9.42253196e-03,\n",
              "       6.37082140e-03, 3.10213386e-03, 3.47998006e-31])"
            ]
          },
          "metadata": {},
          "execution_count": 53
        }
      ],
      "source": [
        "pca.explained_variance_ratio_"
      ]
    },
    {
      "cell_type": "code",
      "execution_count": null,
      "metadata": {
        "id": "UoMSRz1oyjFg"
      },
      "outputs": [],
      "source": [
        "crvalres=[]\n",
        "num_pcs=[1,2,3,4,5,6,7,8,9,10]\n",
        "for a in num_pcs:\n",
        "    reg = LinearRegression()\n",
        "    crvalreg = cross_validate(reg, pca_tr[:,0:a], y1_train, cv=5, scoring='r2')\n",
        "    crvalres.append(crvalreg['test_score'].mean())"
      ]
    },
    {
      "cell_type": "code",
      "execution_count": null,
      "metadata": {
        "colab": {
          "base_uri": "https://localhost:8080/"
        },
        "id": "pfeA86VdzkeL",
        "outputId": "aadef651-6c7d-48d5-80b7-574d3dd03258"
      },
      "outputs": [
        {
          "output_type": "execute_result",
          "data": {
            "text/plain": [
              "[0.04716810633811634,\n",
              " 0.4600714912662335,\n",
              " 0.5062958677133539,\n",
              " 0.5066410728574251,\n",
              " 0.5064405893093357,\n",
              " 0.519553628919141,\n",
              " 0.5226801891400177,\n",
              " 0.5309487986444896,\n",
              " 0.5309666207891919,\n",
              " 0.5303671023057757]"
            ]
          },
          "metadata": {},
          "execution_count": 55
        }
      ],
      "source": [
        "crvalres"
      ]
    },
    {
      "cell_type": "code",
      "execution_count": null,
      "metadata": {
        "colab": {
          "base_uri": "https://localhost:8080/"
        },
        "id": "N9jOoeeLz0DO",
        "outputId": "76fc09cb-14a7-48d4-f1ef-13527ccc7584"
      },
      "outputs": [
        {
          "output_type": "execute_result",
          "data": {
            "text/plain": [
              "[<matplotlib.lines.Line2D at 0x7f1547d83890>]"
            ]
          },
          "metadata": {},
          "execution_count": 56
        },
        {
          "output_type": "display_data",
          "data": {
            "text/plain": [
              "<Figure size 432x288 with 1 Axes>"
            ],
            "image/png": "[encoded data removed]"
          },
          "metadata": {
            "needs_background": "light"
          }
        }
      ],
      "source": [
        "plt.plot(range(1,11),crvalres)"
      ]
    },
    {
      "cell_type": "code",
      "execution_count": null,
      "metadata": {
        "colab": {
          "base_uri": "https://localhost:8080/"
        },
        "id": "t9RO2OAwzwe6",
        "outputId": "96f9d901-7266-4bf4-a749-f74434a753aa"
      },
      "outputs": [
        {
          "output_type": "execute_result",
          "data": {
            "text/plain": [
              "8"
            ]
          },
          "metadata": {},
          "execution_count": 57
        }
      ],
      "source": [
        "np.argmax(crvalres)"
      ]
    },
    {
      "cell_type": "code",
      "execution_count": null,
      "metadata": {
        "colab": {
          "base_uri": "https://localhost:8080/"
        },
        "id": "oDIHNcfN0NKd",
        "outputId": "5dee675b-f761-4e0d-d374-385b9400463d"
      },
      "outputs": [
        {
          "output_type": "stream",
          "name": "stdout",
          "text": [
            "Property Type : 0.06715939217467495\n",
            "Listing Type : 0.11328431761941712\n",
            "Occupancy Rate LTM : 0.3772489483008062\n",
            "Number of Bookings LTM : 0.4599289988477669\n",
            "Number of Reviews : 0.37380129937075746\n",
            "Overall Rating : 0.020992485929613523\n",
            "Bedrooms : 0.16321544922179737\n",
            "Bathrooms : 0.09096867157527609\n",
            "Max Guests : 0.21154771382741083\n",
            "Response Rate : 0.13080561987215547\n",
            "Cancellation Policy : 0.06715939217467513\n",
            "Security Deposit : 0.0030719574135689397\n",
            "Cleaning Fee : 0.11816191151574926\n",
            "Extra People Fee : -0.00686328583190985\n",
            "Minimum Stay : -0.03710665330775353\n",
            "Count Reservation Days LTM : 0.4626426215748859\n",
            "Count Available Days LTM : -0.1913364745718806\n",
            "Count Blocked Days LTM : -0.199935104743589\n",
            "Number of Photos : 0.17181695818228648\n",
            "Business Ready : 0.13974784724654235\n",
            "Instantbook Enabled : 0.12532018643921317\n",
            "Superhost : 0.12731076930752716\n",
            "check_adr : -0.01918174942249425\n"
          ]
        }
      ],
      "source": [
        "for col, val in zip(X1.columns,pca.components_[0]):\n",
        "  print(col,':',val)"
      ]
    },
    {
      "cell_type": "markdown",
      "metadata": {
        "id": "g_YR-pjy4uU0"
      },
      "source": [
        "## OLS Regression"
      ]
    },
    {
      "cell_type": "markdown",
      "metadata": {
        "id": "S8Tjc4eem3Od"
      },
      "source": [
        "AS shown, Published Nightly Rate has a better predictive result than Average Daily Rate.\n",
        "\n",
        "- Nightly Rate: $R^2$= 0.724\n",
        "- Average Daily Rate: $R^2$ = 0.636\n",
        "\n",
        "For this reason we chose to run the rest of the models only using Published Nightly Rate."
      ]
    },
    {
      "cell_type": "code",
      "execution_count": null,
      "metadata": {
        "colab": {
          "base_uri": "https://localhost:8080/"
        },
        "id": "ontK2BXkBbRT",
        "outputId": "06d98394-fc50-4970-c613-d8e9162ac264"
      },
      "outputs": [
        {
          "output_type": "execute_result",
          "data": {
            "text/plain": [
              "0.6358931479539166"
            ]
          },
          "metadata": {},
          "execution_count": 59
        }
      ],
      "source": [
        "#OlS for ADR\n",
        "from sklearn import linear_model\n",
        "reg=linear_model.LinearRegression()\n",
        "adjusted=reg.fit(X_train, y_train)\n",
        "adjusted.score(X_test,y_test)"
      ]
    },
    {
      "cell_type": "code",
      "execution_count": null,
      "metadata": {
        "colab": {
          "base_uri": "https://localhost:8080/"
        },
        "id": "bKX2rStNBiny",
        "outputId": "1b74f11c-6f50-49c6-a059-732442a6ec2f"
      },
      "outputs": [
        {
          "output_type": "execute_result",
          "data": {
            "text/plain": [
              "0.7235650771034409"
            ]
          },
          "metadata": {},
          "execution_count": 60
        }
      ],
      "source": [
        "#OLS for Published Nightly Rate\n",
        "from sklearn import linear_model\n",
        "reg=linear_model.LinearRegression()\n",
        "adjusted=reg.fit(X1_train, y1_train)\n",
        "adjusted.score(X1_test,y1_test)"
      ]
    },
    {
      "cell_type": "code",
      "execution_count": null,
      "metadata": {
        "colab": {
          "base_uri": "https://localhost:8080/"
        },
        "id": "8GK0UHHVqa8g",
        "outputId": "61e1ada6-9e16-407d-e17a-57056d694664"
      },
      "outputs": [
        {
          "output_type": "stream",
          "name": "stderr",
          "text": [
            "/usr/local/lib/python3.7/dist-packages/statsmodels/tsa/tsatools.py:117: FutureWarning: In a future version of pandas all arguments of concat except for the argument 'objs' will be keyword-only\n",
            "  x = pd.concat(x[::order], 1)\n",
            "/usr/local/lib/python3.7/dist-packages/statsmodels/stats/outliers_influence.py:185: RuntimeWarning: divide by zero encountered in double_scalars\n",
            "  vif = 1. / (1. - r_squared_i)\n"
          ]
        },
        {
          "output_type": "stream",
          "name": "stdout",
          "text": [
            "    VIF Factor                    features\n",
            "0   248.986132                       const\n",
            "1          inf               Property Type\n",
            "2     1.380052                Listing Type\n",
            "3     5.968305          Occupancy Rate LTM\n",
            "4     5.435010      Number of Bookings LTM\n",
            "5     2.082400           Number of Reviews\n",
            "6     1.123257              Overall Rating\n",
            "7     2.408742                    Bedrooms\n",
            "8     1.395346                   Bathrooms\n",
            "9     2.824337                  Max Guests\n",
            "10    1.061540               Response Rate\n",
            "11         inf         Cancellation Policy\n",
            "12    1.218920            Security Deposit\n",
            "13    1.924783                Cleaning Fee\n",
            "14    1.154631            Extra People Fee\n",
            "15    1.034157                Minimum Stay\n",
            "16    8.589907  Count Reservation Days LTM\n",
            "17    3.678119    Count Available Days LTM\n",
            "18    2.328522      Count Blocked Days LTM\n",
            "19    1.173561            Number of Photos\n",
            "20    1.124422              Business Ready\n",
            "21    1.107225         Instantbook Enabled\n",
            "22    1.128767                   Superhost\n",
            "23    1.010558                   check_adr\n"
          ]
        }
      ],
      "source": [
        "#Testing for multicollinearty \n",
        "#Using a threshold of >10, we assume there's no multicollinearity between the independent variables.\n",
        "\n",
        "import statsmodels.api as sm\n",
        "x_temp = sm.add_constant(X1_train)\n",
        "\n",
        "vif = pd.DataFrame()\n",
        "vif[\"VIF Factor\"] = [variance_inflation_factor(x_temp.values, i) for i in range(x_temp.values.shape[1])]\n",
        "vif[\"features\"] = x_temp.columns\n",
        "print(vif)"
      ]
    },
    {
      "cell_type": "code",
      "execution_count": null,
      "metadata": {
        "colab": {
          "base_uri": "https://localhost:8080/"
        },
        "id": "_Lorh5vwUzzM",
        "outputId": "ce42eb63-6bda-4f0e-c414-97ee16541602"
      },
      "outputs": [
        {
          "output_type": "execute_result",
          "data": {
            "text/plain": [
              "(array([4.659e+03, 4.017e+03, 9.450e+02, 2.930e+02, 6.700e+01, 3.800e+01,\n",
              "        6.000e+00, 7.000e+00, 1.000e+00, 5.000e+00]),\n",
              " array([  5. ,  54.5, 104. , 153.5, 203. , 252.5, 302. , 351.5, 401. ,\n",
              "        450.5, 500. ]),\n",
              " <a list of 10 Patch objects>)"
            ]
          },
          "metadata": {},
          "execution_count": 62
        },
        {
          "output_type": "display_data",
          "data": {
            "text/plain": [
              "<Figure size 432x288 with 1 Axes>"
            ],
            "image/png": "[encoded data removed]"
          },
          "metadata": {
            "needs_background": "light"
          }
        }
      ],
      "source": [
        "#Cleaning Fee has strong heteroskedasticity\n",
        "plt.hist(Night_data['Cleaning Fee'])"
      ]
    },
    {
      "cell_type": "code",
      "execution_count": null,
      "metadata": {
        "id": "iOQqX4CgvPN1"
      },
      "outputs": [],
      "source": [
        "Liner_Regression_results=pd.DataFrame({'Models':['LinerRegression'],\n",
        "'R2': [adjusted.score(X1_test,y1_test)],\n",
        "'MSE': [mean_squared_error(adjusted.predict(X1_test), y1_test)],\n",
        "'MAE': [mean_absolute_error(adjusted.predict(X1_test),y1_test)]})"
      ]
    },
    {
      "cell_type": "markdown",
      "metadata": {
        "id": "hcSovBGBd4UB"
      },
      "source": [
        "## Rigde Regression "
      ]
    },
    {
      "cell_type": "markdown",
      "metadata": {
        "id": "V-6WmXFhyl6u"
      },
      "source": [
        "Rigde Model: \n",
        "- $R^2=0.723$\n",
        "- $MSE=7136$\n",
        "- $MAE =53.56$\n",
        "\n"
      ]
    },
    {
      "cell_type": "code",
      "execution_count": null,
      "metadata": {
        "id": "12Xdz9Bdwiab"
      },
      "outputs": [],
      "source": [
        "from sklearn.linear_model import Ridge"
      ]
    },
    {
      "cell_type": "code",
      "execution_count": null,
      "metadata": {
        "id": "9A6N0bXWyjUL"
      },
      "outputs": [],
      "source": [
        "from sklearn.linear_model import RidgeCV"
      ]
    },
    {
      "cell_type": "code",
      "execution_count": null,
      "metadata": {
        "colab": {
          "base_uri": "https://localhost:8080/"
        },
        "id": "QhiIcwyIzQCd",
        "outputId": "21ce2569-5155-4a62-adf4-01e02a9aa316"
      },
      "outputs": [
        {
          "output_type": "execute_result",
          "data": {
            "text/plain": [
              "array([ 5.        ,  4.91919192,  4.83838384,  4.75757576,  4.67676768,\n",
              "        4.5959596 ,  4.51515152,  4.43434343,  4.35353535,  4.27272727,\n",
              "        4.19191919,  4.11111111,  4.03030303,  3.94949495,  3.86868687,\n",
              "        3.78787879,  3.70707071,  3.62626263,  3.54545455,  3.46464646,\n",
              "        3.38383838,  3.3030303 ,  3.22222222,  3.14141414,  3.06060606,\n",
              "        2.97979798,  2.8989899 ,  2.81818182,  2.73737374,  2.65656566,\n",
              "        2.57575758,  2.49494949,  2.41414141,  2.33333333,  2.25252525,\n",
              "        2.17171717,  2.09090909,  2.01010101,  1.92929293,  1.84848485,\n",
              "        1.76767677,  1.68686869,  1.60606061,  1.52525253,  1.44444444,\n",
              "        1.36363636,  1.28282828,  1.2020202 ,  1.12121212,  1.04040404,\n",
              "        0.95959596,  0.87878788,  0.7979798 ,  0.71717172,  0.63636364,\n",
              "        0.55555556,  0.47474747,  0.39393939,  0.31313131,  0.23232323,\n",
              "        0.15151515,  0.07070707, -0.01010101, -0.09090909, -0.17171717,\n",
              "       -0.25252525, -0.33333333, -0.41414141, -0.49494949, -0.57575758,\n",
              "       -0.65656566, -0.73737374, -0.81818182, -0.8989899 , -0.97979798,\n",
              "       -1.06060606, -1.14141414, -1.22222222, -1.3030303 , -1.38383838,\n",
              "       -1.46464646, -1.54545455, -1.62626263, -1.70707071, -1.78787879,\n",
              "       -1.86868687, -1.94949495, -2.03030303, -2.11111111, -2.19191919,\n",
              "       -2.27272727, -2.35353535, -2.43434343, -2.51515152, -2.5959596 ,\n",
              "       -2.67676768, -2.75757576, -2.83838384, -2.91919192, -3.        ])"
            ]
          },
          "metadata": {},
          "execution_count": 66
        }
      ],
      "source": [
        "np.linspace(5,-3,100)"
      ]
    },
    {
      "cell_type": "code",
      "execution_count": null,
      "metadata": {
        "colab": {
          "base_uri": "https://localhost:8080/"
        },
        "id": "jZP4tCEUzQye",
        "outputId": "e4e21f2a-40f1-47c9-cc18-e99eeb70ba7c"
      },
      "outputs": [
        {
          "output_type": "execute_result",
          "data": {
            "text/plain": [
              "array([1.00000000e+05, 8.30217568e+04, 6.89261210e+04, 5.72236766e+04,\n",
              "       4.75081016e+04, 3.94420606e+04, 3.27454916e+04, 2.71858824e+04,\n",
              "       2.25701972e+04, 1.87381742e+04, 1.55567614e+04, 1.29154967e+04,\n",
              "       1.07226722e+04, 8.90215085e+03, 7.39072203e+03, 6.13590727e+03,\n",
              "       5.09413801e+03, 4.22924287e+03, 3.51119173e+03, 2.91505306e+03,\n",
              "       2.42012826e+03, 2.00923300e+03, 1.66810054e+03, 1.38488637e+03,\n",
              "       1.14975700e+03, 9.54548457e+02, 7.92482898e+02, 6.57933225e+02,\n",
              "       5.46227722e+02, 4.53487851e+02, 3.76493581e+02, 3.12571585e+02,\n",
              "       2.59502421e+02, 2.15443469e+02, 1.78864953e+02, 1.48496826e+02,\n",
              "       1.23284674e+02, 1.02353102e+02, 8.49753436e+01, 7.05480231e+01,\n",
              "       5.85702082e+01, 4.86260158e+01, 4.03701726e+01, 3.35160265e+01,\n",
              "       2.78255940e+01, 2.31012970e+01, 1.91791026e+01, 1.59228279e+01,\n",
              "       1.32194115e+01, 1.09749877e+01, 9.11162756e+00, 7.56463328e+00,\n",
              "       6.28029144e+00, 5.21400829e+00, 4.32876128e+00, 3.59381366e+00,\n",
              "       2.98364724e+00, 2.47707636e+00, 2.05651231e+00, 1.70735265e+00,\n",
              "       1.41747416e+00, 1.17681195e+00, 9.77009957e-01, 8.11130831e-01,\n",
              "       6.73415066e-01, 5.59081018e-01, 4.64158883e-01, 3.85352859e-01,\n",
              "       3.19926714e-01, 2.65608778e-01, 2.20513074e-01, 1.83073828e-01,\n",
              "       1.51991108e-01, 1.26185688e-01, 1.04761575e-01, 8.69749003e-02,\n",
              "       7.22080902e-02, 5.99484250e-02, 4.97702356e-02, 4.13201240e-02,\n",
              "       3.43046929e-02, 2.84803587e-02, 2.36448941e-02, 1.96304065e-02,\n",
              "       1.62975083e-02, 1.35304777e-02, 1.12332403e-02, 9.32603347e-03,\n",
              "       7.74263683e-03, 6.42807312e-03, 5.33669923e-03, 4.43062146e-03,\n",
              "       3.67837977e-03, 3.05385551e-03, 2.53536449e-03, 2.10490414e-03,\n",
              "       1.74752840e-03, 1.45082878e-03, 1.20450354e-03, 1.00000000e-03])"
            ]
          },
          "metadata": {},
          "execution_count": 67
        }
      ],
      "source": [
        "#Setting up lambdas\n",
        "lambdas = 10**np.linspace(5,-3,100)\n",
        "lambdas"
      ]
    },
    {
      "cell_type": "code",
      "execution_count": null,
      "metadata": {
        "id": "lZnik_RRysq8"
      },
      "outputs": [],
      "source": [
        "ridgecv = RidgeCV(alphas = lambdas, scoring = 'neg_mean_squared_error', normalize = True,cv=5)\n",
        "ridgecv.fit(X1_train, y1_train)\n",
        "ridgecv.alpha_"
      ]
    },
    {
      "cell_type": "code",
      "execution_count": null,
      "metadata": {
        "colab": {
          "base_uri": "https://localhost:8080/"
        },
        "id": "cWH_82R5y18w",
        "outputId": "d1b527d2-e346-4767-fceb-6becf14afe9c"
      },
      "outputs": [
        {
          "output_type": "execute_result",
          "data": {
            "text/plain": [
              "0.03430469286314912"
            ]
          },
          "metadata": {},
          "execution_count": 69
        }
      ],
      "source": [
        "ridgecv.alpha_"
      ]
    },
    {
      "cell_type": "code",
      "execution_count": null,
      "metadata": {
        "colab": {
          "base_uri": "https://localhost:8080/"
        },
        "id": "XSebiHx40TSx",
        "outputId": "59c3cef3-8014-416e-e401-06154344318f"
      },
      "outputs": [
        {
          "output_type": "stream",
          "name": "stderr",
          "text": [
            "/usr/local/lib/python3.7/dist-packages/sklearn/linear_model/_base.py:145: FutureWarning: 'normalize' was deprecated in version 1.0 and will be removed in 1.2.\n",
            "If you wish to scale the data, use Pipeline with a StandardScaler in a preprocessing stage. To reproduce the previous behavior:\n",
            "\n",
            "from sklearn.pipeline import make_pipeline\n",
            "\n",
            "model = make_pipeline(StandardScaler(with_mean=False), Ridge())\n",
            "\n",
            "If you wish to pass a sample_weight parameter, you need to pass it as a fit parameter to each step of the pipeline as follows:\n",
            "\n",
            "kwargs = {s[0] + '__sample_weight': sample_weight for s in model.steps}\n",
            "model.fit(X, y, **kwargs)\n",
            "\n",
            "Set parameter alpha to: original_alpha * n_samples. \n",
            "  FutureWarning,\n"
          ]
        },
        {
          "output_type": "execute_result",
          "data": {
            "text/plain": [
              "Ridge(alpha=0.03430469286314912, normalize=True)"
            ]
          },
          "metadata": {},
          "execution_count": 70
        }
      ],
      "source": [
        "ridgemod = Ridge(alpha = ridgecv.alpha_, normalize = True)\n",
        "ridgemod.fit(X1_train, y1_train)"
      ]
    },
    {
      "cell_type": "code",
      "execution_count": null,
      "metadata": {
        "colab": {
          "base_uri": "https://localhost:8080/"
        },
        "id": "GbTtDua58fWc",
        "outputId": "338994c0-0bf8-4289-8f8b-5f43f37486f5"
      },
      "outputs": [
        {
          "output_type": "stream",
          "name": "stdout",
          "text": [
            "R^2: 0.723\n",
            "MSE: 7135.877\n",
            "MAE: 53.56\n"
          ]
        }
      ],
      "source": [
        "RidgeCV_R2 = ridgemod.score(X1_test,y1_test).round(3)\n",
        "RidgeCV_MSE = mean_squared_error(ridgemod.predict(X1_test),y1_test).round(3)\n",
        "RidgeCV_MAE = mean_absolute_error(ridgemod.predict(X1_test),y1_test).round(3)\n",
        "print('R^2:', RidgeCV_R2)\n",
        "print('MSE:', RidgeCV_MSE)\n",
        "print('MAE:', RidgeCV_MAE)"
      ]
    },
    {
      "cell_type": "code",
      "execution_count": null,
      "metadata": {
        "id": "xuf3wy-wuRxp"
      },
      "outputs": [],
      "source": [
        "Ridge_Regression_results=pd.DataFrame({'Models':['RidgeRegression_CV'],\n",
        "'R2' : [ridgemod.score(X1_test,y1_test).round(3)],\n",
        "'MSE' : [mean_squared_error(ridgemod.predict(X1_test),y1_test).round(2)],\n",
        "'MAE' : [mean_absolute_error(ridgemod.predict(X1_test),y1_test)]})"
      ]
    },
    {
      "cell_type": "markdown",
      "metadata": {
        "id": "QY9hf73dey78"
      },
      "source": [
        "\n",
        "\n",
        "## Lasso Regression"
      ]
    },
    {
      "cell_type": "markdown",
      "metadata": {
        "id": "XaibB6PNy1Ep"
      },
      "source": [
        "Lasso Model: \n",
        "- $R^2= 0.723$\n",
        "- $MSE= 7131$\t\n",
        "- $MAE= 53.33$\n"
      ]
    },
    {
      "cell_type": "code",
      "execution_count": null,
      "metadata": {
        "id": "mghzjocj1Ph1"
      },
      "outputs": [],
      "source": [
        "from sklearn.linear_model import Lasso, LassoCV"
      ]
    },
    {
      "cell_type": "code",
      "execution_count": null,
      "metadata": {
        "colab": {
          "base_uri": "https://localhost:8080/"
        },
        "id": "dLkuN17a_g9i",
        "outputId": "ecb3ee0d-611a-47f0-935a-fe656015975a"
      },
      "outputs": [
        {
          "output_type": "stream",
          "name": "stderr",
          "text": [
            "/usr/local/lib/python3.7/dist-packages/sklearn/linear_model/_base.py:145: FutureWarning: 'normalize' was deprecated in version 1.0 and will be removed in 1.2.\n",
            "If you wish to scale the data, use Pipeline with a StandardScaler in a preprocessing stage. To reproduce the previous behavior:\n",
            "\n",
            "from sklearn.pipeline import make_pipeline\n",
            "\n",
            "model = make_pipeline(StandardScaler(with_mean=False), Lasso())\n",
            "\n",
            "If you wish to pass a sample_weight parameter, you need to pass it as a fit parameter to each step of the pipeline as follows:\n",
            "\n",
            "kwargs = {s[0] + '__sample_weight': sample_weight for s in model.steps}\n",
            "model.fit(X, y, **kwargs)\n",
            "\n",
            "Set parameter alpha to: original_alpha * np.sqrt(n_samples). \n",
            "  FutureWarning,\n",
            "/usr/local/lib/python3.7/dist-packages/ipykernel_launcher.py:2: UserWarning: With alpha=0, this algorithm does not converge well. You are advised to use the LinearRegression estimator\n",
            "  \n",
            "/usr/local/lib/python3.7/dist-packages/sklearn/linear_model/_coordinate_descent.py:648: UserWarning: Coordinate descent with no regularization may lead to unexpected results and is discouraged.\n",
            "  coef_, l1_reg, l2_reg, X, y, max_iter, tol, rng, random, positive\n",
            "/usr/local/lib/python3.7/dist-packages/sklearn/linear_model/_coordinate_descent.py:648: ConvergenceWarning: Objective did not converge. You might want to increase the number of iterations, check the scale of the features or consider increasing regularisation. Duality gap: 7.153e+07, tolerance: 2.756e+04 Linear regression models with null weight for the l1 regularization term are more efficiently fitted using one of the solvers implemented in sklearn.linear_model.Ridge/RidgeCV instead.\n",
            "  coef_, l1_reg, l2_reg, X, y, max_iter, tol, rng, random, positive\n"
          ]
        },
        {
          "output_type": "execute_result",
          "data": {
            "text/plain": [
              "Lasso(alpha=0, normalize=True)"
            ]
          },
          "metadata": {},
          "execution_count": 74
        }
      ],
      "source": [
        "ols_bfat1 = Lasso(alpha=0,normalize=True)\n",
        "ols_bfat1.fit(X1_train, y1_train)"
      ]
    },
    {
      "cell_type": "code",
      "execution_count": null,
      "metadata": {
        "colab": {
          "base_uri": "https://localhost:8080/"
        },
        "id": "roQQ2aBl_ycC",
        "outputId": "b8c54814-d5a1-41de-a912-7350fc9e1941"
      },
      "outputs": [
        {
          "output_type": "execute_result",
          "data": {
            "text/plain": [
              "7125.86"
            ]
          },
          "metadata": {},
          "execution_count": 75
        }
      ],
      "source": [
        "mean_squared_error(ols_bfat1.predict(X1_test),y1_test).round(2)"
      ]
    },
    {
      "cell_type": "code",
      "execution_count": null,
      "metadata": {
        "colab": {
          "base_uri": "https://localhost:8080/"
        },
        "id": "1Ki9vyE4_-L3",
        "outputId": "ea385321-2b3f-436d-b7f5-849493d487d1"
      },
      "outputs": [
        {
          "output_type": "stream",
          "name": "stderr",
          "text": [
            "/usr/local/lib/python3.7/dist-packages/sklearn/linear_model/_base.py:145: FutureWarning: 'normalize' was deprecated in version 1.0 and will be removed in 1.2.\n",
            "If you wish to scale the data, use Pipeline with a StandardScaler in a preprocessing stage. To reproduce the previous behavior:\n",
            "\n",
            "from sklearn.pipeline import make_pipeline\n",
            "\n",
            "model = make_pipeline(StandardScaler(with_mean=False), Lasso())\n",
            "\n",
            "If you wish to pass a sample_weight parameter, you need to pass it as a fit parameter to each step of the pipeline as follows:\n",
            "\n",
            "kwargs = {s[0] + '__sample_weight': sample_weight for s in model.steps}\n",
            "model.fit(X, y, **kwargs)\n",
            "\n",
            "Set parameter alpha to: original_alpha * np.sqrt(n_samples). \n",
            "  FutureWarning,\n"
          ]
        },
        {
          "output_type": "execute_result",
          "data": {
            "text/plain": [
              "0.011233240329780266"
            ]
          },
          "metadata": {},
          "execution_count": 76
        }
      ],
      "source": [
        "Lassocv = LassoCV(alphas = lambdas, normalize = True,cv=5)\n",
        "Lassocv.fit(X1_train, y1_train)\n",
        "Lassocv.alpha_"
      ]
    },
    {
      "cell_type": "code",
      "execution_count": null,
      "metadata": {
        "colab": {
          "base_uri": "https://localhost:8080/"
        },
        "id": "QRoLCsJ9ATc5",
        "outputId": "f16c3c95-e2c1-44be-de5b-5f6d51b1c78e"
      },
      "outputs": [
        {
          "output_type": "stream",
          "name": "stderr",
          "text": [
            "/usr/local/lib/python3.7/dist-packages/sklearn/linear_model/_base.py:145: FutureWarning: 'normalize' was deprecated in version 1.0 and will be removed in 1.2.\n",
            "If you wish to scale the data, use Pipeline with a StandardScaler in a preprocessing stage. To reproduce the previous behavior:\n",
            "\n",
            "from sklearn.pipeline import make_pipeline\n",
            "\n",
            "model = make_pipeline(StandardScaler(with_mean=False), Lasso())\n",
            "\n",
            "If you wish to pass a sample_weight parameter, you need to pass it as a fit parameter to each step of the pipeline as follows:\n",
            "\n",
            "kwargs = {s[0] + '__sample_weight': sample_weight for s in model.steps}\n",
            "model.fit(X, y, **kwargs)\n",
            "\n",
            "Set parameter alpha to: original_alpha * np.sqrt(n_samples). \n",
            "  FutureWarning,\n"
          ]
        },
        {
          "output_type": "execute_result",
          "data": {
            "text/plain": [
              "Lasso(alpha=0.011233240329780266, normalize=True)"
            ]
          },
          "metadata": {},
          "execution_count": 77
        }
      ],
      "source": [
        "Lassomod = Lasso(alpha = Lassocv.alpha_, normalize = True)\n",
        "Lassomod.fit(X1_train, y1_train)"
      ]
    },
    {
      "cell_type": "code",
      "execution_count": null,
      "metadata": {
        "colab": {
          "base_uri": "https://localhost:8080/"
        },
        "id": "lNQtx9zq7wdz",
        "outputId": "945858cc-91dd-422b-cac9-c8b54e40ff7f"
      },
      "outputs": [
        {
          "output_type": "stream",
          "name": "stdout",
          "text": [
            "R^2: 0.723\n",
            "MSE: 7131.43\n",
            "MAE: 53.33957754325107\n"
          ]
        }
      ],
      "source": [
        "LassoCV_MSE= mean_squared_error(Lassomod.predict(X1_test),y1_test).round(2)\n",
        "LassoCV_R2=Lassomod.score(X1_test,y1_test).round(3)\n",
        "LassoCV_MAE = mean_absolute_error(Lassomod.predict(X1_test),y1_test)\n",
        "print('R^2:', LassoCV_R2)\n",
        "print('MSE:', LassoCV_MSE)\n",
        "print('MAE:', LassoCV_MAE)"
      ]
    },
    {
      "cell_type": "code",
      "execution_count": null,
      "metadata": {
        "id": "T3uoZX2Hu9Zg"
      },
      "outputs": [],
      "source": [
        "LassoCV_Results=pd.DataFrame({'Models':['LassoCV'],\n",
        "'MSE': [mean_squared_error(Lassomod.predict(X1_test),y1_test).round(2)],\n",
        "'R2': [Lassomod.score(X1_test,y1_test).round(3)],\n",
        "'MAE' : [mean_absolute_error(Lassomod.predict(X1_test),y1_test)]})"
      ]
    },
    {
      "cell_type": "markdown",
      "metadata": {
        "id": "ATo3COcq4Wz4"
      },
      "source": [
        "## Bagging "
      ]
    },
    {
      "cell_type": "markdown",
      "metadata": {
        "id": "dn2njCwr35j_"
      },
      "source": [
        "Bagging Model: \n",
        "- $R^2 = 0.719$\n",
        "- $MSE = 7243$\n",
        "- $MAE = 49.51$"
      ]
    },
    {
      "cell_type": "code",
      "execution_count": null,
      "metadata": {
        "id": "Ap30YypJ2kGb"
      },
      "outputs": [],
      "source": [
        "from sklearn.tree import DecisionTreeRegressor"
      ]
    },
    {
      "cell_type": "code",
      "execution_count": null,
      "metadata": {
        "id": "JTA_SX2a2Y6e"
      },
      "outputs": [],
      "source": [
        "from sklearn.ensemble import BaggingRegressor"
      ]
    },
    {
      "cell_type": "code",
      "execution_count": null,
      "metadata": {
        "id": "yRiEiKNz1_B9"
      },
      "outputs": [],
      "source": [
        "num_trees=np.linspace(50,2000,10)"
      ]
    },
    {
      "cell_type": "code",
      "execution_count": null,
      "metadata": {
        "id": "RJBQFs140xro"
      },
      "outputs": [],
      "source": [
        "oob_res=[]\n",
        "for trs in num_trees:\n",
        "    res = BaggingRegressor(base_estimator=DecisionTreeRegressor(),n_estimators=int(trs),oob_score=True,random_state=5).fit(X1_train, y1_train)\n",
        "    oob_res.append(res.oob_score_)"
      ]
    },
    {
      "cell_type": "code",
      "execution_count": null,
      "metadata": {
        "id": "LyptbYLX3S91",
        "colab": {
          "base_uri": "https://localhost:8080/"
        },
        "outputId": "6af9010f-7c27-4492-b685-16a08b6cf1dd"
      },
      "outputs": [
        {
          "output_type": "execute_result",
          "data": {
            "text/plain": [
              "[<matplotlib.lines.Line2D at 0x7f1538267d10>]"
            ]
          },
          "metadata": {},
          "execution_count": 84
        },
        {
          "output_type": "display_data",
          "data": {
            "text/plain": [
              "<Figure size 432x288 with 1 Axes>"
            ],
            "image/png": "[encoded data removed]"
          },
          "metadata": {
            "needs_background": "light"
          }
        }
      ],
      "source": [
        "plt.plot(num_trees,oob_res)"
      ]
    },
    {
      "cell_type": "code",
      "execution_count": null,
      "metadata": {
        "id": "I4jZJstN3cLw",
        "colab": {
          "base_uri": "https://localhost:8080/"
        },
        "outputId": "db92529c-8fa9-4617-8a57-6a54afa92fdf"
      },
      "outputs": [
        {
          "output_type": "execute_result",
          "data": {
            "text/plain": [
              "266.66666666666663"
            ]
          },
          "metadata": {},
          "execution_count": 85
        }
      ],
      "source": [
        "num_trees[np.argmax(oob_res)]"
      ]
    },
    {
      "cell_type": "code",
      "execution_count": null,
      "metadata": {
        "id": "Ajbm7lab3kG1",
        "colab": {
          "base_uri": "https://localhost:8080/"
        },
        "outputId": "a5fb940e-1baf-4d16-aab8-9b82a8e88768"
      },
      "outputs": [
        {
          "output_type": "execute_result",
          "data": {
            "text/plain": [
              "266"
            ]
          },
          "metadata": {},
          "execution_count": 86
        }
      ],
      "source": [
        "opt_trs=int(num_trees[np.argmax(oob_res)])\n",
        "opt_trs"
      ]
    },
    {
      "cell_type": "code",
      "execution_count": null,
      "metadata": {
        "id": "N7X7dNkl3k5x"
      },
      "outputs": [],
      "source": [
        "bagging = BaggingRegressor(base_estimator=DecisionTreeRegressor(),n_estimators=opt_trs,random_state=5).fit(X1_train, y1_train)"
      ]
    },
    {
      "cell_type": "code",
      "execution_count": null,
      "metadata": {
        "id": "tlVAAgqG3oQC",
        "colab": {
          "base_uri": "https://localhost:8080/"
        },
        "outputId": "728d100d-21dc-4f89-d947-57bd6978f761"
      },
      "outputs": [
        {
          "output_type": "stream",
          "name": "stdout",
          "text": [
            "R^2: 0.719\n",
            "MSE: 7242.58\n",
            "MAE: 49.51189976934367\n"
          ]
        }
      ],
      "source": [
        "baggingCV_R2=bagging.score(X1_test,y1_test).round(3)\n",
        "baggingCV_MSE= mean_squared_error(bagging.predict(X1_test),y1_test).round(2)\n",
        "baggingCV_MAE = mean_absolute_error(bagging.predict(X1_test),y1_test)\n",
        "print('R^2:', baggingCV_R2)\n",
        "print('MSE:', baggingCV_MSE)\n",
        "print('MAE:', baggingCV_MAE)\n"
      ]
    },
    {
      "cell_type": "code",
      "execution_count": null,
      "metadata": {
        "id": "FXMPMZ78vrls"
      },
      "outputs": [],
      "source": [
        "baggingCV_results= pd.DataFrame({'Models':['Bagging_CV'],\n",
        "'R2':[bagging.score(X1_test,y1_test).round(3)],\n",
        "'MSE': [mean_squared_error(bagging.predict(X1_test),y1_test).round(3)],\n",
        "'MAE': [mean_absolute_error(bagging.predict(X1_test),y1_test).round(3)]})"
      ]
    },
    {
      "cell_type": "markdown",
      "metadata": {
        "id": "D01759io7EA-"
      },
      "source": [
        "## Random Forest Model"
      ]
    },
    {
      "cell_type": "markdown",
      "metadata": {
        "id": "t1SJ5a-uXW_-"
      },
      "source": [
        "Random Forest Model:\n",
        "- $R^2: 0.732$\n",
        "- $MSE: 6899.98$\n",
        "- $MAE: 0.732$"
      ]
    },
    {
      "cell_type": "code",
      "execution_count": null,
      "metadata": {
        "id": "7DXlF7Lw7Kwh"
      },
      "outputs": [],
      "source": [
        "from sklearn.ensemble import RandomForestRegressor"
      ]
    },
    {
      "cell_type": "code",
      "execution_count": null,
      "metadata": {
        "id": "KykBPu8t6wjI"
      },
      "outputs": [],
      "source": [
        "rf = RandomForestRegressor(n_estimators=266,max_features='sqrt',random_state=5).fit(X1_train,y1_train)"
      ]
    },
    {
      "cell_type": "code",
      "execution_count": null,
      "metadata": {
        "colab": {
          "base_uri": "https://localhost:8080/"
        },
        "id": "YeoSGxkd6ws7",
        "outputId": "a00b6db1-35e9-4b45-cdad-4389358e5d16"
      },
      "outputs": [
        {
          "output_type": "stream",
          "name": "stdout",
          "text": [
            "R^2: 0.7323277621003239\n",
            "MSE: 6899.98\n",
            "MAE: 0.7323277621003239\n"
          ]
        }
      ],
      "source": [
        "RandomFR_R2=rf.score(X1_test,y1_test)\n",
        "RandomFR_MSE= mean_squared_error(rf.predict(X1_test),y1_test).round(2)\n",
        "RandomFRCV_MAE = mean_absolute_error(rf.predict(X1_test),y1_test)\n",
        "print('R^2:', RandomFR_R2)\n",
        "print('MSE:',RandomFR_MSE)\n",
        "print('MAE:', RandomFR_R2)"
      ]
    },
    {
      "cell_type": "code",
      "execution_count": null,
      "metadata": {
        "id": "J9BzGT5Wvdfq"
      },
      "outputs": [],
      "source": [
        "RandomFR_results=pd.DataFrame({'Models':['RandomForestRegressor'],\n",
        "'R2':[rf.score(X1_test,y1_test).round(3)],\n",
        "'MSE': [mean_squared_error(rf.predict(X1_test),y1_test).round(3)],\n",
        "'MAE' : [mean_absolute_error(rf.predict(X1_test),y1_test).round(3)]})"
      ]
    },
    {
      "cell_type": "markdown",
      "metadata": {
        "id": "HWQGnCSgkp8e"
      },
      "source": [
        "## Boosting"
      ]
    },
    {
      "cell_type": "markdown",
      "metadata": {
        "id": "7wYvOihmTjas"
      },
      "source": [
        "Boosting Model: $R^2=0.598$\n"
      ]
    },
    {
      "cell_type": "code",
      "execution_count": null,
      "metadata": {
        "id": "kN_caSj_kutI"
      },
      "outputs": [],
      "source": [
        "from sklearn.ensemble import GradientBoostingRegressor"
      ]
    },
    {
      "cell_type": "code",
      "execution_count": null,
      "metadata": {
        "id": "4b-0CbZGkvbz"
      },
      "outputs": [],
      "source": [
        "from sklearn.model_selection import GridSearchCV"
      ]
    },
    {
      "cell_type": "code",
      "execution_count": null,
      "metadata": {
        "id": "ShMsgCMPkyGE"
      },
      "outputs": [],
      "source": [
        "parameters = {'learning_rate':[0.1], 'n_estimators':[266], 'max_depth':[1,2,3,4,5]}"
      ]
    },
    {
      "cell_type": "code",
      "execution_count": null,
      "metadata": {
        "id": "4liLKWepk0nX"
      },
      "outputs": [],
      "source": [
        "bmod = GradientBoostingRegressor(random_state=5)"
      ]
    },
    {
      "cell_type": "code",
      "execution_count": null,
      "metadata": {
        "id": "F6bDKBaFk292"
      },
      "outputs": [],
      "source": [
        "X1_train, X1_test, y1_train, y1_test = train_test_split(X1,y1,test_size=0.3, random_state=5)"
      ]
    },
    {
      "cell_type": "code",
      "execution_count": null,
      "metadata": {
        "colab": {
          "base_uri": "https://localhost:8080/"
        },
        "id": "JNoFFvlak5nU",
        "outputId": "35dc2e3a-329d-4d23-81cd-d3009e16d2b7"
      },
      "outputs": [
        {
          "output_type": "execute_result",
          "data": {
            "text/plain": [
              "GridSearchCV(estimator=GradientBoostingRegressor(random_state=5),\n",
              "             param_grid={'learning_rate': [0.1], 'max_depth': [1, 2, 3, 4, 5],\n",
              "                         'n_estimators': [266]})"
            ]
          },
          "metadata": {},
          "execution_count": 99
        }
      ],
      "source": [
        "boost_regr = GridSearchCV(bmod, parameters)\n",
        "boost_regr.fit(X1_train, y1_train)"
      ]
    },
    {
      "cell_type": "code",
      "execution_count": null,
      "metadata": {
        "id": "ePSVUq8OGBBP"
      },
      "outputs": [],
      "source": [
        "from sklearn.metrics import accuracy_score"
      ]
    },
    {
      "cell_type": "code",
      "execution_count": null,
      "metadata": {
        "colab": {
          "base_uri": "https://localhost:8080/"
        },
        "id": "gxr_NeVOly-_",
        "outputId": "d6140661-c60f-4da7-9585-87079319f688"
      },
      "outputs": [
        {
          "output_type": "execute_result",
          "data": {
            "text/plain": [
              "   mean_fit_time  std_fit_time  mean_score_time  std_score_time  \\\n",
              "0       1.207650      0.033626         0.005088        0.000241   \n",
              "1       2.252958      0.006654         0.006465        0.000296   \n",
              "2       3.292504      0.015887         0.008240        0.000449   \n",
              "3       4.327978      0.009505         0.009970        0.000300   \n",
              "4       5.406250      0.028064         0.011617        0.000221   \n",
              "\n",
              "  param_learning_rate param_max_depth param_n_estimators  \\\n",
              "0                 0.1               1                266   \n",
              "1                 0.1               2                266   \n",
              "2                 0.1               3                266   \n",
              "3                 0.1               4                266   \n",
              "4                 0.1               5                266   \n",
              "\n",
              "                                              params  split0_test_score  \\\n",
              "0  {'learning_rate': 0.1, 'max_depth': 1, 'n_esti...           0.639493   \n",
              "1  {'learning_rate': 0.1, 'max_depth': 2, 'n_esti...           0.690361   \n",
              "2  {'learning_rate': 0.1, 'max_depth': 3, 'n_esti...           0.706677   \n",
              "3  {'learning_rate': 0.1, 'max_depth': 4, 'n_esti...           0.716654   \n",
              "4  {'learning_rate': 0.1, 'max_depth': 5, 'n_esti...           0.667373   \n",
              "\n",
              "   split1_test_score  split2_test_score  split3_test_score  split4_test_score  \\\n",
              "0           0.217219           0.453012           0.688752           0.644662   \n",
              "1           0.208433           0.572806           0.675099           0.668373   \n",
              "2           0.219019           0.600308           0.578776           0.700619   \n",
              "3           0.227444           0.614199           0.532958           0.677329   \n",
              "4           0.226655           0.572816           0.565839           0.684837   \n",
              "\n",
              "   mean_test_score  std_test_score  rank_test_score  \n",
              "0         0.528628        0.175550                5  \n",
              "1         0.563014        0.182046                1  \n",
              "2         0.561079        0.178621                2  \n",
              "3         0.553717        0.174569                3  \n",
              "4         0.543504        0.165572                4  "
            ],
            "text/html": [
              "\n",
              "  <div id=\"df-939a6faf-67f8-4e23-9324-4e156264e67e\">\n",
              "    <div class=\"colab-df-container\">\n",
              "      <div>\n",
              "<style scoped>\n",
              "    .dataframe tbody tr th:only-of-type {\n",
              "        vertical-align: middle;\n",
              "    }\n",
              "\n",
              "    .dataframe tbody tr th {\n",
              "        vertical-align: top;\n",
              "    }\n",
              "\n",
              "    .dataframe thead th {\n",
              "        text-align: right;\n",
              "    }\n",
              "</style>\n",
              "<table border=\"1\" class=\"dataframe\">\n",
              "  <thead>\n",
              "    <tr style=\"text-align: right;\">\n",
              "      <th></th>\n",
              "      <th>mean_fit_time</th>\n",
              "      <th>std_fit_time</th>\n",
              "      <th>mean_score_time</th>\n",
              "      <th>std_score_time</th>\n",
              "      <th>param_learning_rate</th>\n",
              "      <th>param_max_depth</th>\n",
              "      <th>param_n_estimators</th>\n",
              "      <th>params</th>\n",
              "      <th>split0_test_score</th>\n",
              "      <th>split1_test_score</th>\n",
              "      <th>split2_test_score</th>\n",
              "      <th>split3_test_score</th>\n",
              "      <th>split4_test_score</th>\n",
              "      <th>mean_test_score</th>\n",
              "      <th>std_test_score</th>\n",
              "      <th>rank_test_score</th>\n",
              "    </tr>\n",
              "  </thead>\n",
              "  <tbody>\n",
              "    <tr>\n",
              "      <th>0</th>\n",
              "      <td>1.207650</td>\n",
              "      <td>0.033626</td>\n",
              "      <td>0.005088</td>\n",
              "      <td>0.000241</td>\n",
              "      <td>0.1</td>\n",
              "      <td>1</td>\n",
              "      <td>266</td>\n",
              "      <td>{'learning_rate': 0.1, 'max_depth': 1, 'n_esti...</td>\n",
              "      <td>0.639493</td>\n",
              "      <td>0.217219</td>\n",
              "      <td>0.453012</td>\n",
              "      <td>0.688752</td>\n",
              "      <td>0.644662</td>\n",
              "      <td>0.528628</td>\n",
              "      <td>0.175550</td>\n",
              "      <td>5</td>\n",
              "    </tr>\n",
              "    <tr>\n",
              "      <th>1</th>\n",
              "      <td>2.252958</td>\n",
              "      <td>0.006654</td>\n",
              "      <td>0.006465</td>\n",
              "      <td>0.000296</td>\n",
              "      <td>0.1</td>\n",
              "      <td>2</td>\n",
              "      <td>266</td>\n",
              "      <td>{'learning_rate': 0.1, 'max_depth': 2, 'n_esti...</td>\n",
              "      <td>0.690361</td>\n",
              "      <td>0.208433</td>\n",
              "      <td>0.572806</td>\n",
              "      <td>0.675099</td>\n",
              "      <td>0.668373</td>\n",
              "      <td>0.563014</td>\n",
              "      <td>0.182046</td>\n",
              "      <td>1</td>\n",
              "    </tr>\n",
              "    <tr>\n",
              "      <th>2</th>\n",
              "      <td>3.292504</td>\n",
              "      <td>0.015887</td>\n",
              "      <td>0.008240</td>\n",
              "      <td>0.000449</td>\n",
              "      <td>0.1</td>\n",
              "      <td>3</td>\n",
              "      <td>266</td>\n",
              "      <td>{'learning_rate': 0.1, 'max_depth': 3, 'n_esti...</td>\n",
              "      <td>0.706677</td>\n",
              "      <td>0.219019</td>\n",
              "      <td>0.600308</td>\n",
              "      <td>0.578776</td>\n",
              "      <td>0.700619</td>\n",
              "      <td>0.561079</td>\n",
              "      <td>0.178621</td>\n",
              "      <td>2</td>\n",
              "    </tr>\n",
              "    <tr>\n",
              "      <th>3</th>\n",
              "      <td>4.327978</td>\n",
              "      <td>0.009505</td>\n",
              "      <td>0.009970</td>\n",
              "      <td>0.000300</td>\n",
              "      <td>0.1</td>\n",
              "      <td>4</td>\n",
              "      <td>266</td>\n",
              "      <td>{'learning_rate': 0.1, 'max_depth': 4, 'n_esti...</td>\n",
              "      <td>0.716654</td>\n",
              "      <td>0.227444</td>\n",
              "      <td>0.614199</td>\n",
              "      <td>0.532958</td>\n",
              "      <td>0.677329</td>\n",
              "      <td>0.553717</td>\n",
              "      <td>0.174569</td>\n",
              "      <td>3</td>\n",
              "    </tr>\n",
              "    <tr>\n",
              "      <th>4</th>\n",
              "      <td>5.406250</td>\n",
              "      <td>0.028064</td>\n",
              "      <td>0.011617</td>\n",
              "      <td>0.000221</td>\n",
              "      <td>0.1</td>\n",
              "      <td>5</td>\n",
              "      <td>266</td>\n",
              "      <td>{'learning_rate': 0.1, 'max_depth': 5, 'n_esti...</td>\n",
              "      <td>0.667373</td>\n",
              "      <td>0.226655</td>\n",
              "      <td>0.572816</td>\n",
              "      <td>0.565839</td>\n",
              "      <td>0.684837</td>\n",
              "      <td>0.543504</td>\n",
              "      <td>0.165572</td>\n",
              "      <td>4</td>\n",
              "    </tr>\n",
              "  </tbody>\n",
              "</table>\n",
              "</div>\n",
              "      <button class=\"colab-df-convert\" onclick=\"convertToInteractive('df-939a6faf-67f8-4e23-9324-4e156264e67e')\"\n",
              "              title=\"Convert this dataframe to an interactive table.\"\n",
              "              style=\"display:none;\">\n",
              "        \n",
              "  <svg xmlns=\"http://www.w3.org/2000/svg\" height=\"24px\"viewBox=\"0 0 24 24\"\n",
              "       width=\"24px\">\n",
              "    <path d=\"M0 0h24v24H0V0z\" fill=\"none\"/>\n",
              "    <path d=\"M18.56 5.44l.94 2.06.94-2.06 2.06-.94-2.06-.94-.94-2.06-.94 2.06-2.06.94zm-11 1L8.5 8.5l.94-2.06 2.06-.94-2.06-.94L8.5 2.5l-.94 2.06-2.06.94zm10 10l.94 2.06.94-2.06 2.06-.94-2.06-.94-.94-2.06-.94 2.06-2.06.94z\"/><path d=\"M17.41 7.96l-1.37-1.37c-.4-.4-.92-.59-1.43-.59-.52 0-1.04.2-1.43.59L10.3 9.45l-7.72 7.72c-.78.78-.78 2.05 0 2.83L4 21.41c.39.39.9.59 1.41.59.51 0 1.02-.2 1.41-.59l7.78-7.78 2.81-2.81c.8-.78.8-2.07 0-2.86zM5.41 20L4 18.59l7.72-7.72 1.47 1.35L5.41 20z\"/>\n",
              "  </svg>\n",
              "      </button>\n",
              "      \n",
              "  <style>\n",
              "    .colab-df-container {\n",
              "      display:flex;\n",
              "      flex-wrap:wrap;\n",
              "      gap: 12px;\n",
              "    }\n",
              "\n",
              "    .colab-df-convert {\n",
              "      background-color: #E8F0FE;\n",
              "      border: none;\n",
              "      border-radius: 50%;\n",
              "      cursor: pointer;\n",
              "      display: none;\n",
              "      fill: #1967D2;\n",
              "      height: 32px;\n",
              "      padding: 0 0 0 0;\n",
              "      width: 32px;\n",
              "    }\n",
              "\n",
              "    .colab-df-convert:hover {\n",
              "      background-color: #E2EBFA;\n",
              "      box-shadow: 0px 1px 2px rgba(60, 64, 67, 0.3), 0px 1px 3px 1px rgba(60, 64, 67, 0.15);\n",
              "      fill: #174EA6;\n",
              "    }\n",
              "\n",
              "    [theme=dark] .colab-df-convert {\n",
              "      background-color: #3B4455;\n",
              "      fill: #D2E3FC;\n",
              "    }\n",
              "\n",
              "    [theme=dark] .colab-df-convert:hover {\n",
              "      background-color: #434B5C;\n",
              "      box-shadow: 0px 1px 3px 1px rgba(0, 0, 0, 0.15);\n",
              "      filter: drop-shadow(0px 1px 2px rgba(0, 0, 0, 0.3));\n",
              "      fill: #FFFFFF;\n",
              "    }\n",
              "  </style>\n",
              "\n",
              "      <script>\n",
              "        const buttonEl =\n",
              "          document.querySelector('#df-939a6faf-67f8-4e23-9324-4e156264e67e button.colab-df-convert');\n",
              "        buttonEl.style.display =\n",
              "          google.colab.kernel.accessAllowed ? 'block' : 'none';\n",
              "\n",
              "        async function convertToInteractive(key) {\n",
              "          const element = document.querySelector('#df-939a6faf-67f8-4e23-9324-4e156264e67e');\n",
              "          const dataTable =\n",
              "            await google.colab.kernel.invokeFunction('convertToInteractive',\n",
              "                                                     [key], {});\n",
              "          if (!dataTable) return;\n",
              "\n",
              "          const docLinkHtml = 'Like what you see? Visit the ' +\n",
              "            '<a target=\"_blank\" href=https://colab.research.google.com/notebooks/data_table.ipynb>data table notebook</a>'\n",
              "            + ' to learn more about interactive tables.';\n",
              "          element.innerHTML = '';\n",
              "          dataTable['output_type'] = 'display_data';\n",
              "          await google.colab.output.renderOutput(dataTable, element);\n",
              "          const docLink = document.createElement('div');\n",
              "          docLink.innerHTML = docLinkHtml;\n",
              "          element.appendChild(docLink);\n",
              "        }\n",
              "      </script>\n",
              "    </div>\n",
              "  </div>\n",
              "  "
            ]
          },
          "metadata": {},
          "execution_count": 101
        }
      ],
      "source": [
        "df=pd.DataFrame.from_dict(boost_regr.cv_results_)\n",
        "df.head()"
      ]
    },
    {
      "cell_type": "code",
      "execution_count": null,
      "metadata": {
        "colab": {
          "base_uri": "https://localhost:8080/"
        },
        "id": "fY3rIZoQl77x",
        "outputId": "05b0a3cd-6992-40f0-d9a1-1083ffed8917"
      },
      "outputs": [
        {
          "output_type": "execute_result",
          "data": {
            "text/plain": [
              "   mean_fit_time  std_fit_time  mean_score_time  std_score_time  \\\n",
              "1       2.252958      0.006654         0.006465        0.000296   \n",
              "\n",
              "  param_learning_rate param_max_depth param_n_estimators  \\\n",
              "1                 0.1               2                266   \n",
              "\n",
              "                                              params  split0_test_score  \\\n",
              "1  {'learning_rate': 0.1, 'max_depth': 2, 'n_esti...           0.690361   \n",
              "\n",
              "   split1_test_score  split2_test_score  split3_test_score  split4_test_score  \\\n",
              "1           0.208433           0.572806           0.675099           0.668373   \n",
              "\n",
              "   mean_test_score  std_test_score  rank_test_score  \n",
              "1         0.563014        0.182046                1  "
            ],
            "text/html": [
              "\n",
              "  <div id=\"df-5e13ffe0-a76d-463b-bfd9-c41263741263\">\n",
              "    <div class=\"colab-df-container\">\n",
              "      <div>\n",
              "<style scoped>\n",
              "    .dataframe tbody tr th:only-of-type {\n",
              "        vertical-align: middle;\n",
              "    }\n",
              "\n",
              "    .dataframe tbody tr th {\n",
              "        vertical-align: top;\n",
              "    }\n",
              "\n",
              "    .dataframe thead th {\n",
              "        text-align: right;\n",
              "    }\n",
              "</style>\n",
              "<table border=\"1\" class=\"dataframe\">\n",
              "  <thead>\n",
              "    <tr style=\"text-align: right;\">\n",
              "      <th></th>\n",
              "      <th>mean_fit_time</th>\n",
              "      <th>std_fit_time</th>\n",
              "      <th>mean_score_time</th>\n",
              "      <th>std_score_time</th>\n",
              "      <th>param_learning_rate</th>\n",
              "      <th>param_max_depth</th>\n",
              "      <th>param_n_estimators</th>\n",
              "      <th>params</th>\n",
              "      <th>split0_test_score</th>\n",
              "      <th>split1_test_score</th>\n",
              "      <th>split2_test_score</th>\n",
              "      <th>split3_test_score</th>\n",
              "      <th>split4_test_score</th>\n",
              "      <th>mean_test_score</th>\n",
              "      <th>std_test_score</th>\n",
              "      <th>rank_test_score</th>\n",
              "    </tr>\n",
              "  </thead>\n",
              "  <tbody>\n",
              "    <tr>\n",
              "      <th>1</th>\n",
              "      <td>2.252958</td>\n",
              "      <td>0.006654</td>\n",
              "      <td>0.006465</td>\n",
              "      <td>0.000296</td>\n",
              "      <td>0.1</td>\n",
              "      <td>2</td>\n",
              "      <td>266</td>\n",
              "      <td>{'learning_rate': 0.1, 'max_depth': 2, 'n_esti...</td>\n",
              "      <td>0.690361</td>\n",
              "      <td>0.208433</td>\n",
              "      <td>0.572806</td>\n",
              "      <td>0.675099</td>\n",
              "      <td>0.668373</td>\n",
              "      <td>0.563014</td>\n",
              "      <td>0.182046</td>\n",
              "      <td>1</td>\n",
              "    </tr>\n",
              "  </tbody>\n",
              "</table>\n",
              "</div>\n",
              "      <button class=\"colab-df-convert\" onclick=\"convertToInteractive('df-5e13ffe0-a76d-463b-bfd9-c41263741263')\"\n",
              "              title=\"Convert this dataframe to an interactive table.\"\n",
              "              style=\"display:none;\">\n",
              "        \n",
              "  <svg xmlns=\"http://www.w3.org/2000/svg\" height=\"24px\"viewBox=\"0 0 24 24\"\n",
              "       width=\"24px\">\n",
              "    <path d=\"M0 0h24v24H0V0z\" fill=\"none\"/>\n",
              "    <path d=\"M18.56 5.44l.94 2.06.94-2.06 2.06-.94-2.06-.94-.94-2.06-.94 2.06-2.06.94zm-11 1L8.5 8.5l.94-2.06 2.06-.94-2.06-.94L8.5 2.5l-.94 2.06-2.06.94zm10 10l.94 2.06.94-2.06 2.06-.94-2.06-.94-.94-2.06-.94 2.06-2.06.94z\"/><path d=\"M17.41 7.96l-1.37-1.37c-.4-.4-.92-.59-1.43-.59-.52 0-1.04.2-1.43.59L10.3 9.45l-7.72 7.72c-.78.78-.78 2.05 0 2.83L4 21.41c.39.39.9.59 1.41.59.51 0 1.02-.2 1.41-.59l7.78-7.78 2.81-2.81c.8-.78.8-2.07 0-2.86zM5.41 20L4 18.59l7.72-7.72 1.47 1.35L5.41 20z\"/>\n",
              "  </svg>\n",
              "      </button>\n",
              "      \n",
              "  <style>\n",
              "    .colab-df-container {\n",
              "      display:flex;\n",
              "      flex-wrap:wrap;\n",
              "      gap: 12px;\n",
              "    }\n",
              "\n",
              "    .colab-df-convert {\n",
              "      background-color: #E8F0FE;\n",
              "      border: none;\n",
              "      border-radius: 50%;\n",
              "      cursor: pointer;\n",
              "      display: none;\n",
              "      fill: #1967D2;\n",
              "      height: 32px;\n",
              "      padding: 0 0 0 0;\n",
              "      width: 32px;\n",
              "    }\n",
              "\n",
              "    .colab-df-convert:hover {\n",
              "      background-color: #E2EBFA;\n",
              "      box-shadow: 0px 1px 2px rgba(60, 64, 67, 0.3), 0px 1px 3px 1px rgba(60, 64, 67, 0.15);\n",
              "      fill: #174EA6;\n",
              "    }\n",
              "\n",
              "    [theme=dark] .colab-df-convert {\n",
              "      background-color: #3B4455;\n",
              "      fill: #D2E3FC;\n",
              "    }\n",
              "\n",
              "    [theme=dark] .colab-df-convert:hover {\n",
              "      background-color: #434B5C;\n",
              "      box-shadow: 0px 1px 3px 1px rgba(0, 0, 0, 0.15);\n",
              "      filter: drop-shadow(0px 1px 2px rgba(0, 0, 0, 0.3));\n",
              "      fill: #FFFFFF;\n",
              "    }\n",
              "  </style>\n",
              "\n",
              "      <script>\n",
              "        const buttonEl =\n",
              "          document.querySelector('#df-5e13ffe0-a76d-463b-bfd9-c41263741263 button.colab-df-convert');\n",
              "        buttonEl.style.display =\n",
              "          google.colab.kernel.accessAllowed ? 'block' : 'none';\n",
              "\n",
              "        async function convertToInteractive(key) {\n",
              "          const element = document.querySelector('#df-5e13ffe0-a76d-463b-bfd9-c41263741263');\n",
              "          const dataTable =\n",
              "            await google.colab.kernel.invokeFunction('convertToInteractive',\n",
              "                                                     [key], {});\n",
              "          if (!dataTable) return;\n",
              "\n",
              "          const docLinkHtml = 'Like what you see? Visit the ' +\n",
              "            '<a target=\"_blank\" href=https://colab.research.google.com/notebooks/data_table.ipynb>data table notebook</a>'\n",
              "            + ' to learn more about interactive tables.';\n",
              "          element.innerHTML = '';\n",
              "          dataTable['output_type'] = 'display_data';\n",
              "          await google.colab.output.renderOutput(dataTable, element);\n",
              "          const docLink = document.createElement('div');\n",
              "          docLink.innerHTML = docLinkHtml;\n",
              "          element.appendChild(docLink);\n",
              "        }\n",
              "      </script>\n",
              "    </div>\n",
              "  </div>\n",
              "  "
            ]
          },
          "metadata": {},
          "execution_count": 102
        }
      ],
      "source": [
        "df[df['mean_test_score']==df['mean_test_score'].max()]"
      ]
    },
    {
      "cell_type": "code",
      "execution_count": null,
      "metadata": {
        "id": "CvHquEw9lViy"
      },
      "outputs": [],
      "source": [
        "boost =GradientBoostingRegressor(random_state=5,learning_rate=0.1,n_estimators=266,max_depth=2).fit(X1_train,y1_train)"
      ]
    },
    {
      "cell_type": "code",
      "execution_count": null,
      "metadata": {
        "id": "_WrntyHAS_zl"
      },
      "outputs": [],
      "source": [
        "from sklearn.metrics import mean_absolute_error"
      ]
    },
    {
      "cell_type": "code",
      "execution_count": null,
      "metadata": {
        "colab": {
          "base_uri": "https://localhost:8080/"
        },
        "id": "K9FR4fIOSNdJ",
        "outputId": "f29ca100-dd15-4105-f3c0-c75aeec457dc"
      },
      "outputs": [
        {
          "output_type": "stream",
          "name": "stdout",
          "text": [
            "GBR_R2: 0.5834071889387713\n",
            "GBR_MSE: 10738.816\n",
            "GBR_MAE: 51.66\n"
          ]
        }
      ],
      "source": [
        "GBR_R2=boost.score(X1_test,y1_test)\n",
        "GBR_MSE=mean_squared_error(boost.predict(X1_test),y1_test).round(3)\n",
        "GBR_MAE= mean_absolute_error(boost.predict(X1_test),y1_test).round(2)\n",
        "print('GBR_R2:', GBR_R2)\n",
        "print('GBR_MSE:', GBR_MSE)\n",
        "print('GBR_MAE:', GBR_MAE)"
      ]
    },
    {
      "cell_type": "code",
      "execution_count": null,
      "metadata": {
        "id": "SlB4rBT7Snds"
      },
      "outputs": [],
      "source": [
        "RandomFR_R2=rf.score(X1_test,y1_test)\n",
        "RandomFR_MSE= mean_squared_error(rf.predict(X1_test),y1_test).round(2)"
      ]
    },
    {
      "cell_type": "code",
      "execution_count": null,
      "metadata": {
        "colab": {
          "base_uri": "https://localhost:8080/"
        },
        "id": "vfDzpsRLmbfH",
        "outputId": "681388ba-2a76-4dd8-8def-88f80dc345ea"
      },
      "outputs": [
        {
          "output_type": "display_data",
          "data": {
            "text/plain": [
              "<Figure size 576x432 with 1 Axes>"
            ],
            "image/png": "[encoded data removed]"
          },
          "metadata": {
            "needs_background": "light"
          }
        }
      ],
      "source": [
        "plt.figure(figsize=(8,6))\n",
        "nfeat=X.shape[1]\n",
        "plt.barh(np.arange(nfeat),boost.feature_importances_,align='center')\n",
        "plt.yticks(np.arange(nfeat),list(X.columns))\n",
        "plt.ylim(-1,nfeat)\n",
        "plt.show()"
      ]
    },
    {
      "cell_type": "code",
      "execution_count": null,
      "metadata": {
        "id": "xt5BGISovibl"
      },
      "outputs": [],
      "source": [
        "Gradient_Boosting_results= pd.DataFrame({'Models':['Gradieent_Boosting'],\n",
        "'R2':[boost.score(X_test,y_test).round(3)],\n",
        "'MSE': [mean_squared_error(boost.predict(X1_test),y1_test).round(3)],\n",
        "'MAE' : [mean_absolute_error(boost.predict(X1_test),y1_test).round(3)]})"
      ]
    },
    {
      "cell_type": "code",
      "execution_count": null,
      "metadata": {
        "colab": {
          "base_uri": "https://localhost:8080/"
        },
        "id": "9AAqt__L3KkN",
        "outputId": "1cbbf47b-8588-42d0-aa01-4f0d444d5b62"
      },
      "outputs": [
        {
          "output_type": "execute_result",
          "data": {
            "text/plain": [
              "                  Models        R2           MSE        MAE\n",
              "0        LinerRegression  0.723565   7125.863887  53.870927\n",
              "1     RidgeRegression_CV  0.723000   7135.880000  53.560456\n",
              "2                LassoCV  0.723000   7131.430000  53.339578\n",
              "3  RandomForestRegressor  0.732000   6899.982000  48.700000\n",
              "4     Gradieent_Boosting  0.289000  10738.816000  51.661000\n",
              "5             Bagging_CV  0.719000   7242.580000  49.512000"
            ],
            "text/html": [
              "\n",
              "  <div id=\"df-a01658ed-29e3-401d-9608-4b2163654b07\">\n",
              "    <div class=\"colab-df-container\">\n",
              "      <div>\n",
              "<style scoped>\n",
              "    .dataframe tbody tr th:only-of-type {\n",
              "        vertical-align: middle;\n",
              "    }\n",
              "\n",
              "    .dataframe tbody tr th {\n",
              "        vertical-align: top;\n",
              "    }\n",
              "\n",
              "    .dataframe thead th {\n",
              "        text-align: right;\n",
              "    }\n",
              "</style>\n",
              "<table border=\"1\" class=\"dataframe\">\n",
              "  <thead>\n",
              "    <tr style=\"text-align: right;\">\n",
              "      <th></th>\n",
              "      <th>Models</th>\n",
              "      <th>R2</th>\n",
              "      <th>MSE</th>\n",
              "      <th>MAE</th>\n",
              "    </tr>\n",
              "  </thead>\n",
              "  <tbody>\n",
              "    <tr>\n",
              "      <th>0</th>\n",
              "      <td>LinerRegression</td>\n",
              "      <td>0.723565</td>\n",
              "      <td>7125.863887</td>\n",
              "      <td>53.870927</td>\n",
              "    </tr>\n",
              "    <tr>\n",
              "      <th>1</th>\n",
              "      <td>RidgeRegression_CV</td>\n",
              "      <td>0.723000</td>\n",
              "      <td>7135.880000</td>\n",
              "      <td>53.560456</td>\n",
              "    </tr>\n",
              "    <tr>\n",
              "      <th>2</th>\n",
              "      <td>LassoCV</td>\n",
              "      <td>0.723000</td>\n",
              "      <td>7131.430000</td>\n",
              "      <td>53.339578</td>\n",
              "    </tr>\n",
              "    <tr>\n",
              "      <th>3</th>\n",
              "      <td>RandomForestRegressor</td>\n",
              "      <td>0.732000</td>\n",
              "      <td>6899.982000</td>\n",
              "      <td>48.700000</td>\n",
              "    </tr>\n",
              "    <tr>\n",
              "      <th>4</th>\n",
              "      <td>Gradieent_Boosting</td>\n",
              "      <td>0.289000</td>\n",
              "      <td>10738.816000</td>\n",
              "      <td>51.661000</td>\n",
              "    </tr>\n",
              "    <tr>\n",
              "      <th>5</th>\n",
              "      <td>Bagging_CV</td>\n",
              "      <td>0.719000</td>\n",
              "      <td>7242.580000</td>\n",
              "      <td>49.512000</td>\n",
              "    </tr>\n",
              "  </tbody>\n",
              "</table>\n",
              "</div>\n",
              "      <button class=\"colab-df-convert\" onclick=\"convertToInteractive('df-a01658ed-29e3-401d-9608-4b2163654b07')\"\n",
              "              title=\"Convert this dataframe to an interactive table.\"\n",
              "              style=\"display:none;\">\n",
              "        \n",
              "  <svg xmlns=\"http://www.w3.org/2000/svg\" height=\"24px\"viewBox=\"0 0 24 24\"\n",
              "       width=\"24px\">\n",
              "    <path d=\"M0 0h24v24H0V0z\" fill=\"none\"/>\n",
              "    <path d=\"M18.56 5.44l.94 2.06.94-2.06 2.06-.94-2.06-.94-.94-2.06-.94 2.06-2.06.94zm-11 1L8.5 8.5l.94-2.06 2.06-.94-2.06-.94L8.5 2.5l-.94 2.06-2.06.94zm10 10l.94 2.06.94-2.06 2.06-.94-2.06-.94-.94-2.06-.94 2.06-2.06.94z\"/><path d=\"M17.41 7.96l-1.37-1.37c-.4-.4-.92-.59-1.43-.59-.52 0-1.04.2-1.43.59L10.3 9.45l-7.72 7.72c-.78.78-.78 2.05 0 2.83L4 21.41c.39.39.9.59 1.41.59.51 0 1.02-.2 1.41-.59l7.78-7.78 2.81-2.81c.8-.78.8-2.07 0-2.86zM5.41 20L4 18.59l7.72-7.72 1.47 1.35L5.41 20z\"/>\n",
              "  </svg>\n",
              "      </button>\n",
              "      \n",
              "  <style>\n",
              "    .colab-df-container {\n",
              "      display:flex;\n",
              "      flex-wrap:wrap;\n",
              "      gap: 12px;\n",
              "    }\n",
              "\n",
              "    .colab-df-convert {\n",
              "      background-color: #E8F0FE;\n",
              "      border: none;\n",
              "      border-radius: 50%;\n",
              "      cursor: pointer;\n",
              "      display: none;\n",
              "      fill: #1967D2;\n",
              "      height: 32px;\n",
              "      padding: 0 0 0 0;\n",
              "      width: 32px;\n",
              "    }\n",
              "\n",
              "    .colab-df-convert:hover {\n",
              "      background-color: #E2EBFA;\n",
              "      box-shadow: 0px 1px 2px rgba(60, 64, 67, 0.3), 0px 1px 3px 1px rgba(60, 64, 67, 0.15);\n",
              "      fill: #174EA6;\n",
              "    }\n",
              "\n",
              "    [theme=dark] .colab-df-convert {\n",
              "      background-color: #3B4455;\n",
              "      fill: #D2E3FC;\n",
              "    }\n",
              "\n",
              "    [theme=dark] .colab-df-convert:hover {\n",
              "      background-color: #434B5C;\n",
              "      box-shadow: 0px 1px 3px 1px rgba(0, 0, 0, 0.15);\n",
              "      filter: drop-shadow(0px 1px 2px rgba(0, 0, 0, 0.3));\n",
              "      fill: #FFFFFF;\n",
              "    }\n",
              "  </style>\n",
              "\n",
              "      <script>\n",
              "        const buttonEl =\n",
              "          document.querySelector('#df-a01658ed-29e3-401d-9608-4b2163654b07 button.colab-df-convert');\n",
              "        buttonEl.style.display =\n",
              "          google.colab.kernel.accessAllowed ? 'block' : 'none';\n",
              "\n",
              "        async function convertToInteractive(key) {\n",
              "          const element = document.querySelector('#df-a01658ed-29e3-401d-9608-4b2163654b07');\n",
              "          const dataTable =\n",
              "            await google.colab.kernel.invokeFunction('convertToInteractive',\n",
              "                                                     [key], {});\n",
              "          if (!dataTable) return;\n",
              "\n",
              "          const docLinkHtml = 'Like what you see? Visit the ' +\n",
              "            '<a target=\"_blank\" href=https://colab.research.google.com/notebooks/data_table.ipynb>data table notebook</a>'\n",
              "            + ' to learn more about interactive tables.';\n",
              "          element.innerHTML = '';\n",
              "          dataTable['output_type'] = 'display_data';\n",
              "          await google.colab.output.renderOutput(dataTable, element);\n",
              "          const docLink = document.createElement('div');\n",
              "          docLink.innerHTML = docLinkHtml;\n",
              "          element.appendChild(docLink);\n",
              "        }\n",
              "      </script>\n",
              "    </div>\n",
              "  </div>\n",
              "  "
            ]
          },
          "metadata": {},
          "execution_count": 109
        }
      ],
      "source": [
        "Results= pd.concat([Liner_Regression_results, Ridge_Regression_results, LassoCV_Results, RandomFR_results,Gradient_Boosting_results,baggingCV_results], axis=0, ignore_index=True)\n",
        "Results"
      ]
    },
    {
      "cell_type": "code",
      "execution_count": null,
      "metadata": {
        "colab": {
          "base_uri": "https://localhost:8080/"
        },
        "id": "zqMVsodJ3tXB",
        "outputId": "9e7a68b9-8b9d-4cce-940c-aa86d0b95316"
      },
      "outputs": [
        {
          "output_type": "stream",
          "name": "stderr",
          "text": [
            "/usr/local/lib/python3.7/dist-packages/seaborn/categorical.py:3750: UserWarning: The `size` parameter has been renamed to `height`; please update your code.\n",
            "  warnings.warn(msg, UserWarning)\n"
          ]
        },
        {
          "output_type": "execute_result",
          "data": {
            "text/plain": [
              "<seaborn.axisgrid.FacetGrid at 0x7f153819ba10>"
            ]
          },
          "metadata": {},
          "execution_count": 110
        },
        {
          "output_type": "display_data",
          "data": {
            "text/plain": [
              "<Figure size 864x432 with 1 Axes>"
            ],
            "image/png": "[encoded data removed]"
          },
          "metadata": {
            "needs_background": "light"
          }
        }
      ],
      "source": [
        "from matplotlib import rcParams\n",
        "\n",
        "sns.catplot(\n",
        "    data=Results, kind=\"bar\",\n",
        "    x=\"Models\", y=\"R2\", hue=\"Models\",\n",
        "    ci=\"sd\", palette=\"dark\", alpha=.6, height=6, dodge=False,size=6,aspect=2)"
      ]
    },
    {
      "cell_type": "markdown",
      "metadata": {
        "id": "olVYIeYJ3z1U"
      },
      "source": [
        "#Abstract"
      ]
    },
    {
      "cell_type": "markdown",
      "metadata": {
        "id": "KqOO27Le34Zi"
      },
      "source": [
        "**Goal**\n",
        "\n",
        "The Goal of this analysis is to create an efficient price predictor using supervised learning algorithms models. I hope that through this analysis helps airbnb property owners to better adjust their rate based on their properties attributes.\n",
        "\n",
        "**Data Overview**\n",
        "\n",
        "The data set that I will be utilizing for this analysis is from Airbnb’s New York metropolitan area. The shape of our data is 86009 thousand rows and 46 columns. It comprises 46 different variables; I will only include 36 of these variables which have been chosen based on their ability to predict the price of an Airbnb property in New york. In our analysis I had 5 different price predictors to choose from: Published Nightly rate, Average daily rate, Published Monthly rate, Published Weekly rate and Annual Revenue. I decided that Average Daily Rate(ADR) and Published Nightly Rate (PNR), would be the best predictors for our models.\n",
        "\n",
        "The ADR variable had 22617 missing values (26%), however instead of dropping these NAs I decided to feature engineer a value to replace them. First I identified the top recurring neighborhoods which accounted for 60% of the missing values in ADR: Williamsburg; Harlem; Brooklyn; Midtown; Bushwick; East Village; Upper West Side; Upper East Side; Crown Heights; Lower East Side; Astoria; Washington Heights.\n",
        "\n",
        "Then I took the mode of these values and the respective mean. The result I got from these calculations was 87.5, each NA value within ADR was replaced with this value. After this process I decided to drop the rest of the null values resulting in a sample size of 10038, which gives an additional 2471 samples from just dropping all null values (see: data6 vs data5). From this process I created the night_data dataset (relevant columns excluding ADR) and the ADR_data dataset (relevant columns excluding Published Nightly Rate), for their respective prediction models.\n",
        "\n",
        "Next I tested which dependent variable performed the best in a standard linear regression. The results were that Published Nightly Rate ( 𝑅2=0.723 ) out performed Average Daily Price ( 𝑅2=0.635 ). Our reasoning behind this is that perhaps I could have used a better method for feature engineering to get more similar results.\n",
        "\n",
        "I ran the rest of the models using the Principal Nightky Rate as the main dependent variable.\n",
        "\n",
        "**Summary**\n",
        "\n",
        "For the analysis of this data set, I have chosen to utilize 6 different supervised machine learning models to predict the price of an Airbnb property in New York. For our first model I have chosen a principal component analysis as a dimension reduction technique. From the PCA model I have been able to reduce the amount of linear relationships needed to represent our model down to 3 principal components, however this greatly reduces the predictive power of our models. I theorized that this might be due to the fact that PCA does not take into account classes of information, it purely looks at the variance of each feature.\n",
        "\n",
        "The second model I used was an OLS Regression technique to help understand the causal relationship between the features of a property on the published nightly rate. The R Squared from this model is 0.72 ~ 72.3%.\n",
        "\n",
        "Our third model utilizes Ridge Regression to combat the issue of multicollinearity. The R squared from this model is .72 ~ 72.3%. In the fourth model I use a Lasso Regression to help shrink the possibility of overfitting. The R squared from this model is 0.723 ~ 72.3%.\n",
        "\n",
        "The fourth model is a Random Forest regressor. This technique allows us to fit a number of classifying decisions on various sub-samples of the data set using averaging to improve the accuracy and control for overfitting. The R squared for this model is 0.732 ~ 73.2%.\n",
        "\n",
        "In the fifth model I use a Gradient boosting model. This model allows for weaker signals to show throughout the model, this also shrinks the data set controlling for overfitting. The R squared for this model is 0.58~58%.\n",
        "\n",
        "The sixth model I have chosen is Bagging in order to help with bias-variance-trade-off. The R squared for this model is 0.719 ~71%.\n",
        "\n",
        "After utilizing the 6 different supervised machine learning models I can conclude that the Random Forest regressor is the most efficient model for price prediction of an airbnb property in New York. Its ability to combine ensemble learning with a decision tree framework to create multiple randomly drawn decision trees from the data allowed for the model to be flexible enough to accurately predict Nightly rate. Information that shed light on the price setting controls set by owners and the different types of discounts given by owners based on seasonality. This information would help us better understand price setting for airbnb owners leading to a more accurate price prediction model."
      ]
    },
    {
      "cell_type": "markdown",
      "metadata": {
        "id": "vVCSGVr3Y6GN"
      },
      "source": [
        "# EDA"
      ]
    },
    {
      "cell_type": "code",
      "execution_count": null,
      "metadata": {
        "colab": {
          "base_uri": "https://localhost:8080/"
        },
        "id": "QwXw_b_gY8zH",
        "outputId": "dc4661db-adfb-4590-c689-42fd0b4e0790"
      },
      "outputs": [
        {
          "output_type": "execute_result",
          "data": {
            "text/plain": [
              "(7164, 46)"
            ]
          },
          "metadata": {},
          "execution_count": 111
        }
      ],
      "source": [
        "from numpy.lib.function_base import median\n",
        "from numpy.ma.core import mean\n",
        "Altpub=data[data['Published Nightly Rate'] <= 500].dropna()\n",
        "Altpub.shape"
      ]
    },
    {
      "cell_type": "code",
      "execution_count": null,
      "metadata": {
        "colab": {
          "base_uri": "https://localhost:8080/",
          "height": 387
        },
        "id": "mFQimK6RY89V",
        "outputId": "8ca782ff-c7ac-4404-c43d-83aea4e06abe"
      },
      "outputs": [
        {
          "output_type": "execute_result",
          "data": {
            "text/plain": [
              "<seaborn.axisgrid.FacetGrid at 0x7f1537fe1190>"
            ]
          },
          "metadata": {},
          "execution_count": 112
        },
        {
          "output_type": "display_data",
          "data": {
            "text/plain": [
              "<Figure size 360x360 with 1 Axes>"
            ],
            "image/png": "[encoded data removed]"
          },
          "metadata": {
            "needs_background": "light"
          }
        }
      ],
      "source": [
        "import seaborn as sns\n",
        "sns.displot(Altpub['Published Nightly Rate'], bins=82, kde=True)"
      ]
    },
    {
      "cell_type": "markdown",
      "metadata": {
        "id": "by8WgjsB1QJ4"
      },
      "source": [
        "Distribution of the Published nightly rate and the mean published nightly rate is around 150"
      ]
    },
    {
      "cell_type": "code",
      "execution_count": null,
      "metadata": {
        "colab": {
          "base_uri": "https://localhost:8080/"
        },
        "id": "Y26n896XZY6B",
        "outputId": "1d4f6412-ca23-468a-e77d-2f2c3bf21bc9"
      },
      "outputs": [
        {
          "output_type": "execute_result",
          "data": {
            "text/plain": [
              "<bound method Series.unique of 4            Kensington\n",
              "13          Murray Hill\n",
              "14         Clinton Hill\n",
              "42           Kensington\n",
              "59           Park Slope\n",
              "              ...      \n",
              "85268      Williamsburg\n",
              "85289        Park Slope\n",
              "85391          Kips Bay\n",
              "85435          Brooklyn\n",
              "85503    Sheepshead Bay\n",
              "Name: Neighborhood, Length: 7164, dtype: object>"
            ]
          },
          "metadata": {},
          "execution_count": 113
        }
      ],
      "source": [
        "Altpub['Neighborhood'].unique"
      ]
    },
    {
      "cell_type": "code",
      "execution_count": null,
      "metadata": {
        "id": "FEHCg7f5ZsqY"
      },
      "outputs": [],
      "source": [
        "new=Altpub[Altpub['Neighborhood'].isin(['Harlem','Williamsburg','Brooklyn','Midtown','East Village'])]"
      ]
    },
    {
      "cell_type": "code",
      "execution_count": null,
      "metadata": {
        "colab": {
          "base_uri": "https://localhost:8080/",
          "height": 313
        },
        "id": "or9siGHuY9BT",
        "outputId": "da56cc67-a2f0-41f5-aafb-15fc20a21c0d"
      },
      "outputs": [
        {
          "output_type": "execute_result",
          "data": {
            "text/plain": [
              "Text(0.5, 1.0, 'Distribution of Publised Nighly Rate prices for each neighberhood_group')"
            ]
          },
          "metadata": {},
          "execution_count": 115
        },
        {
          "output_type": "display_data",
          "data": {
            "text/plain": [
              "<Figure size 432x288 with 1 Axes>"
            ],
            "image/png": "[encoded data removed]"
          },
          "metadata": {
            "needs_background": "light"
          }
        }
      ],
      "source": [
        "Plot=sns.violinplot(data=new, x='Neighborhood', y='Published Nightly Rate')\n",
        "Plot.set_title('Distribution of Publised Nighly Rate prices for each neighberhood_group')"
      ]
    },
    {
      "cell_type": "markdown",
      "metadata": {
        "id": "_SkfCF_O1pIk"
      },
      "source": [
        "The violin plot shows the publised rate of the top 5 negibourhood(by count)"
      ]
    },
    {
      "cell_type": "code",
      "execution_count": null,
      "metadata": {
        "colab": {
          "base_uri": "https://localhost:8080/",
          "height": 719
        },
        "id": "GvCoYLDAY9FR",
        "outputId": "7e097590-441f-4b8c-8903-de1f982124e3"
      },
      "outputs": [
        {
          "output_type": "execute_result",
          "data": {
            "text/plain": [
              "<seaborn.axisgrid.FacetGrid at 0x7f1537dde090>"
            ]
          },
          "metadata": {},
          "execution_count": 116
        },
        {
          "output_type": "display_data",
          "data": {
            "text/plain": [
              "<Figure size 943.525x595.44 with 1 Axes>"
            ],
            "image/png": "[encoded data removed]"
          },
          "metadata": {
            "needs_background": "light"
          }
        }
      ],
      "source": [
        "Plot2=sns.catplot(x='Property Type', hue='Neighborhood', data=new, kind='count',height=8.27, aspect=11.7/8.27)\n",
        "Plot2.set_xticklabels(rotation=90)"
      ]
    },
    {
      "cell_type": "markdown",
      "metadata": {
        "id": "fOiCxeI31sUN"
      },
      "source": [
        "The barchart shows that majority of the property listed on the airbnb in the top 5 neighbourhood in New York majorly rent apartment"
      ]
    },
    {
      "cell_type": "code",
      "execution_count": null,
      "metadata": {
        "colab": {
          "base_uri": "https://localhost:8080/",
          "height": 419
        },
        "id": "PO_j4WXkaFxs",
        "outputId": "98efe2f7-4156-4ce9-b0c0-6f4ba4afb731"
      },
      "outputs": [
        {
          "output_type": "execute_result",
          "data": {
            "text/plain": [
              "<matplotlib.axes._subplots.AxesSubplot at 0x7f1537f6c5d0>"
            ]
          },
          "metadata": {},
          "execution_count": 117
        },
        {
          "output_type": "display_data",
          "data": {
            "text/plain": [
              "<Figure size 432x288 with 2 Axes>"
            ],
            "image/png": "[encoded data removed]"
          },
          "metadata": {
            "needs_background": "light"
          }
        }
      ],
      "source": [
        "b=Night_data.corr(method='kendall')\n",
        "sns.heatmap(b)\n"
      ]
    },
    {
      "cell_type": "markdown",
      "metadata": {
        "id": "cdrY78_d3_QV"
      },
      "source": [
        "Heat map of all the variables"
      ]
    },
    {
      "cell_type": "code",
      "execution_count": null,
      "metadata": {
        "id": "yYZyJWzibFzk"
      },
      "outputs": [],
      "source": [
        "Corr=Night_data.corr()"
      ]
    },
    {
      "cell_type": "code",
      "execution_count": null,
      "metadata": {
        "colab": {
          "base_uri": "https://localhost:8080/",
          "height": 287
        },
        "id": "OC-AAJ-waF1O",
        "outputId": "b3c3c67e-d173-446e-ba26-b8b1930c5a0a"
      },
      "outputs": [
        {
          "output_type": "execute_result",
          "data": {
            "text/plain": [
              "<matplotlib.axes._subplots.AxesSubplot at 0x7f1537ca0b90>"
            ]
          },
          "metadata": {},
          "execution_count": 119
        },
        {
          "output_type": "display_data",
          "data": {
            "text/plain": [
              "<Figure size 432x288 with 2 Axes>"
            ],
            "image/png": "[encoded data removed]"
          },
          "metadata": {
            "needs_background": "light"
          }
        }
      ],
      "source": [
        "x=Corr.iloc[:,[14]]\n",
        "sns.heatmap(x)"
      ]
    },
    {
      "cell_type": "markdown",
      "metadata": {
        "id": "fR8phB8BgmG-"
      },
      "source": [
        "Heat map of correlation of Published Nightly Rate"
      ]
    },
    {
      "cell_type": "code",
      "execution_count": null,
      "metadata": {
        "id": "t3XYj9BmZ4rh"
      },
      "outputs": [],
      "source": [
        "from wordcloud import WordCloud"
      ]
    },
    {
      "cell_type": "code",
      "execution_count": null,
      "metadata": {
        "colab": {
          "base_uri": "https://localhost:8080/",
          "height": 466
        },
        "id": "gTDEq8aSdcW1",
        "outputId": "400407f2-af44-46dc-98ec-63c50137e473"
      },
      "outputs": [
        {
          "output_type": "display_data",
          "data": {
            "text/plain": [
              "<Figure size 1080x576 with 1 Axes>"
            ],
            "image/png": "[encoded data removed]"
          },
          "metadata": {
            "needs_background": "light"
          }
        }
      ],
      "source": [
        "data18=data.dropna()\n",
        "plt.subplots(figsize=(15,8))\n",
        "wordcloud = WordCloud( background_color='white',width=1920,height=1080).generate(\" \".join(data18['Neighborhood']))\n",
        "plt.imshow(wordcloud)\n",
        "plt.axis('off')\n",
        "plt.savefig('neighbourhood.png')\n",
        "plt.show()"
      ]
    },
    {
      "cell_type": "markdown",
      "metadata": {
        "id": "meO56cZS2Vz8"
      },
      "source": [
        "The world cloud shows that Harlem, East Side, Williamsburg, Midtown and Brooklyn are the most recurring words in the neighbourhood coloum."
      ]
    }
  ],
  "metadata": {
    "colab": {
      "collapsed_sections": [
        "LqIISSwab_Mz",
        "uTs7-dEYcreS",
        "_JVeeUdJdXAu",
        "Mr9tFhZhwQRw",
        "bZeeCSkWwbcT",
        "g_YR-pjy4uU0",
        "hcSovBGBd4UB",
        "QY9hf73dey78",
        "ATo3COcq4Wz4",
        "D01759io7EA-",
        "HWQGnCSgkp8e"
      ],
      "name": "Airbnb New York_Priyal Shah (1).ipynb",
      "provenance": [],
      "include_colab_link": true
    },
    "kernelspec": {
      "display_name": "Python 3",
      "name": "python3"
    },
    "language_info": {
      "name": "python"
    }
  },
  "nbformat": 4,
  "nbformat_minor": 0
}